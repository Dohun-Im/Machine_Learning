{
 "cells": [
  {
   "cell_type": "code",
   "execution_count": 2,
   "id": "f716a80b-a756-4982-92c4-14cf1fa18ce3",
   "metadata": {},
   "outputs": [],
   "source": [
    "# 크롤링 통신을 하기 위해서\n",
    "import requests\n",
    "import json \n",
    "from pandas.io.json import json_normalize\n",
    "\n",
    "# 데이터 구조를 위해서\n",
    "import pandas as pd\n",
    "import numpy as np\n",
    "\n",
    "# 웹 크롤링을 위해서\n",
    "from bs4 import BeautifulSoup\n",
    "from selenium import webdriver\n",
    "\n",
    "# webdriver의 select와 key를 위해서\n",
    "from selenium.webdriver.support.ui import Select # select\n",
    "from selenium.webdriver.common.keys import Keys # key\n",
    "\n",
    "# 기타\n",
    "import time"
   ]
  },
  {
   "cell_type": "code",
   "execution_count": 5,
   "id": "5716a547-c622-4313-86fb-83cf8ba91a31",
   "metadata": {},
   "outputs": [
    {
     "name": "stderr",
     "output_type": "stream",
     "text": [
      "<ipython-input-5-acd701d28cff>:1: DeprecationWarning: executable_path has been deprecated, please pass in a Service object\n",
      "  driver = webdriver.Chrome('../../WebDriver/chromedriver')\n"
     ]
    }
   ],
   "source": [
    "driver = webdriver.Chrome('../../WebDriver/chromedriver')"
   ]
  },
  {
   "cell_type": "code",
   "execution_count": null,
   "id": "c3ee9ee8-10ea-43ef-959f-e8aeb8f0ac84",
   "metadata": {},
   "outputs": [],
   "source": []
  }
 ],
 "metadata": {
  "kernelspec": {
   "display_name": "Python 3",
   "language": "python",
   "name": "python3"
  },
  "language_info": {
   "codemirror_mode": {
    "name": "ipython",
    "version": 3
   },
   "file_extension": ".py",
   "mimetype": "text/x-python",
   "name": "python",
   "nbconvert_exporter": "python",
   "pygments_lexer": "ipython3",
   "version": "3.8.8"
  }
 },
 "nbformat": 4,
 "nbformat_minor": 5
}
