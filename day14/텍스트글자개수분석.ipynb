{
 "cells": [
  {
   "cell_type": "code",
   "execution_count": 1,
   "id": "53fa0cf8-a93d-4a94-b5d8-e49d4ce2c89b",
   "metadata": {},
   "outputs": [],
   "source": [
    "import nltk"
   ]
  },
  {
   "cell_type": "code",
   "execution_count": 2,
   "id": "612baa22-eaeb-4ede-a5d6-bda3c2dac574",
   "metadata": {},
   "outputs": [
    {
     "name": "stdout",
     "output_type": "stream",
     "text": [
      "showing info https://raw.githubusercontent.com/nltk/nltk_data/gh-pages/index.xml\n"
     ]
    },
    {
     "data": {
      "text/plain": [
       "True"
      ]
     },
     "execution_count": 2,
     "metadata": {},
     "output_type": "execute_result"
    }
   ],
   "source": [
    "# nltk.download()"
   ]
  },
  {
   "cell_type": "code",
   "execution_count": 51,
   "id": "f124ef05-a026-4c48-a275-32cc46a61324",
   "metadata": {},
   "outputs": [],
   "source": [
    "import pandas as pd\n",
    "import matplotlib.pyplot as plt\n",
    "%matplotlib inline\n",
    "\n",
    "file = open('bts.txt', encoding='utf8')\n",
    "a = file.read()"
   ]
  },
  {
   "cell_type": "code",
   "execution_count": 52,
   "id": "d00ff1ab-9364-4ea3-9115-6e5c53d1b9c9",
   "metadata": {
    "collapsed": true,
    "jupyter": {
     "outputs_hidden": true
    },
    "tags": []
   },
   "outputs": [
    {
     "data": {
      "text/plain": [
       "'BTS ruled the night at 2021 Mnet Asian Music Awards on Saturday even without attending, as the K-pop megastars nabbed a total of nine trophies, including four grand prizes.\\n\\nThe event, held at CJ ENM Content Studio in Paju, Gyeonggi Province, was conducted in person for the first time in two years since the COVID-19 outbreak.\\n\\nAfter making history at the American Music Awards last month as the first Asian act to grab the top honor, BTS extended their winning streak, taking home all four main prizes of 2021 MAMA. The septet was named artist of the year, worldwide icon of the year, won album of the year with “BE” and song of the year with “Butter.” This is the third straight year that BTS has swept all four top honors at MAMA since 2019.\\n\\nThe band also bagged best music video, best male group, best dance performance male, worldwide fans’ choice top10 and TikTok favorite moment.\\n\\nWith the members on vacation, the group delivered their acceptance speech through a taped video message.\\n\\n“This year, we endeavored to make various musical attempts in order to create sound that could console and empower people who are enduring a hard time. We’re grateful that the music in which we poured our hearts is being enjoyed and empathized by others,” the group said, offering gratitude to their fans, Army.\\n\\nHybe founder and Chairman Bang Si-hyuk, the mastermind behind the success of the group, was honored as best executive producer of the year.\\n\\n\\n2021 Mnet Asian Music Awards takes place in CJ ENM Content Studio in Paju, Gyeonggi Province, on Saturday. (CJ ENM)\\n2021 Mnet Asian Music Awards takes place in CJ ENM Content Studio in Paju, Gyeonggi Province, on Saturday. (CJ ENM)\\n\\n2021 Mnet Asian Music Awards takes place in CJ ENM Content Studio in Paju, Gyeonggi Province, on Saturday. (CJ ENM)\\n2021 Mnet Asian Music Awards takes place in CJ ENM Content Studio in Paju, Gyeonggi Province, on Saturday. (CJ ENM)\\n\\nNew artist of the year awards went to aespa and Enhypen. aespa, who was also named the best dance performance female group, said, “It’s our first time receiving an award in front of our fans. Rookie awards can only be won once after debut, and we’re thrilled to accept it in our fans’ presence.”\\n\\nTwice won the best female group title, Blackpink’s Rosé, the best dance performance solo, and Exo’s Baekhyun, the best male artist. IU scooped three trophies: best female artist, best vocal performance and best collaboration for her duet song “Nakka” with Akmu.\\n\\nThis year’s edition of MAMA took place under the slogan “Make Some Noise,” to celebrate the return of audiences to the music scene in almost two years. K-pop diva Lee Hyo-ri went onstage as the first female host of the annual awards since MAMA’s launch in 2009. Lee teamed up with crew leaders of popular Mnet dance show “Street Woman Fighter” to decorate the night’s finale stage. \\n\\nA star-studded line-up of performers, including Tomorrow X Together, Itzy, NCT U, Enhypen, Ateez and Stray Kids, came together Saturday to put on a jam-packed show for the audiences. British singer-songwriter Ed Sheeran joined the show through pre-recorded footage, while 11-piece boy band Wanna One made a long-anticipated reunion on stage in two years.\\n\\n2021 Mnet Asian Music Awards takes place in CJ ENM Content Studio in Paju, Gyeonggi Province, on Saturday. (CJ ENM)\\n2021 Mnet Asian Music Awards takes place in CJ ENM Content Studio in Paju, Gyeonggi Province, on Saturday. (CJ ENM)\\n \\n2021 Mnet Asian Music Awards takes place in CJ ENM Content Studio in Paju, Gyeonggi Province, on Saturday. (CJ ENM)\\n2021 Mnet Asian Music Awards takes place in CJ ENM Content Studio in Paju, Gyeonggi Province, on Saturday. (CJ ENM)\\n\\n2021 Mnet Asian Music Awards takes place in CJ ENM Content Studio in Paju, Gyeonggi Province, on Saturday. (CJ ENM)\\n2021 Mnet Asian Music Awards takes place in CJ ENM Content Studio in Paju, Gyeonggi Province, on Saturday. (CJ ENM)\\n\\n\\nMAMA also invited some of the biggest names in entertainment to present the awards, including stars Lee Jung-jae and Ha Sung-tae of the sensational Netflix series “Squid Game,” actor Song Joong-ki, singer-actor Rain and members of Girls’ Generation, Tiffany Young and Choi Soo-young.\\n\\nOrganizer CJ ENM joined hands with Apple Music this year to incorporate the streaming platform’s data as part of the judging criteria and to allow the public to vote in categories such as worldwide fans’ choice top10 and worldwide icon of the year. Those making the fans’ top 10 list include Stray Kids, NCT Dream, NCT 127, Enhypen, TXT, BTS, Blackpink’s Lisa, Seventeen, Treasure and Twice.\\n\\nKicking off in 1999 as the Mnet Video Music Awards, the event was renamed as MAMA in 2009 to expand its outreach in Asia. Before the global COVID-19 pandemic, MAMA was held annually in various locations around Asia, including Hong Kong, Singapore and Tokyo. This year, the event was livestreamed to over 200 countries online.\\nbts bts bts bts bts bts bts bts bts'"
      ]
     },
     "execution_count": 52,
     "metadata": {},
     "output_type": "execute_result"
    }
   ],
   "source": [
    "a"
   ]
  },
  {
   "cell_type": "code",
   "execution_count": 53,
   "id": "a4dc9fbd-4680-4d00-941a-cc7196fa5895",
   "metadata": {
    "collapsed": true,
    "jupyter": {
     "outputs_hidden": true
    },
    "tags": []
   },
   "outputs": [
    {
     "name": "stdout",
     "output_type": "stream",
     "text": [
      "It\n",
      "so\n",
      "far\n",
      "A\n",
      "The\n",
      "in\n",
      "of\n",
      "on\n",
      "until\n",
      "the\n",
      "at\n",
      "as\n",
      "a\n",
      "to\n",
      "we're\n",
      "(cj\n",
      "enm)\n",
      "it's\n",
      "an\n",
      "\n"
     ]
    }
   ],
   "source": [
    "for line in open('stopwords.txt'):\n",
    "    print(line.strip())"
   ]
  },
  {
   "cell_type": "code",
   "execution_count": 54,
   "id": "7f48e13e-1f53-4212-9131-fe5bcaccb3ef",
   "metadata": {},
   "outputs": [],
   "source": [
    "# collections\n",
    "# list(순서), dictionary(키:값),\n",
    "# tuple(순서, 읽기전용), set(중복 x)"
   ]
  },
  {
   "cell_type": "code",
   "execution_count": 55,
   "id": "22816c42-b117-4607-92b9-0d59b4ffada5",
   "metadata": {
    "collapsed": true,
    "jupyter": {
     "outputs_hidden": true
    },
    "tags": []
   },
   "outputs": [
    {
     "data": {
      "text/plain": [
       "{'',\n",
       " '(cj',\n",
       " 'A',\n",
       " 'It',\n",
       " 'The',\n",
       " 'a',\n",
       " 'an',\n",
       " 'as',\n",
       " 'at',\n",
       " 'enm)',\n",
       " 'far',\n",
       " 'in',\n",
       " \"it's\",\n",
       " 'of',\n",
       " 'on',\n",
       " 'so',\n",
       " 'the',\n",
       " 'to',\n",
       " 'until',\n",
       " \"we're\"}"
      ]
     },
     "execution_count": 55,
     "metadata": {},
     "output_type": "execute_result"
    }
   ],
   "source": [
    "stopwords = set(line.strip() for line in open('stopwords.txt')) #익명함수, 클러져\n",
    "stopwords "
   ]
  },
  {
   "cell_type": "code",
   "execution_count": 56,
   "id": "e6302f00-38d5-4452-8ebb-b3098d7d6db6",
   "metadata": {
    "collapsed": true,
    "jupyter": {
     "outputs_hidden": true
    },
    "tags": []
   },
   "outputs": [
    {
     "data": {
      "text/plain": [
       "{'',\n",
       " '(cj',\n",
       " '2021',\n",
       " 'A',\n",
       " 'It',\n",
       " 'The',\n",
       " 'a',\n",
       " 'an',\n",
       " 'and',\n",
       " 'as',\n",
       " 'at',\n",
       " 'enm)',\n",
       " 'far',\n",
       " 'in',\n",
       " \"it's\",\n",
       " 'mrs',\n",
       " 'of',\n",
       " 'on',\n",
       " 'one',\n",
       " 'so',\n",
       " 'the',\n",
       " 'to',\n",
       " 'tomr',\n",
       " 'two',\n",
       " 'until',\n",
       " \"we're\"}"
      ]
     },
     "execution_count": 56,
     "metadata": {},
     "output_type": "execute_result"
    }
   ],
   "source": [
    "stopwords = stopwords.union(set(['2021','and','the','to''mr','mrs','one','two'])) #union = 합집합\n",
    "stopwords                                                #stopwords에 합집합으로 단어 추가"
   ]
  },
  {
   "cell_type": "code",
   "execution_count": 57,
   "id": "76ca472f-5f34-447c-9125-a07f77ccee5e",
   "metadata": {},
   "outputs": [],
   "source": [
    "wordcount = {}\n",
    "for word in a.lower().split():\n",
    "    word = word.replace(\".\",\"\")\n",
    "    word = word.replace(\",\",\"\")\n",
    "    word = word.replace(\":\",\"\")\n",
    "    word = word.replace(\"''\\''\",\"\")\n",
    "    word = word.replace(\"*\",\"\")\n",
    "    \n",
    "    if word not in stopwords:\n",
    "        if word not in wordcount:\n",
    "            wordcount[word] = 1\n",
    "        else:\n",
    "            wordcount[word] += 1        "
   ]
  },
  {
   "cell_type": "code",
   "execution_count": 58,
   "id": "ba4194b8-08d5-4e39-9537-13b36783bbc7",
   "metadata": {
    "collapsed": true,
    "jupyter": {
     "outputs_hidden": true
    },
    "tags": []
   },
   "outputs": [
    {
     "data": {
      "text/plain": [
       "{'bts': 13,\n",
       " 'ruled': 1,\n",
       " 'night': 1,\n",
       " 'mnet': 13,\n",
       " 'asian': 12,\n",
       " 'music': 17,\n",
       " 'awards': 17,\n",
       " 'saturday': 12,\n",
       " 'even': 1,\n",
       " 'without': 1,\n",
       " 'attending': 1,\n",
       " 'k-pop': 2,\n",
       " 'megastars': 1,\n",
       " 'nabbed': 1,\n",
       " 'total': 1,\n",
       " 'nine': 1,\n",
       " 'trophies': 2,\n",
       " 'including': 4,\n",
       " 'four': 3,\n",
       " 'grand': 1,\n",
       " 'prizes': 2,\n",
       " 'event': 3,\n",
       " 'held': 2,\n",
       " 'cj': 12,\n",
       " 'enm': 12,\n",
       " 'content': 11,\n",
       " 'studio': 11,\n",
       " 'paju': 11,\n",
       " 'gyeonggi': 11,\n",
       " 'province': 11,\n",
       " 'was': 7,\n",
       " 'conducted': 1,\n",
       " 'person': 1,\n",
       " 'for': 3,\n",
       " 'first': 4,\n",
       " 'time': 3,\n",
       " 'years': 3,\n",
       " 'since': 3,\n",
       " 'covid-19': 2,\n",
       " 'outbreak': 1,\n",
       " 'after': 2,\n",
       " 'making': 2,\n",
       " 'history': 1,\n",
       " 'american': 1,\n",
       " 'last': 1,\n",
       " 'month': 1,\n",
       " 'act': 1,\n",
       " 'grab': 1,\n",
       " 'top': 3,\n",
       " 'honor': 1,\n",
       " 'extended': 1,\n",
       " 'their': 3,\n",
       " 'winning': 1,\n",
       " 'streak': 1,\n",
       " 'taking': 1,\n",
       " 'home': 1,\n",
       " 'all': 2,\n",
       " 'main': 1,\n",
       " 'mama': 6,\n",
       " 'septet': 1,\n",
       " 'named': 2,\n",
       " 'artist': 4,\n",
       " 'year': 11,\n",
       " 'worldwide': 4,\n",
       " 'icon': 2,\n",
       " 'won': 3,\n",
       " 'album': 1,\n",
       " 'with': 6,\n",
       " '“be”': 1,\n",
       " 'song': 3,\n",
       " '“butter”': 1,\n",
       " 'this': 4,\n",
       " 'is': 2,\n",
       " 'third': 1,\n",
       " 'straight': 1,\n",
       " 'that': 3,\n",
       " 'has': 1,\n",
       " 'swept': 1,\n",
       " 'honors': 1,\n",
       " '2019': 1,\n",
       " 'band': 2,\n",
       " 'also': 3,\n",
       " 'bagged': 1,\n",
       " 'best': 11,\n",
       " 'video': 3,\n",
       " 'male': 3,\n",
       " 'group': 6,\n",
       " 'dance': 4,\n",
       " 'performance': 4,\n",
       " 'fans’': 4,\n",
       " 'choice': 2,\n",
       " 'top10': 2,\n",
       " 'tiktok': 1,\n",
       " 'favorite': 1,\n",
       " 'moment': 1,\n",
       " 'members': 2,\n",
       " 'vacation': 1,\n",
       " 'delivered': 1,\n",
       " 'acceptance': 1,\n",
       " 'speech': 1,\n",
       " 'through': 2,\n",
       " 'taped': 1,\n",
       " 'message': 1,\n",
       " '“this': 1,\n",
       " 'we': 2,\n",
       " 'endeavored': 1,\n",
       " 'make': 1,\n",
       " 'various': 2,\n",
       " 'musical': 1,\n",
       " 'attempts': 1,\n",
       " 'order': 1,\n",
       " 'create': 1,\n",
       " 'sound': 1,\n",
       " 'could': 1,\n",
       " 'console': 1,\n",
       " 'empower': 1,\n",
       " 'people': 1,\n",
       " 'who': 2,\n",
       " 'are': 1,\n",
       " 'enduring': 1,\n",
       " 'hard': 1,\n",
       " 'we’re': 2,\n",
       " 'grateful': 1,\n",
       " 'which': 1,\n",
       " 'poured': 1,\n",
       " 'our': 4,\n",
       " 'hearts': 1,\n",
       " 'being': 1,\n",
       " 'enjoyed': 1,\n",
       " 'empathized': 1,\n",
       " 'by': 1,\n",
       " 'others”': 1,\n",
       " 'said': 2,\n",
       " 'offering': 1,\n",
       " 'gratitude': 1,\n",
       " 'fans': 2,\n",
       " 'army': 1,\n",
       " 'hybe': 1,\n",
       " 'founder': 1,\n",
       " 'chairman': 1,\n",
       " 'bang': 1,\n",
       " 'si-hyuk': 1,\n",
       " 'mastermind': 1,\n",
       " 'behind': 1,\n",
       " 'success': 1,\n",
       " 'honored': 1,\n",
       " 'executive': 1,\n",
       " 'producer': 1,\n",
       " 'takes': 10,\n",
       " 'place': 11,\n",
       " 'new': 1,\n",
       " 'went': 2,\n",
       " 'aespa': 2,\n",
       " 'enhypen': 3,\n",
       " 'female': 4,\n",
       " '“it’s': 1,\n",
       " 'receiving': 1,\n",
       " 'award': 1,\n",
       " 'front': 1,\n",
       " 'rookie': 1,\n",
       " 'can': 1,\n",
       " 'only': 1,\n",
       " 'be': 1,\n",
       " 'once': 1,\n",
       " 'debut': 1,\n",
       " 'thrilled': 1,\n",
       " 'accept': 1,\n",
       " 'it': 1,\n",
       " 'presence”': 1,\n",
       " 'twice': 2,\n",
       " 'title': 1,\n",
       " 'blackpink’s': 2,\n",
       " 'rosé': 1,\n",
       " 'solo': 1,\n",
       " 'exo’s': 1,\n",
       " 'baekhyun': 1,\n",
       " 'iu': 1,\n",
       " 'scooped': 1,\n",
       " 'three': 1,\n",
       " 'vocal': 1,\n",
       " 'collaboration': 1,\n",
       " 'her': 1,\n",
       " 'duet': 1,\n",
       " '“nakka”': 1,\n",
       " 'akmu': 1,\n",
       " 'year’s': 1,\n",
       " 'edition': 1,\n",
       " 'took': 1,\n",
       " 'under': 1,\n",
       " 'slogan': 1,\n",
       " '“make': 1,\n",
       " 'some': 2,\n",
       " 'noise”': 1,\n",
       " 'celebrate': 1,\n",
       " 'return': 1,\n",
       " 'audiences': 2,\n",
       " 'scene': 1,\n",
       " 'almost': 1,\n",
       " 'diva': 1,\n",
       " 'lee': 3,\n",
       " 'hyo-ri': 1,\n",
       " 'onstage': 1,\n",
       " 'host': 1,\n",
       " 'annual': 1,\n",
       " 'mama’s': 1,\n",
       " 'launch': 1,\n",
       " '2009': 2,\n",
       " 'teamed': 1,\n",
       " 'up': 1,\n",
       " 'crew': 1,\n",
       " 'leaders': 1,\n",
       " 'popular': 1,\n",
       " 'show': 3,\n",
       " '“street': 1,\n",
       " 'woman': 1,\n",
       " 'fighter”': 1,\n",
       " 'decorate': 1,\n",
       " 'night’s': 1,\n",
       " 'finale': 1,\n",
       " 'stage': 2,\n",
       " 'star-studded': 1,\n",
       " 'line-up': 1,\n",
       " 'performers': 1,\n",
       " 'tomorrow': 1,\n",
       " 'x': 1,\n",
       " 'together': 2,\n",
       " 'itzy': 1,\n",
       " 'nct': 3,\n",
       " 'u': 1,\n",
       " 'ateez': 1,\n",
       " 'stray': 2,\n",
       " 'kids': 2,\n",
       " 'came': 1,\n",
       " 'put': 1,\n",
       " 'jam-packed': 1,\n",
       " 'british': 1,\n",
       " 'singer-songwriter': 1,\n",
       " 'ed': 1,\n",
       " 'sheeran': 1,\n",
       " 'joined': 2,\n",
       " 'pre-recorded': 1,\n",
       " 'footage': 1,\n",
       " 'while': 1,\n",
       " '11-piece': 1,\n",
       " 'boy': 1,\n",
       " 'wanna': 1,\n",
       " 'made': 1,\n",
       " 'long-anticipated': 1,\n",
       " 'reunion': 1,\n",
       " 'invited': 1,\n",
       " 'biggest': 1,\n",
       " 'names': 1,\n",
       " 'entertainment': 1,\n",
       " 'present': 1,\n",
       " 'stars': 1,\n",
       " 'jung-jae': 1,\n",
       " 'ha': 1,\n",
       " 'sung-tae': 1,\n",
       " 'sensational': 1,\n",
       " 'netflix': 1,\n",
       " 'series': 1,\n",
       " '“squid': 1,\n",
       " 'game”': 1,\n",
       " 'actor': 1,\n",
       " 'joong-ki': 1,\n",
       " 'singer-actor': 1,\n",
       " 'rain': 1,\n",
       " 'girls’': 1,\n",
       " 'generation': 1,\n",
       " 'tiffany': 1,\n",
       " 'young': 1,\n",
       " 'choi': 1,\n",
       " 'soo-young': 1,\n",
       " 'organizer': 1,\n",
       " 'hands': 1,\n",
       " 'apple': 1,\n",
       " 'incorporate': 1,\n",
       " 'streaming': 1,\n",
       " 'platform’s': 1,\n",
       " 'data': 1,\n",
       " 'part': 1,\n",
       " 'judging': 1,\n",
       " 'criteria': 1,\n",
       " 'allow': 1,\n",
       " 'public': 1,\n",
       " 'vote': 1,\n",
       " 'categories': 1,\n",
       " 'such': 1,\n",
       " 'those': 1,\n",
       " '10': 1,\n",
       " 'list': 1,\n",
       " 'include': 1,\n",
       " 'dream': 1,\n",
       " '127': 1,\n",
       " 'txt': 1,\n",
       " 'lisa': 1,\n",
       " 'seventeen': 1,\n",
       " 'treasure': 1,\n",
       " 'kicking': 1,\n",
       " 'off': 1,\n",
       " '1999': 1,\n",
       " 'renamed': 1,\n",
       " 'expand': 1,\n",
       " 'its': 1,\n",
       " 'outreach': 1,\n",
       " 'asia': 2,\n",
       " 'before': 1,\n",
       " 'global': 1,\n",
       " 'pandemic': 1,\n",
       " 'annually': 1,\n",
       " 'locations': 1,\n",
       " 'around': 1,\n",
       " 'hong': 1,\n",
       " 'kong': 1,\n",
       " 'singapore': 1,\n",
       " 'tokyo': 1,\n",
       " 'livestreamed': 1,\n",
       " 'over': 1,\n",
       " '200': 1,\n",
       " 'countries': 1,\n",
       " 'online': 1}"
      ]
     },
     "execution_count": 58,
     "metadata": {},
     "output_type": "execute_result"
    }
   ],
   "source": [
    "wordcount"
   ]
  },
  {
   "cell_type": "code",
   "execution_count": 59,
   "id": "695d49cd-d46b-490c-ad0e-d545d76a69ed",
   "metadata": {},
   "outputs": [],
   "source": [
    "import collections"
   ]
  },
  {
   "cell_type": "code",
   "execution_count": 60,
   "id": "61402523-2752-42b5-a102-7a470a518ffe",
   "metadata": {},
   "outputs": [],
   "source": [
    "word_counter = collections.Counter(wordcount)"
   ]
  },
  {
   "cell_type": "code",
   "execution_count": 61,
   "id": "e6af0eb2-5bd8-4c1a-ab4e-7e4f1e8925ee",
   "metadata": {},
   "outputs": [
    {
     "data": {
      "text/plain": [
       "[('music', 17), ('awards', 17), ('bts', 13)]"
      ]
     },
     "execution_count": 61,
     "metadata": {},
     "output_type": "execute_result"
    }
   ],
   "source": [
    "word_counter.most_common(3)"
   ]
  },
  {
   "cell_type": "code",
   "execution_count": 62,
   "id": "b61ff0fd-2f52-4b20-b269-d674c492a207",
   "metadata": {},
   "outputs": [
    {
     "name": "stdin",
     "output_type": "stream",
     "text": [
      "how many list>>  5\n"
     ]
    },
    {
     "data": {
      "text/plain": [
       "[('music', 17), ('awards', 17), ('bts', 13), ('mnet', 13), ('asian', 12)]"
      ]
     },
     "execution_count": 62,
     "metadata": {},
     "output_type": "execute_result"
    }
   ],
   "source": [
    "# n_print = int(input('how many list>> '))\n",
    "# word_counter.most_common(n_print)"
   ]
  },
  {
   "cell_type": "code",
   "execution_count": 63,
   "id": "43f7966d-1837-46da-acc4-ed2ebc92e1c6",
   "metadata": {},
   "outputs": [
    {
     "name": "stdin",
     "output_type": "stream",
     "text": [
      "how many list>>  5\n"
     ]
    },
    {
     "name": "stdout",
     "output_type": "stream",
     "text": [
      "music : 17\n",
      "awards : 17\n",
      "bts : 13\n",
      "mnet : 13\n",
      "asian : 12\n"
     ]
    }
   ],
   "source": [
    "n_print = int(input('how many list>> '))\n",
    "for word, count in word_counter.most_common(n_print):\n",
    "    print(word, ':', count)"
   ]
  },
  {
   "cell_type": "code",
   "execution_count": 64,
   "id": "44823c59-3813-4793-bd84-233649e7824d",
   "metadata": {},
   "outputs": [],
   "source": [
    "file.close()"
   ]
  },
  {
   "cell_type": "code",
   "execution_count": 65,
   "id": "101cf095-d97f-42e7-9228-bbf3c1b95331",
   "metadata": {},
   "outputs": [
    {
     "data": {
      "text/html": [
       "<div>\n",
       "<style scoped>\n",
       "    .dataframe tbody tr th:only-of-type {\n",
       "        vertical-align: middle;\n",
       "    }\n",
       "\n",
       "    .dataframe tbody tr th {\n",
       "        vertical-align: top;\n",
       "    }\n",
       "\n",
       "    .dataframe thead th {\n",
       "        text-align: right;\n",
       "    }\n",
       "</style>\n",
       "<table border=\"1\" class=\"dataframe\">\n",
       "  <thead>\n",
       "    <tr style=\"text-align: right;\">\n",
       "      <th></th>\n",
       "      <th>Word</th>\n",
       "      <th>Count</th>\n",
       "    </tr>\n",
       "  </thead>\n",
       "  <tbody>\n",
       "    <tr>\n",
       "      <th>0</th>\n",
       "      <td>music</td>\n",
       "      <td>17</td>\n",
       "    </tr>\n",
       "    <tr>\n",
       "      <th>1</th>\n",
       "      <td>awards</td>\n",
       "      <td>17</td>\n",
       "    </tr>\n",
       "    <tr>\n",
       "      <th>2</th>\n",
       "      <td>bts</td>\n",
       "      <td>13</td>\n",
       "    </tr>\n",
       "    <tr>\n",
       "      <th>3</th>\n",
       "      <td>mnet</td>\n",
       "      <td>13</td>\n",
       "    </tr>\n",
       "    <tr>\n",
       "      <th>4</th>\n",
       "      <td>asian</td>\n",
       "      <td>12</td>\n",
       "    </tr>\n",
       "  </tbody>\n",
       "</table>\n",
       "</div>"
      ],
      "text/plain": [
       "     Word  Count\n",
       "0   music     17\n",
       "1  awards     17\n",
       "2     bts     13\n",
       "3    mnet     13\n",
       "4   asian     12"
      ]
     },
     "execution_count": 65,
     "metadata": {},
     "output_type": "execute_result"
    }
   ],
   "source": [
    "lst = word_counter.most_common(n_print)\n",
    "df = pd.DataFrame(lst, columns = ['Word','Count'])\n",
    "df"
   ]
  },
  {
   "cell_type": "code",
   "execution_count": 66,
   "id": "07476f47-e418-482b-9d4d-45882666da9d",
   "metadata": {},
   "outputs": [
    {
     "data": {
      "text/plain": [
       "<AxesSubplot:xlabel='Word'>"
      ]
     },
     "execution_count": 66,
     "metadata": {},
     "output_type": "execute_result"
    },
    {
     "data": {
      "image/png": "[encoded data removed]",
      "text/plain": [
       "<Figure size 432x288 with 1 Axes>"
      ]
     },
     "metadata": {
      "needs_background": "light"
     },
     "output_type": "display_data"
    }
   ],
   "source": [
    "df.plot.bar(x='Word',y='Count')"
   ]
  },
  {
   "cell_type": "code",
   "execution_count": null,
   "id": "6c346348-5d74-49ad-a33d-7cdef68054f2",
   "metadata": {},
   "outputs": [],
   "source": []
  }
 ],
 "metadata": {
  "kernelspec": {
   "display_name": "Python 3",
   "language": "python",
   "name": "python3"
  },
  "language_info": {
   "codemirror_mode": {
    "name": "ipython",
    "version": 3
   },
   "file_extension": ".py",
   "mimetype": "text/x-python",
   "name": "python",
   "nbconvert_exporter": "python",
   "pygments_lexer": "ipython3",
   "version": "3.8.8"
  }
 },
 "nbformat": 4,
 "nbformat_minor": 5
}
