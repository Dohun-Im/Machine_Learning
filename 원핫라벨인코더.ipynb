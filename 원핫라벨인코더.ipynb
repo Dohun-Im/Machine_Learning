{
  "nbformat": 4,
  "nbformat_minor": 5,
  "metadata": {
    "kernelspec": {
      "display_name": "Python 3",
      "language": "python",
      "name": "python3"
    },
    "language_info": {
      "codemirror_mode": {
        "name": "ipython",
        "version": 3
      },
      "file_extension": ".py",
      "mimetype": "text/x-python",
      "name": "python",
      "nbconvert_exporter": "python",
      "pygments_lexer": "ipython3",
      "version": "3.8.8"
    },
    "colab": {
      "name": "원핫라벨인코더.ipynb",
      "provenance": [],
      "include_colab_link": true
    }
  },
  "cells": [
    {
      "cell_type": "markdown",
      "metadata": {
        "id": "view-in-github",
        "colab_type": "text"
      },
      "source": [
        "<a href=\"https://colab.research.google.com/github/Dohun-Im/Machine_Learning/blob/master/%EC%9B%90%ED%95%AB%EB%9D%BC%EB%B2%A8%EC%9D%B8%EC%BD%94%EB%8D%94.ipynb\" target=\"_parent\"><img src=\"https://colab.research.google.com/assets/colab-badge.svg\" alt=\"Open In Colab\"/></a>"
      ]
    },
    {
      "cell_type": "code",
      "metadata": {
        "id": "c307a810"
      },
      "source": [
        "# 라벨링을 1,0으로 구분하면 경우에 따라 컬럼이 많이 늘어나서 메모리 상으로 비효율적"
      ],
      "id": "c307a810",
      "execution_count": null,
      "outputs": []
    },
    {
      "cell_type": "code",
      "metadata": {
        "id": "10ed4aa9"
      },
      "source": [
        "from sklearn.preprocessing import LabelEncoder\n",
        "import numpy as np\n",
        "import pandas as pd\n"
      ],
      "id": "10ed4aa9",
      "execution_count": null,
      "outputs": []
    },
    {
      "cell_type": "code",
      "metadata": {
        "id": "3df71c39",
        "outputId": "f6e31f24-ee7a-438b-ea38-2bdba6fddb4b"
      },
      "source": [
        "data = pd.Series(['apple','summer','spring'])\n",
        "data"
      ],
      "id": "3df71c39",
      "execution_count": null,
      "outputs": [
        {
          "data": {
            "text/plain": [
              "0     apple\n",
              "1    summer\n",
              "2    spring\n",
              "dtype: object"
            ]
          },
          "execution_count": 6,
          "metadata": {},
          "output_type": "execute_result"
        }
      ]
    },
    {
      "cell_type": "code",
      "metadata": {
        "id": "fb028846",
        "outputId": "04255b26-e74f-4080-acd6-49ae9f2bd71c"
      },
      "source": [
        "encoder = LabelEncoder()\n",
        "encoder.fit(data) #시리즈의 값들이 키테고리의 성격을 가진다."
      ],
      "id": "fb028846",
      "execution_count": null,
      "outputs": [
        {
          "data": {
            "text/plain": [
              "LabelEncoder()"
            ]
          },
          "execution_count": 7,
          "metadata": {},
          "output_type": "execute_result"
        }
      ]
    },
    {
      "cell_type": "code",
      "metadata": {
        "id": "d286c332",
        "outputId": "fad4bffc-068f-4564-8551-e08f2e59c17a"
      },
      "source": [
        "data"
      ],
      "id": "d286c332",
      "execution_count": null,
      "outputs": [
        {
          "data": {
            "text/plain": [
              "0     apple\n",
              "1    summer\n",
              "2    spring\n",
              "dtype: object"
            ]
          },
          "execution_count": 8,
          "metadata": {},
          "output_type": "execute_result"
        }
      ]
    },
    {
      "cell_type": "code",
      "metadata": {
        "id": "93125347",
        "outputId": "9699efa0-df00-40c5-f3ce-9321fc07c3d0"
      },
      "source": [
        "target = pd.Series(['apple','summer','summer','spring','spring'])\n",
        "target"
      ],
      "id": "93125347",
      "execution_count": null,
      "outputs": [
        {
          "data": {
            "text/plain": [
              "0     apple\n",
              "1    summer\n",
              "2    summer\n",
              "3    spring\n",
              "4    spring\n",
              "dtype: object"
            ]
          },
          "execution_count": 9,
          "metadata": {},
          "output_type": "execute_result"
        }
      ]
    },
    {
      "cell_type": "code",
      "metadata": {
        "id": "19ee0127",
        "outputId": "2ae43b79-29e1-4125-ffd0-fe4f7744b633"
      },
      "source": [
        "encoder.transform(target)"
      ],
      "id": "19ee0127",
      "execution_count": null,
      "outputs": [
        {
          "data": {
            "text/plain": [
              "array([0, 2, 2, 1, 1])"
            ]
          },
          "execution_count": 10,
          "metadata": {},
          "output_type": "execute_result"
        }
      ]
    },
    {
      "cell_type": "code",
      "metadata": {
        "id": "95631a62",
        "outputId": "88dee254-8887-4f68-a8ec-cd392c578819"
      },
      "source": [
        "type(target)"
      ],
      "id": "95631a62",
      "execution_count": null,
      "outputs": [
        {
          "data": {
            "text/plain": [
              "pandas.core.series.Series"
            ]
          },
          "execution_count": 14,
          "metadata": {},
          "output_type": "execute_result"
        }
      ]
    },
    {
      "cell_type": "code",
      "metadata": {
        "id": "834c2ac3",
        "outputId": "4ea463c9-8222-4099-e4a7-22757a8bbe34"
      },
      "source": [
        "target2 = encoder.transform(target)\n",
        "target2"
      ],
      "id": "834c2ac3",
      "execution_count": null,
      "outputs": [
        {
          "data": {
            "text/plain": [
              "array([0, 2, 2, 1, 1])"
            ]
          },
          "execution_count": 11,
          "metadata": {},
          "output_type": "execute_result"
        }
      ]
    },
    {
      "cell_type": "code",
      "metadata": {
        "id": "8b4dc1cc",
        "outputId": "851016fe-83fe-4e5c-9b1e-b8030727e5fd"
      },
      "source": [
        "type(target2)"
      ],
      "id": "8b4dc1cc",
      "execution_count": null,
      "outputs": [
        {
          "data": {
            "text/plain": [
              "numpy.ndarray"
            ]
          },
          "execution_count": 15,
          "metadata": {},
          "output_type": "execute_result"
        }
      ]
    },
    {
      "cell_type": "code",
      "metadata": {
        "id": "977d857b",
        "outputId": "b48f8208-2732-4452-8c38-bee8697c9d99"
      },
      "source": [
        "target3 = encoder.inverse_transform(target2)\n",
        "target3"
      ],
      "id": "977d857b",
      "execution_count": null,
      "outputs": [
        {
          "data": {
            "text/plain": [
              "array(['apple', 'summer', 'summer', 'spring', 'spring'], dtype=object)"
            ]
          },
          "execution_count": 12,
          "metadata": {},
          "output_type": "execute_result"
        }
      ]
    },
    {
      "cell_type": "code",
      "metadata": {
        "id": "d781d0d0"
      },
      "source": [
        "# 원핫 레코딩"
      ],
      "id": "d781d0d0",
      "execution_count": null,
      "outputs": []
    },
    {
      "cell_type": "code",
      "metadata": {
        "id": "073ba9d7",
        "outputId": "f49a51d7-d2ec-4f3a-ef61-d966264e0fad"
      },
      "source": [
        "data2 = pd.Series(['apple','summer','summer','spring','spring'])\n",
        "data2"
      ],
      "id": "073ba9d7",
      "execution_count": null,
      "outputs": [
        {
          "data": {
            "text/plain": [
              "0     apple\n",
              "1    summer\n",
              "2    summer\n",
              "3    spring\n",
              "4    spring\n",
              "dtype: object"
            ]
          },
          "execution_count": 16,
          "metadata": {},
          "output_type": "execute_result"
        }
      ]
    },
    {
      "cell_type": "code",
      "metadata": {
        "id": "747f3f54"
      },
      "source": [
        "data3 = pd.get_dummies(data2)"
      ],
      "id": "747f3f54",
      "execution_count": null,
      "outputs": []
    },
    {
      "cell_type": "code",
      "metadata": {
        "id": "4f95409d",
        "outputId": "792bfbba-6e15-45da-f9e7-4ae952179c81"
      },
      "source": [
        "data3"
      ],
      "id": "4f95409d",
      "execution_count": null,
      "outputs": [
        {
          "data": {
            "text/html": [
              "<div>\n",
              "<style scoped>\n",
              "    .dataframe tbody tr th:only-of-type {\n",
              "        vertical-align: middle;\n",
              "    }\n",
              "\n",
              "    .dataframe tbody tr th {\n",
              "        vertical-align: top;\n",
              "    }\n",
              "\n",
              "    .dataframe thead th {\n",
              "        text-align: right;\n",
              "    }\n",
              "</style>\n",
              "<table border=\"1\" class=\"dataframe\">\n",
              "  <thead>\n",
              "    <tr style=\"text-align: right;\">\n",
              "      <th></th>\n",
              "      <th>apple</th>\n",
              "      <th>spring</th>\n",
              "      <th>summer</th>\n",
              "    </tr>\n",
              "  </thead>\n",
              "  <tbody>\n",
              "    <tr>\n",
              "      <th>0</th>\n",
              "      <td>1</td>\n",
              "      <td>0</td>\n",
              "      <td>0</td>\n",
              "    </tr>\n",
              "    <tr>\n",
              "      <th>1</th>\n",
              "      <td>0</td>\n",
              "      <td>0</td>\n",
              "      <td>1</td>\n",
              "    </tr>\n",
              "    <tr>\n",
              "      <th>2</th>\n",
              "      <td>0</td>\n",
              "      <td>0</td>\n",
              "      <td>1</td>\n",
              "    </tr>\n",
              "    <tr>\n",
              "      <th>3</th>\n",
              "      <td>0</td>\n",
              "      <td>1</td>\n",
              "      <td>0</td>\n",
              "    </tr>\n",
              "    <tr>\n",
              "      <th>4</th>\n",
              "      <td>0</td>\n",
              "      <td>1</td>\n",
              "      <td>0</td>\n",
              "    </tr>\n",
              "  </tbody>\n",
              "</table>\n",
              "</div>"
            ],
            "text/plain": [
              "   apple  spring  summer\n",
              "0      1       0       0\n",
              "1      0       0       1\n",
              "2      0       0       1\n",
              "3      0       1       0\n",
              "4      0       1       0"
            ]
          },
          "execution_count": 18,
          "metadata": {},
          "output_type": "execute_result"
        }
      ]
    },
    {
      "cell_type": "code",
      "metadata": {
        "id": "9d8175c0"
      },
      "source": [
        "#===================="
      ],
      "id": "9d8175c0",
      "execution_count": null,
      "outputs": []
    },
    {
      "cell_type": "code",
      "metadata": {
        "id": "e8d00846"
      },
      "source": [
        "# 2개 컬럼"
      ],
      "id": "e8d00846",
      "execution_count": null,
      "outputs": []
    },
    {
      "cell_type": "code",
      "metadata": {
        "id": "56ad86a0"
      },
      "source": [
        "words = pd.Series(['apple','summer','summer','spring','spring'])\n",
        "hobby = pd.Series(['book','run','talk','coffee','song'])"
      ],
      "id": "56ad86a0",
      "execution_count": null,
      "outputs": []
    },
    {
      "cell_type": "code",
      "metadata": {
        "id": "8595ff5f",
        "outputId": "9816e886-1410-489a-c47f-e8b9f37b888d"
      },
      "source": [
        "df = pd.DataFrame({'words': words, 'hobby': hobby})\n",
        "df"
      ],
      "id": "8595ff5f",
      "execution_count": null,
      "outputs": [
        {
          "data": {
            "text/html": [
              "<div>\n",
              "<style scoped>\n",
              "    .dataframe tbody tr th:only-of-type {\n",
              "        vertical-align: middle;\n",
              "    }\n",
              "\n",
              "    .dataframe tbody tr th {\n",
              "        vertical-align: top;\n",
              "    }\n",
              "\n",
              "    .dataframe thead th {\n",
              "        text-align: right;\n",
              "    }\n",
              "</style>\n",
              "<table border=\"1\" class=\"dataframe\">\n",
              "  <thead>\n",
              "    <tr style=\"text-align: right;\">\n",
              "      <th></th>\n",
              "      <th>words</th>\n",
              "      <th>hobby</th>\n",
              "    </tr>\n",
              "  </thead>\n",
              "  <tbody>\n",
              "    <tr>\n",
              "      <th>0</th>\n",
              "      <td>apple</td>\n",
              "      <td>book</td>\n",
              "    </tr>\n",
              "    <tr>\n",
              "      <th>1</th>\n",
              "      <td>summer</td>\n",
              "      <td>run</td>\n",
              "    </tr>\n",
              "    <tr>\n",
              "      <th>2</th>\n",
              "      <td>summer</td>\n",
              "      <td>talk</td>\n",
              "    </tr>\n",
              "    <tr>\n",
              "      <th>3</th>\n",
              "      <td>spring</td>\n",
              "      <td>coffee</td>\n",
              "    </tr>\n",
              "    <tr>\n",
              "      <th>4</th>\n",
              "      <td>spring</td>\n",
              "      <td>song</td>\n",
              "    </tr>\n",
              "  </tbody>\n",
              "</table>\n",
              "</div>"
            ],
            "text/plain": [
              "    words   hobby\n",
              "0   apple    book\n",
              "1  summer     run\n",
              "2  summer    talk\n",
              "3  spring  coffee\n",
              "4  spring    song"
            ]
          },
          "execution_count": 20,
          "metadata": {},
          "output_type": "execute_result"
        }
      ]
    },
    {
      "cell_type": "code",
      "metadata": {
        "id": "e27133d5",
        "outputId": "1bc6d409-0d49-4851-e0f1-8bf6d56f55c0"
      },
      "source": [
        "columns = df.columns\n",
        "columns"
      ],
      "id": "e27133d5",
      "execution_count": null,
      "outputs": [
        {
          "data": {
            "text/plain": [
              "Index(['words', 'hobby'], dtype='object')"
            ]
          },
          "execution_count": 21,
          "metadata": {},
          "output_type": "execute_result"
        }
      ]
    },
    {
      "cell_type": "code",
      "metadata": {
        "id": "c682e348"
      },
      "source": [
        "encoder2 = LabelEncoder()"
      ],
      "id": "c682e348",
      "execution_count": null,
      "outputs": []
    },
    {
      "cell_type": "code",
      "metadata": {
        "id": "09838ed5"
      },
      "source": [
        "for col in columns:\n",
        "    df[col] = encoder2.fit_transform(df[col])"
      ],
      "id": "09838ed5",
      "execution_count": null,
      "outputs": []
    },
    {
      "cell_type": "code",
      "metadata": {
        "id": "859ce021",
        "outputId": "658bab2e-2280-4498-e22d-c5c36dd20c33"
      },
      "source": [
        "df"
      ],
      "id": "859ce021",
      "execution_count": null,
      "outputs": [
        {
          "data": {
            "text/html": [
              "<div>\n",
              "<style scoped>\n",
              "    .dataframe tbody tr th:only-of-type {\n",
              "        vertical-align: middle;\n",
              "    }\n",
              "\n",
              "    .dataframe tbody tr th {\n",
              "        vertical-align: top;\n",
              "    }\n",
              "\n",
              "    .dataframe thead th {\n",
              "        text-align: right;\n",
              "    }\n",
              "</style>\n",
              "<table border=\"1\" class=\"dataframe\">\n",
              "  <thead>\n",
              "    <tr style=\"text-align: right;\">\n",
              "      <th></th>\n",
              "      <th>words</th>\n",
              "      <th>hobby</th>\n",
              "    </tr>\n",
              "  </thead>\n",
              "  <tbody>\n",
              "    <tr>\n",
              "      <th>0</th>\n",
              "      <td>0</td>\n",
              "      <td>0</td>\n",
              "    </tr>\n",
              "    <tr>\n",
              "      <th>1</th>\n",
              "      <td>2</td>\n",
              "      <td>2</td>\n",
              "    </tr>\n",
              "    <tr>\n",
              "      <th>2</th>\n",
              "      <td>2</td>\n",
              "      <td>4</td>\n",
              "    </tr>\n",
              "    <tr>\n",
              "      <th>3</th>\n",
              "      <td>1</td>\n",
              "      <td>1</td>\n",
              "    </tr>\n",
              "    <tr>\n",
              "      <th>4</th>\n",
              "      <td>1</td>\n",
              "      <td>3</td>\n",
              "    </tr>\n",
              "  </tbody>\n",
              "</table>\n",
              "</div>"
            ],
            "text/plain": [
              "   words  hobby\n",
              "0      0      0\n",
              "1      2      2\n",
              "2      2      4\n",
              "3      1      1\n",
              "4      1      3"
            ]
          },
          "execution_count": 26,
          "metadata": {},
          "output_type": "execute_result"
        }
      ]
    },
    {
      "cell_type": "code",
      "metadata": {
        "id": "80f9b869"
      },
      "source": [
        "#=================================="
      ],
      "id": "80f9b869",
      "execution_count": null,
      "outputs": []
    },
    {
      "cell_type": "code",
      "metadata": {
        "id": "7bb13a86",
        "outputId": "b007d518-6f8b-43cd-d29c-9d305412cf51"
      },
      "source": [
        "df2 = pd.DataFrame({\"words\" : ['apple', 'summer', 'summer', 'spring', 'spring'], \n",
        "                    \"hobby\" : ['book', 'run','talk','coffee','song']})\n",
        "df2"
      ],
      "id": "7bb13a86",
      "execution_count": null,
      "outputs": [
        {
          "data": {
            "text/html": [
              "<div>\n",
              "<style scoped>\n",
              "    .dataframe tbody tr th:only-of-type {\n",
              "        vertical-align: middle;\n",
              "    }\n",
              "\n",
              "    .dataframe tbody tr th {\n",
              "        vertical-align: top;\n",
              "    }\n",
              "\n",
              "    .dataframe thead th {\n",
              "        text-align: right;\n",
              "    }\n",
              "</style>\n",
              "<table border=\"1\" class=\"dataframe\">\n",
              "  <thead>\n",
              "    <tr style=\"text-align: right;\">\n",
              "      <th></th>\n",
              "      <th>words</th>\n",
              "      <th>hobby</th>\n",
              "    </tr>\n",
              "  </thead>\n",
              "  <tbody>\n",
              "    <tr>\n",
              "      <th>0</th>\n",
              "      <td>apple</td>\n",
              "      <td>book</td>\n",
              "    </tr>\n",
              "    <tr>\n",
              "      <th>1</th>\n",
              "      <td>summer</td>\n",
              "      <td>run</td>\n",
              "    </tr>\n",
              "    <tr>\n",
              "      <th>2</th>\n",
              "      <td>summer</td>\n",
              "      <td>talk</td>\n",
              "    </tr>\n",
              "    <tr>\n",
              "      <th>3</th>\n",
              "      <td>spring</td>\n",
              "      <td>coffee</td>\n",
              "    </tr>\n",
              "    <tr>\n",
              "      <th>4</th>\n",
              "      <td>spring</td>\n",
              "      <td>song</td>\n",
              "    </tr>\n",
              "  </tbody>\n",
              "</table>\n",
              "</div>"
            ],
            "text/plain": [
              "    words   hobby\n",
              "0   apple    book\n",
              "1  summer     run\n",
              "2  summer    talk\n",
              "3  spring  coffee\n",
              "4  spring    song"
            ]
          },
          "execution_count": 27,
          "metadata": {},
          "output_type": "execute_result"
        }
      ]
    },
    {
      "cell_type": "code",
      "metadata": {
        "id": "01427298",
        "outputId": "881581b7-4b7d-4310-846c-6acfc177eddf"
      },
      "source": [
        "df2.info()"
      ],
      "id": "01427298",
      "execution_count": null,
      "outputs": [
        {
          "name": "stdout",
          "output_type": "stream",
          "text": [
            "<class 'pandas.core.frame.DataFrame'>\n",
            "RangeIndex: 5 entries, 0 to 4\n",
            "Data columns (total 2 columns):\n",
            " #   Column  Non-Null Count  Dtype \n",
            "---  ------  --------------  ----- \n",
            " 0   words   5 non-null      object\n",
            " 1   hobby   5 non-null      object\n",
            "dtypes: object(2)\n",
            "memory usage: 208.0+ bytes\n"
          ]
        }
      ]
    },
    {
      "cell_type": "code",
      "metadata": {
        "id": "e7ddf424"
      },
      "source": [
        "col = df2.columns"
      ],
      "id": "e7ddf424",
      "execution_count": null,
      "outputs": []
    },
    {
      "cell_type": "code",
      "metadata": {
        "id": "c8384817"
      },
      "source": [
        "for c in col:\n",
        "    df2[c] = df[c].astype('category')\n",
        "    "
      ],
      "id": "c8384817",
      "execution_count": null,
      "outputs": []
    },
    {
      "cell_type": "code",
      "metadata": {
        "id": "0cfe4606",
        "outputId": "01c7625a-6024-44c8-da01-fb0646bd5038"
      },
      "source": [
        "df2.info()"
      ],
      "id": "0cfe4606",
      "execution_count": null,
      "outputs": [
        {
          "name": "stdout",
          "output_type": "stream",
          "text": [
            "<class 'pandas.core.frame.DataFrame'>\n",
            "RangeIndex: 5 entries, 0 to 4\n",
            "Data columns (total 2 columns):\n",
            " #   Column  Non-Null Count  Dtype   \n",
            "---  ------  --------------  -----   \n",
            " 0   words   5 non-null      category\n",
            " 1   hobby   5 non-null      category\n",
            "dtypes: category(2)\n",
            "memory usage: 482.0 bytes\n"
          ]
        }
      ]
    },
    {
      "cell_type": "code",
      "metadata": {
        "id": "60f98334",
        "outputId": "bd2e4b53-d3fe-4fea-c341-4d8b6e13cda4"
      },
      "source": [
        "pd.get_dummies(df2)"
      ],
      "id": "60f98334",
      "execution_count": null,
      "outputs": [
        {
          "data": {
            "text/html": [
              "<div>\n",
              "<style scoped>\n",
              "    .dataframe tbody tr th:only-of-type {\n",
              "        vertical-align: middle;\n",
              "    }\n",
              "\n",
              "    .dataframe tbody tr th {\n",
              "        vertical-align: top;\n",
              "    }\n",
              "\n",
              "    .dataframe thead th {\n",
              "        text-align: right;\n",
              "    }\n",
              "</style>\n",
              "<table border=\"1\" class=\"dataframe\">\n",
              "  <thead>\n",
              "    <tr style=\"text-align: right;\">\n",
              "      <th></th>\n",
              "      <th>words_0</th>\n",
              "      <th>words_1</th>\n",
              "      <th>words_2</th>\n",
              "      <th>hobby_0</th>\n",
              "      <th>hobby_1</th>\n",
              "      <th>hobby_2</th>\n",
              "      <th>hobby_3</th>\n",
              "      <th>hobby_4</th>\n",
              "    </tr>\n",
              "  </thead>\n",
              "  <tbody>\n",
              "    <tr>\n",
              "      <th>0</th>\n",
              "      <td>1</td>\n",
              "      <td>0</td>\n",
              "      <td>0</td>\n",
              "      <td>1</td>\n",
              "      <td>0</td>\n",
              "      <td>0</td>\n",
              "      <td>0</td>\n",
              "      <td>0</td>\n",
              "    </tr>\n",
              "    <tr>\n",
              "      <th>1</th>\n",
              "      <td>0</td>\n",
              "      <td>0</td>\n",
              "      <td>1</td>\n",
              "      <td>0</td>\n",
              "      <td>0</td>\n",
              "      <td>1</td>\n",
              "      <td>0</td>\n",
              "      <td>0</td>\n",
              "    </tr>\n",
              "    <tr>\n",
              "      <th>2</th>\n",
              "      <td>0</td>\n",
              "      <td>0</td>\n",
              "      <td>1</td>\n",
              "      <td>0</td>\n",
              "      <td>0</td>\n",
              "      <td>0</td>\n",
              "      <td>0</td>\n",
              "      <td>1</td>\n",
              "    </tr>\n",
              "    <tr>\n",
              "      <th>3</th>\n",
              "      <td>0</td>\n",
              "      <td>1</td>\n",
              "      <td>0</td>\n",
              "      <td>0</td>\n",
              "      <td>1</td>\n",
              "      <td>0</td>\n",
              "      <td>0</td>\n",
              "      <td>0</td>\n",
              "    </tr>\n",
              "    <tr>\n",
              "      <th>4</th>\n",
              "      <td>0</td>\n",
              "      <td>1</td>\n",
              "      <td>0</td>\n",
              "      <td>0</td>\n",
              "      <td>0</td>\n",
              "      <td>0</td>\n",
              "      <td>1</td>\n",
              "      <td>0</td>\n",
              "    </tr>\n",
              "  </tbody>\n",
              "</table>\n",
              "</div>"
            ],
            "text/plain": [
              "   words_0  words_1  words_2  hobby_0  hobby_1  hobby_2  hobby_3  hobby_4\n",
              "0        1        0        0        1        0        0        0        0\n",
              "1        0        0        1        0        0        1        0        0\n",
              "2        0        0        1        0        0        0        0        1\n",
              "3        0        1        0        0        1        0        0        0\n",
              "4        0        1        0        0        0        0        1        0"
            ]
          },
          "execution_count": 35,
          "metadata": {},
          "output_type": "execute_result"
        }
      ]
    },
    {
      "cell_type": "code",
      "metadata": {
        "id": "43c3b334"
      },
      "source": [
        ""
      ],
      "id": "43c3b334",
      "execution_count": null,
      "outputs": []
    }
  ]
}