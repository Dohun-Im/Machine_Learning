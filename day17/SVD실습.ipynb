{
 "cells": [
  {
   "cell_type": "code",
   "execution_count": null,
   "id": "221e26e6-67d7-4915-8a78-3ebdbb4813cd",
   "metadata": {},
   "outputs": [],
   "source": [
    "# !pip install scikit-surprise"
   ]
  },
  {
   "cell_type": "code",
   "execution_count": 1,
   "id": "72ff70df-3956-4ea2-89d7-b0cafbbc07aa",
   "metadata": {},
   "outputs": [],
   "source": [
    "import surprise\n",
    "import pandas as pd\n",
    "import numpy as np"
   ]
  },
  {
   "cell_type": "code",
   "execution_count": 2,
   "id": "0dee0f24-4c13-47b3-a103-8de8ff55dc7f",
   "metadata": {},
   "outputs": [],
   "source": [
    "# 고유값 분해(행렬을 더 낮은 차원으로 분해)해서 \n",
    "# 다시 원본으로 살리면서 잠재적인 값을 추론하는 방법\n",
    "from surprise import SVD\n",
    "\n",
    "# SVD를 사용하기 위한 테이터셋을 만들어주는 클래스\n",
    "# 사용자, 아이템, 평점\n",
    "from surprise import Dataset\n",
    "\n",
    "# RMSE, MAE 등을 사용한 정확도 측정\n",
    "from surprise import accuracy\n",
    "\n",
    "# 훈련/검증 데이터 분류\n",
    "from surprise.model_selection import train_test_split"
   ]
  },
  {
   "cell_type": "code",
   "execution_count": 4,
   "id": "743520bd-3f68-4ba3-b2bb-ff4132d02d9a",
   "metadata": {},
   "outputs": [
    {
     "data": {
      "text/html": [
       "<div>\n",
       "<style scoped>\n",
       "    .dataframe tbody tr th:only-of-type {\n",
       "        vertical-align: middle;\n",
       "    }\n",
       "\n",
       "    .dataframe tbody tr th {\n",
       "        vertical-align: top;\n",
       "    }\n",
       "\n",
       "    .dataframe thead th {\n",
       "        text-align: right;\n",
       "    }\n",
       "</style>\n",
       "<table border=\"1\" class=\"dataframe\">\n",
       "  <thead>\n",
       "    <tr style=\"text-align: right;\">\n",
       "      <th></th>\n",
       "      <th>critic</th>\n",
       "      <th>title</th>\n",
       "      <th>rating</th>\n",
       "    </tr>\n",
       "  </thead>\n",
       "  <tbody>\n",
       "    <tr>\n",
       "      <th>0</th>\n",
       "      <td>Jack</td>\n",
       "      <td>Lady</td>\n",
       "      <td>3.0</td>\n",
       "    </tr>\n",
       "    <tr>\n",
       "      <th>1</th>\n",
       "      <td>Jack</td>\n",
       "      <td>Snakes</td>\n",
       "      <td>4.0</td>\n",
       "    </tr>\n",
       "    <tr>\n",
       "      <th>2</th>\n",
       "      <td>Jack</td>\n",
       "      <td>You Me</td>\n",
       "      <td>3.5</td>\n",
       "    </tr>\n",
       "    <tr>\n",
       "      <th>3</th>\n",
       "      <td>Jack</td>\n",
       "      <td>Superman</td>\n",
       "      <td>5.0</td>\n",
       "    </tr>\n",
       "    <tr>\n",
       "      <th>4</th>\n",
       "      <td>Jack</td>\n",
       "      <td>The Night</td>\n",
       "      <td>3.0</td>\n",
       "    </tr>\n",
       "    <tr>\n",
       "      <th>5</th>\n",
       "      <td>Mick</td>\n",
       "      <td>Lady</td>\n",
       "      <td>3.0</td>\n",
       "    </tr>\n",
       "    <tr>\n",
       "      <th>6</th>\n",
       "      <td>Mick</td>\n",
       "      <td>Snakes</td>\n",
       "      <td>4.0</td>\n",
       "    </tr>\n",
       "    <tr>\n",
       "      <th>7</th>\n",
       "      <td>Mick</td>\n",
       "      <td>Just My</td>\n",
       "      <td>2.0</td>\n",
       "    </tr>\n",
       "    <tr>\n",
       "      <th>8</th>\n",
       "      <td>Mick</td>\n",
       "      <td>Superman</td>\n",
       "      <td>3.0</td>\n",
       "    </tr>\n",
       "    <tr>\n",
       "      <th>9</th>\n",
       "      <td>Mick</td>\n",
       "      <td>You Me</td>\n",
       "      <td>2.0</td>\n",
       "    </tr>\n",
       "    <tr>\n",
       "      <th>10</th>\n",
       "      <td>Mick</td>\n",
       "      <td>The Night</td>\n",
       "      <td>3.0</td>\n",
       "    </tr>\n",
       "    <tr>\n",
       "      <th>11</th>\n",
       "      <td>Claudia</td>\n",
       "      <td>Snakes</td>\n",
       "      <td>3.5</td>\n",
       "    </tr>\n",
       "    <tr>\n",
       "      <th>12</th>\n",
       "      <td>Claudia</td>\n",
       "      <td>Just My</td>\n",
       "      <td>3.0</td>\n",
       "    </tr>\n",
       "    <tr>\n",
       "      <th>13</th>\n",
       "      <td>Claudia</td>\n",
       "      <td>You Me</td>\n",
       "      <td>2.5</td>\n",
       "    </tr>\n",
       "    <tr>\n",
       "      <th>14</th>\n",
       "      <td>Claudia</td>\n",
       "      <td>Superman</td>\n",
       "      <td>4.0</td>\n",
       "    </tr>\n",
       "    <tr>\n",
       "      <th>15</th>\n",
       "      <td>Claudia</td>\n",
       "      <td>The Night</td>\n",
       "      <td>4.5</td>\n",
       "    </tr>\n",
       "    <tr>\n",
       "      <th>16</th>\n",
       "      <td>Lisa</td>\n",
       "      <td>Lady</td>\n",
       "      <td>2.5</td>\n",
       "    </tr>\n",
       "    <tr>\n",
       "      <th>17</th>\n",
       "      <td>Lisa</td>\n",
       "      <td>Snakes</td>\n",
       "      <td>3.5</td>\n",
       "    </tr>\n",
       "    <tr>\n",
       "      <th>18</th>\n",
       "      <td>Lisa</td>\n",
       "      <td>Just My</td>\n",
       "      <td>3.0</td>\n",
       "    </tr>\n",
       "    <tr>\n",
       "      <th>19</th>\n",
       "      <td>Lisa</td>\n",
       "      <td>Superman</td>\n",
       "      <td>3.5</td>\n",
       "    </tr>\n",
       "    <tr>\n",
       "      <th>20</th>\n",
       "      <td>Lisa</td>\n",
       "      <td>The Night</td>\n",
       "      <td>3.0</td>\n",
       "    </tr>\n",
       "    <tr>\n",
       "      <th>21</th>\n",
       "      <td>Lisa</td>\n",
       "      <td>You Me</td>\n",
       "      <td>2.5</td>\n",
       "    </tr>\n",
       "    <tr>\n",
       "      <th>22</th>\n",
       "      <td>Toby</td>\n",
       "      <td>Snakes</td>\n",
       "      <td>4.5</td>\n",
       "    </tr>\n",
       "    <tr>\n",
       "      <th>23</th>\n",
       "      <td>Toby</td>\n",
       "      <td>Superman</td>\n",
       "      <td>4.0</td>\n",
       "    </tr>\n",
       "    <tr>\n",
       "      <th>24</th>\n",
       "      <td>Toby</td>\n",
       "      <td>You Me</td>\n",
       "      <td>1.0</td>\n",
       "    </tr>\n",
       "    <tr>\n",
       "      <th>25</th>\n",
       "      <td>Gene</td>\n",
       "      <td>Lady</td>\n",
       "      <td>3.0</td>\n",
       "    </tr>\n",
       "    <tr>\n",
       "      <th>26</th>\n",
       "      <td>Gene</td>\n",
       "      <td>Snakes</td>\n",
       "      <td>3.5</td>\n",
       "    </tr>\n",
       "    <tr>\n",
       "      <th>27</th>\n",
       "      <td>Gene</td>\n",
       "      <td>Just My</td>\n",
       "      <td>1.5</td>\n",
       "    </tr>\n",
       "    <tr>\n",
       "      <th>28</th>\n",
       "      <td>Gene</td>\n",
       "      <td>Superman</td>\n",
       "      <td>5.0</td>\n",
       "    </tr>\n",
       "    <tr>\n",
       "      <th>29</th>\n",
       "      <td>Gene</td>\n",
       "      <td>You Me</td>\n",
       "      <td>3.5</td>\n",
       "    </tr>\n",
       "    <tr>\n",
       "      <th>30</th>\n",
       "      <td>Gene</td>\n",
       "      <td>The Night</td>\n",
       "      <td>3.0</td>\n",
       "    </tr>\n",
       "  </tbody>\n",
       "</table>\n",
       "</div>"
      ],
      "text/plain": [
       "     critic      title  rating\n",
       "0      Jack       Lady     3.0\n",
       "1      Jack     Snakes     4.0\n",
       "2      Jack     You Me     3.5\n",
       "3      Jack   Superman     5.0\n",
       "4      Jack  The Night     3.0\n",
       "5      Mick       Lady     3.0\n",
       "6      Mick     Snakes     4.0\n",
       "7      Mick    Just My     2.0\n",
       "8      Mick   Superman     3.0\n",
       "9      Mick     You Me     2.0\n",
       "10     Mick  The Night     3.0\n",
       "11  Claudia     Snakes     3.5\n",
       "12  Claudia    Just My     3.0\n",
       "13  Claudia     You Me     2.5\n",
       "14  Claudia   Superman     4.0\n",
       "15  Claudia  The Night     4.5\n",
       "16     Lisa       Lady     2.5\n",
       "17     Lisa     Snakes     3.5\n",
       "18     Lisa    Just My     3.0\n",
       "19     Lisa   Superman     3.5\n",
       "20     Lisa  The Night     3.0\n",
       "21     Lisa     You Me     2.5\n",
       "22     Toby     Snakes     4.5\n",
       "23     Toby   Superman     4.0\n",
       "24     Toby     You Me     1.0\n",
       "25     Gene       Lady     3.0\n",
       "26     Gene     Snakes     3.5\n",
       "27     Gene    Just My     1.5\n",
       "28     Gene   Superman     5.0\n",
       "29     Gene     You Me     3.5\n",
       "30     Gene  The Night     3.0"
      ]
     },
     "execution_count": 4,
     "metadata": {},
     "output_type": "execute_result"
    }
   ],
   "source": [
    "ratings = pd.read_csv('./movie_rating.csv')\n",
    "ratings"
   ]
  },
  {
   "cell_type": "code",
   "execution_count": 5,
   "id": "5c13887e-0d3c-4f9f-b2cd-fe8a84a4b950",
   "metadata": {},
   "outputs": [
    {
     "data": {
      "text/plain": [
       "['Just My', 'You Me', 'The Night', 'Snakes', 'Lady', 'Superman']"
      ]
     },
     "execution_count": 5,
     "metadata": {},
     "output_type": "execute_result"
    }
   ],
   "source": [
    "movie_title = list(set(ratings['title']))\n",
    "movie_title"
   ]
  },
  {
   "cell_type": "code",
   "execution_count": 6,
   "id": "1b0a1d67-b4fd-4ba9-b302-9c18b760e8b5",
   "metadata": {},
   "outputs": [
    {
     "data": {
      "text/plain": [
       "['Lisa', 'Gene', 'Toby', 'Claudia', 'Jack', 'Mick']"
      ]
     },
     "execution_count": 6,
     "metadata": {},
     "output_type": "execute_result"
    }
   ],
   "source": [
    "movie_critic = list(set(ratings['critic']))\n",
    "movie_critic"
   ]
  },
  {
   "cell_type": "code",
   "execution_count": 11,
   "id": "d33b9f52-2ba4-4218-8a07-75157f0a28e4",
   "metadata": {},
   "outputs": [],
   "source": [
    "data = pd.crosstab(index = ratings.critic, columns = ratings.title, \n",
    "            values = ratings.rating, aggfunc = np.sum)"
   ]
  },
  {
   "cell_type": "code",
   "execution_count": 14,
   "id": "4968ef63-d2a5-46af-afd8-259007161d6d",
   "metadata": {},
   "outputs": [
    {
     "data": {
      "text/html": [
       "<div>\n",
       "<style scoped>\n",
       "    .dataframe tbody tr th:only-of-type {\n",
       "        vertical-align: middle;\n",
       "    }\n",
       "\n",
       "    .dataframe tbody tr th {\n",
       "        vertical-align: top;\n",
       "    }\n",
       "\n",
       "    .dataframe thead th {\n",
       "        text-align: right;\n",
       "    }\n",
       "</style>\n",
       "<table border=\"1\" class=\"dataframe\">\n",
       "  <thead>\n",
       "    <tr style=\"text-align: right;\">\n",
       "      <th>title</th>\n",
       "      <th>Just My</th>\n",
       "      <th>Lady</th>\n",
       "      <th>Snakes</th>\n",
       "      <th>Superman</th>\n",
       "      <th>The Night</th>\n",
       "      <th>You Me</th>\n",
       "    </tr>\n",
       "    <tr>\n",
       "      <th>critic</th>\n",
       "      <th></th>\n",
       "      <th></th>\n",
       "      <th></th>\n",
       "      <th></th>\n",
       "      <th></th>\n",
       "      <th></th>\n",
       "    </tr>\n",
       "  </thead>\n",
       "  <tbody>\n",
       "    <tr>\n",
       "      <th>Claudia</th>\n",
       "      <td>3.0</td>\n",
       "      <td>NaN</td>\n",
       "      <td>3.5</td>\n",
       "      <td>4.0</td>\n",
       "      <td>4.5</td>\n",
       "      <td>2.5</td>\n",
       "    </tr>\n",
       "    <tr>\n",
       "      <th>Gene</th>\n",
       "      <td>1.5</td>\n",
       "      <td>3.0</td>\n",
       "      <td>3.5</td>\n",
       "      <td>5.0</td>\n",
       "      <td>3.0</td>\n",
       "      <td>3.5</td>\n",
       "    </tr>\n",
       "    <tr>\n",
       "      <th>Jack</th>\n",
       "      <td>NaN</td>\n",
       "      <td>3.0</td>\n",
       "      <td>4.0</td>\n",
       "      <td>5.0</td>\n",
       "      <td>3.0</td>\n",
       "      <td>3.5</td>\n",
       "    </tr>\n",
       "    <tr>\n",
       "      <th>Lisa</th>\n",
       "      <td>3.0</td>\n",
       "      <td>2.5</td>\n",
       "      <td>3.5</td>\n",
       "      <td>3.5</td>\n",
       "      <td>3.0</td>\n",
       "      <td>2.5</td>\n",
       "    </tr>\n",
       "    <tr>\n",
       "      <th>Mick</th>\n",
       "      <td>2.0</td>\n",
       "      <td>3.0</td>\n",
       "      <td>4.0</td>\n",
       "      <td>3.0</td>\n",
       "      <td>3.0</td>\n",
       "      <td>2.0</td>\n",
       "    </tr>\n",
       "    <tr>\n",
       "      <th>Toby</th>\n",
       "      <td>NaN</td>\n",
       "      <td>NaN</td>\n",
       "      <td>4.5</td>\n",
       "      <td>4.0</td>\n",
       "      <td>NaN</td>\n",
       "      <td>1.0</td>\n",
       "    </tr>\n",
       "  </tbody>\n",
       "</table>\n",
       "</div>"
      ],
      "text/plain": [
       "title    Just My  Lady  Snakes  Superman  The Night  You Me\n",
       "critic                                                     \n",
       "Claudia      3.0   NaN     3.5       4.0        4.5     2.5\n",
       "Gene         1.5   3.0     3.5       5.0        3.0     3.5\n",
       "Jack         NaN   3.0     4.0       5.0        3.0     3.5\n",
       "Lisa         3.0   2.5     3.5       3.5        3.0     2.5\n",
       "Mick         2.0   3.0     4.0       3.0        3.0     2.0\n",
       "Toby         NaN   NaN     4.5       4.0        NaN     1.0"
      ]
     },
     "execution_count": 14,
     "metadata": {},
     "output_type": "execute_result"
    }
   ],
   "source": [
    "data"
   ]
  },
  {
   "cell_type": "code",
   "execution_count": 61,
   "id": "8dd2caaf-5252-4260-b1c8-c5925540b394",
   "metadata": {},
   "outputs": [],
   "source": [
    "from surprise import Reader\n",
    "reader = Reader(rating_scale = (0, 5.0))"
   ]
  },
  {
   "cell_type": "code",
   "execution_count": 62,
   "id": "97cf1ee0-465c-47c1-bedb-0d7f5bb6835b",
   "metadata": {},
   "outputs": [
    {
     "data": {
      "text/plain": [
       "<surprise.dataset.DatasetAutoFolds at 0x150ce6e9070>"
      ]
     },
     "execution_count": 62,
     "metadata": {},
     "output_type": "execute_result"
    }
   ],
   "source": [
    "data = Dataset.load_from_df(ratings[['critic','title','rating']], reader)\n",
    "data"
   ]
  },
  {
   "cell_type": "code",
   "execution_count": 63,
   "id": "9f541d6b-4b76-4647-a133-4963977437d7",
   "metadata": {},
   "outputs": [],
   "source": [
    "trainset, testset = train_test_split(data, test_size=.1, random_state=0)"
   ]
  },
  {
   "cell_type": "code",
   "execution_count": 64,
   "id": "26721a37-e2d1-4908-b809-018e97925113",
   "metadata": {},
   "outputs": [
    {
     "name": "stdout",
     "output_type": "stream",
     "text": [
      "RMSE: 0.7334\n"
     ]
    },
    {
     "data": {
      "text/plain": [
       "0.7333564641976573"
      ]
     },
     "execution_count": 64,
     "metadata": {},
     "output_type": "execute_result"
    }
   ],
   "source": [
    "#객체 생성 , #훈련\n",
    "algo = SVD(n_factors=20, n_epochs= 30,  random_state=1)\n",
    "algo.fit(trainset) \n",
    "predictions = algo.test( testset )\n",
    "accuracy.rmse(predictions)"
   ]
  },
  {
   "cell_type": "code",
   "execution_count": 65,
   "id": "fb9088ed-9db6-4f14-ab62-fb06f63b51da",
   "metadata": {},
   "outputs": [
    {
     "data": {
      "text/plain": [
       "[Prediction(uid='Jack', iid='Lady', r_ui=3.0, est=3.3722328746210497, details={'was_impossible': False}),\n",
       " Prediction(uid='Lisa', iid='You Me', r_ui=2.5, est=2.8210673313922223, details={'was_impossible': False}),\n",
       " Prediction(uid='Claudia', iid='The Night', r_ui=4.5, est=3.126918654202613, details={'was_impossible': False}),\n",
       " Prediction(uid='Claudia', iid='Just My', r_ui=3.0, est=2.844266612734386, details={'was_impossible': False})]"
      ]
     },
     "execution_count": 65,
     "metadata": {},
     "output_type": "execute_result"
    }
   ],
   "source": [
    "predictions = algo.test(testset)\n",
    "predictions[:5]"
   ]
  },
  {
   "cell_type": "code",
   "execution_count": 66,
   "id": "bdf1cb36-07af-434f-a487-1aad7d5fd356",
   "metadata": {},
   "outputs": [
    {
     "data": {
      "text/plain": [
       "Prediction(uid='Toby', iid='Just My', r_ui=None, est=2.7629850097817372, details={'was_impossible': False})"
      ]
     },
     "execution_count": 66,
     "metadata": {},
     "output_type": "execute_result"
    }
   ],
   "source": [
    "uid = 'Toby'\n",
    "iid = 'Just My'\n",
    "pred = algo.predict(uid,iid)\n",
    "pred"
   ]
  },
  {
   "cell_type": "code",
   "execution_count": 85,
   "id": "956f3b8b-c33d-4d6d-b6b6-b9511e4e8eb7",
   "metadata": {},
   "outputs": [
    {
     "name": "stdout",
     "output_type": "stream",
     "text": [
      "전체 영화 수 >>>  6\n",
      "평점 매긴 영화 수 >>>  3\n",
      "안 본 영화 수 >>>  3\n",
      "['Just My', 'You Me', 'The Night', 'Snakes', 'Lady', 'Superman']\n",
      "['Just My', 'The Night', 'Lady']\n"
     ]
    }
   ],
   "source": [
    "## 내가 안본 영화 리스트를 구해서, 그 중에서 추천\n",
    "\n",
    "def get_unseen_surprise(movie_title, ratings, critic):\n",
    "    ## 1. 전체 영화id 리스트\n",
    "    total_movies = list(set(ratings['title']))\n",
    "    ## 2. 내가 본 영화id 리스트 (TOBY)\n",
    "    seen_movies = ratings[ratings['critic'] == critic]['title'].tolist()\n",
    "    ## 3. 안본 영화 리스트 = 1 - 2\n",
    "    unseen_movies = [ movie for movie in total_movies if movie not in seen_movies]\n",
    "    \n",
    "    print('전체 영화 수 >>> ',len(total_movies))\n",
    "    print('평점 매긴 영화 수 >>> ',len(seen_movies))\n",
    "    print('안 본 영화 수 >>> ',len(unseen_movies))\n",
    "    print(total_movies)\n",
    "    print(unseen_movies)\n",
    "    return unseen_movies\n",
    "    \n",
    "unseen_movies = get_unseen_surprise(movie_title, ratings, 'Toby')"
   ]
  },
  {
   "cell_type": "code",
   "execution_count": 94,
   "id": "223f0c3b-bd3d-4649-b91e-493489b82661",
   "metadata": {},
   "outputs": [],
   "source": [
    "def recomm_movie_by_surprise(algo, critic, unseen_movies):\n",
    "    ## 안본 영화리스트를 하나씩 꺼낸다음 평점을 예측하세요.\n",
    "    predictions = [ algo.predict(critic, movie) for movie in unseen_movies]\n",
    "    \n",
    "    critic = [pred.uid for pred in predictions]\n",
    "    titles = [pred.iid for pred in predictions]\n",
    "    rating = [ pred.est for pred in predictions]\n",
    "    ##titles = ratings[ratings.critic.isin(critic)]['title']\n",
    "    preds = [ (critic, title, rating) for critic, title, rating in zip(critic, titles,rating)]\n",
    "    return preds\n",
    "    "
   ]
  },
  {
   "cell_type": "code",
   "execution_count": 95,
   "id": "1875ba78-bb64-4a9b-b375-d022d886bf26",
   "metadata": {},
   "outputs": [
    {
     "data": {
      "text/plain": [
       "[('Toby', 'Just My', 2.7629850097817372),\n",
       " ('Toby', 'The Night', 3.04438928944478),\n",
       " ('Toby', 'Lady', 3.043452040993306)]"
      ]
     },
     "execution_count": 95,
     "metadata": {},
     "output_type": "execute_result"
    }
   ],
   "source": [
    "recomm_movie_by_surprise(algo, 'Toby', unseen_movies)"
   ]
  },
  {
   "cell_type": "code",
   "execution_count": null,
   "id": "2cb86448-2dcf-423d-b9d8-647de8ba66c4",
   "metadata": {},
   "outputs": [],
   "source": []
  }
 ],
 "metadata": {
  "kernelspec": {
   "display_name": "Python 3",
   "language": "python",
   "name": "python3"
  },
  "language_info": {
   "codemirror_mode": {
    "name": "ipython",
    "version": 3
   },
   "file_extension": ".py",
   "mimetype": "text/x-python",
   "name": "python",
   "nbconvert_exporter": "python",
   "pygments_lexer": "ipython3",
   "version": "3.8.8"
  }
 },
 "nbformat": 4,
 "nbformat_minor": 5
}
