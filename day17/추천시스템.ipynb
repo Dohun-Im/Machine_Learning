{
 "cells": [
  {
   "cell_type": "markdown",
   "id": "0b714ec4-fb9b-4b0b-84fb-9135a1cc5b92",
   "metadata": {},
   "source": [
    "# 확률 기반 (통계적)"
   ]
  },
  {
   "cell_type": "markdown",
   "id": "922f196c-4eba-4a60-b72d-51e54060429e",
   "metadata": {},
   "source": [
    "### Apriori"
   ]
  },
  {
   "cell_type": "code",
   "execution_count": 22,
   "id": "441c4ac5-5dc0-4d22-a875-36cc5d607a48",
   "metadata": {
    "tags": []
   },
   "outputs": [],
   "source": [
    "pip install mlxtend"
   ]
  },
  {
   "cell_type": "code",
   "execution_count": 13,
   "id": "ce01e2c2-c7de-42c7-94c0-826aa3b559ee",
   "metadata": {},
   "outputs": [],
   "source": [
    "import mlxtend\n",
    "import numpy as np\n",
    "import pandas as pd"
   ]
  },
  {
   "cell_type": "code",
   "execution_count": 14,
   "id": "c867ea1b-e708-4e2b-b787-022cc87571aa",
   "metadata": {},
   "outputs": [
    {
     "name": "stderr",
     "output_type": "stream",
     "text": [
      "<ipython-input-14-0dcb8ff8517a>:1: VisibleDeprecationWarning: Creating an ndarray from ragged nested sequences (which is a list-or-tuple of lists-or-tuples-or ndarrays with different lengths or shapes) is deprecated. If you meant to do this, you must specify 'dtype=object' when creating the ndarray.\n",
      "  data = np.array([\n"
     ]
    }
   ],
   "source": [
    "data = np.array([\n",
    "    ['우유', '기저귀', '쥬스'],\n",
    "    ['양상추', '기저귀', '맥주'],\n",
    "    ['우유', '양상추', '기저귀', '쥬스'],\n",
    "    ['양상추', '맥주']\n",
    "])"
   ]
  },
  {
   "cell_type": "code",
   "execution_count": 15,
   "id": "9b41c744-77c1-4936-95af-7bc4669bf09a",
   "metadata": {},
   "outputs": [],
   "source": [
    "from mlxtend.preprocessing import TransactionEncoder"
   ]
  },
  {
   "cell_type": "code",
   "execution_count": 16,
   "id": "1aae4d0e-2a15-44f9-a67b-66639b0fd318",
   "metadata": {},
   "outputs": [
    {
     "data": {
      "text/html": [
       "<div>\n",
       "<style scoped>\n",
       "    .dataframe tbody tr th:only-of-type {\n",
       "        vertical-align: middle;\n",
       "    }\n",
       "\n",
       "    .dataframe tbody tr th {\n",
       "        vertical-align: top;\n",
       "    }\n",
       "\n",
       "    .dataframe thead th {\n",
       "        text-align: right;\n",
       "    }\n",
       "</style>\n",
       "<table border=\"1\" class=\"dataframe\">\n",
       "  <thead>\n",
       "    <tr style=\"text-align: right;\">\n",
       "      <th></th>\n",
       "      <th>기저귀</th>\n",
       "      <th>맥주</th>\n",
       "      <th>양상추</th>\n",
       "      <th>우유</th>\n",
       "      <th>쥬스</th>\n",
       "    </tr>\n",
       "  </thead>\n",
       "  <tbody>\n",
       "    <tr>\n",
       "      <th>0</th>\n",
       "      <td>True</td>\n",
       "      <td>False</td>\n",
       "      <td>False</td>\n",
       "      <td>True</td>\n",
       "      <td>True</td>\n",
       "    </tr>\n",
       "    <tr>\n",
       "      <th>1</th>\n",
       "      <td>True</td>\n",
       "      <td>True</td>\n",
       "      <td>True</td>\n",
       "      <td>False</td>\n",
       "      <td>False</td>\n",
       "    </tr>\n",
       "    <tr>\n",
       "      <th>2</th>\n",
       "      <td>True</td>\n",
       "      <td>False</td>\n",
       "      <td>True</td>\n",
       "      <td>True</td>\n",
       "      <td>True</td>\n",
       "    </tr>\n",
       "    <tr>\n",
       "      <th>3</th>\n",
       "      <td>False</td>\n",
       "      <td>True</td>\n",
       "      <td>True</td>\n",
       "      <td>False</td>\n",
       "      <td>False</td>\n",
       "    </tr>\n",
       "  </tbody>\n",
       "</table>\n",
       "</div>"
      ],
      "text/plain": [
       "     기저귀     맥주    양상추     우유     쥬스\n",
       "0   True  False  False   True   True\n",
       "1   True   True   True  False  False\n",
       "2   True  False   True   True   True\n",
       "3  False   True   True  False  False"
      ]
     },
     "execution_count": 16,
     "metadata": {},
     "output_type": "execute_result"
    }
   ],
   "source": [
    "te = TransactionEncoder()\n",
    "te_ary = te.fit(data).transform(data)\n",
    "df = pd.DataFrame(te_ary, columns=te.columns_)\n",
    "df"
   ]
  },
  {
   "cell_type": "code",
   "execution_count": 19,
   "id": "1613f924-958e-456b-8786-08753e9f9c63",
   "metadata": {},
   "outputs": [
    {
     "name": "stdout",
     "output_type": "stream",
     "text": [
      "Wall time: 12.3 ms\n"
     ]
    }
   ],
   "source": [
    "%%time\n",
    "from mlxtend.frequent_patterns import apriori"
   ]
  },
  {
   "cell_type": "code",
   "execution_count": 21,
   "id": "799b5c1c-fd98-4367-acc2-baa06d69a3ba",
   "metadata": {},
   "outputs": [
    {
     "data": {
      "text/html": [
       "<div>\n",
       "<style scoped>\n",
       "    .dataframe tbody tr th:only-of-type {\n",
       "        vertical-align: middle;\n",
       "    }\n",
       "\n",
       "    .dataframe tbody tr th {\n",
       "        vertical-align: top;\n",
       "    }\n",
       "\n",
       "    .dataframe thead th {\n",
       "        text-align: right;\n",
       "    }\n",
       "</style>\n",
       "<table border=\"1\" class=\"dataframe\">\n",
       "  <thead>\n",
       "    <tr style=\"text-align: right;\">\n",
       "      <th></th>\n",
       "      <th>support</th>\n",
       "      <th>itemsets</th>\n",
       "    </tr>\n",
       "  </thead>\n",
       "  <tbody>\n",
       "    <tr>\n",
       "      <th>0</th>\n",
       "      <td>0.75</td>\n",
       "      <td>(기저귀)</td>\n",
       "    </tr>\n",
       "    <tr>\n",
       "      <th>1</th>\n",
       "      <td>0.50</td>\n",
       "      <td>(맥주)</td>\n",
       "    </tr>\n",
       "    <tr>\n",
       "      <th>2</th>\n",
       "      <td>0.75</td>\n",
       "      <td>(양상추)</td>\n",
       "    </tr>\n",
       "    <tr>\n",
       "      <th>3</th>\n",
       "      <td>0.50</td>\n",
       "      <td>(우유)</td>\n",
       "    </tr>\n",
       "    <tr>\n",
       "      <th>4</th>\n",
       "      <td>0.50</td>\n",
       "      <td>(쥬스)</td>\n",
       "    </tr>\n",
       "    <tr>\n",
       "      <th>5</th>\n",
       "      <td>0.50</td>\n",
       "      <td>(기저귀, 양상추)</td>\n",
       "    </tr>\n",
       "    <tr>\n",
       "      <th>6</th>\n",
       "      <td>0.50</td>\n",
       "      <td>(기저귀, 우유)</td>\n",
       "    </tr>\n",
       "    <tr>\n",
       "      <th>7</th>\n",
       "      <td>0.50</td>\n",
       "      <td>(쥬스, 기저귀)</td>\n",
       "    </tr>\n",
       "    <tr>\n",
       "      <th>8</th>\n",
       "      <td>0.50</td>\n",
       "      <td>(맥주, 양상추)</td>\n",
       "    </tr>\n",
       "    <tr>\n",
       "      <th>9</th>\n",
       "      <td>0.50</td>\n",
       "      <td>(쥬스, 우유)</td>\n",
       "    </tr>\n",
       "    <tr>\n",
       "      <th>10</th>\n",
       "      <td>0.50</td>\n",
       "      <td>(쥬스, 기저귀, 우유)</td>\n",
       "    </tr>\n",
       "  </tbody>\n",
       "</table>\n",
       "</div>"
      ],
      "text/plain": [
       "    support       itemsets\n",
       "0      0.75          (기저귀)\n",
       "1      0.50           (맥주)\n",
       "2      0.75          (양상추)\n",
       "3      0.50           (우유)\n",
       "4      0.50           (쥬스)\n",
       "5      0.50     (기저귀, 양상추)\n",
       "6      0.50      (기저귀, 우유)\n",
       "7      0.50      (쥬스, 기저귀)\n",
       "8      0.50      (맥주, 양상추)\n",
       "9      0.50       (쥬스, 우유)\n",
       "10     0.50  (쥬스, 기저귀, 우유)"
      ]
     },
     "execution_count": 21,
     "metadata": {},
     "output_type": "execute_result"
    }
   ],
   "source": [
    "apriori(df, min_support=0.5, use_colnames=True)"
   ]
  },
  {
   "cell_type": "markdown",
   "id": "f46432fb-3644-41fb-bc03-c7fff85745a1",
   "metadata": {},
   "source": [
    "## 추론적 방법 (유사도 기반)"
   ]
  },
  {
   "cell_type": "markdown",
   "id": "8dd50e5c-c792-4ccc-88d2-b8bde2a8b534",
   "metadata": {},
   "source": [
    "### WORD2VEC"
   ]
  },
  {
   "cell_type": "code",
   "execution_count": null,
   "id": "92b4adf0-3650-4bbe-997a-12d6f6b50ebc",
   "metadata": {},
   "outputs": [],
   "source": [
    "#### skip-gram (특정 단어 앞 뒤에 있는 단어 추론)"
   ]
  },
  {
   "cell_type": "code",
   "execution_count": 2,
   "id": "f443395e-77c8-4191-a913-4fc9a80f0a15",
   "metadata": {},
   "outputs": [
    {
     "name": "stdout",
     "output_type": "stream",
     "text": [
      "Collecting gensim\n",
      "  Downloading gensim-4.1.2-cp38-cp38-win_amd64.whl (24.0 MB)\n",
      "Requirement already satisfied: numpy>=1.17.0 in c:\\users\\82109\\anaconda3\\lib\\site-packages (from gensim) (1.20.1)\n",
      "Collecting smart-open>=1.8.1\n",
      "  Downloading smart_open-5.2.1-py3-none-any.whl (58 kB)\n",
      "Requirement already satisfied: scipy>=0.18.1 in c:\\users\\82109\\anaconda3\\lib\\site-packages (from gensim) (1.6.2)\n",
      "Requirement already satisfied: Cython==0.29.23 in c:\\users\\82109\\anaconda3\\lib\\site-packages (from gensim) (0.29.23)\n",
      "Installing collected packages: smart-open, gensim\n",
      "Successfully installed gensim-4.1.2 smart-open-5.2.1\n"
     ]
    }
   ],
   "source": [
    "!pip install gensim"
   ]
  },
  {
   "cell_type": "code",
   "execution_count": 3,
   "id": "27585175-c9d3-4711-8db8-65c19db608dd",
   "metadata": {},
   "outputs": [],
   "source": [
    "from gensim.models import Word2Vec"
   ]
  },
  {
   "cell_type": "code",
   "execution_count": 4,
   "id": "abe716b5-5cdd-4393-bb60-adc98f5c090c",
   "metadata": {},
   "outputs": [],
   "source": [
    "doc = [\n",
    "    'You say goodbye and I say hello',\n",
    "    'I say happy or he said white'\n",
    "]"
   ]
  },
  {
   "cell_type": "code",
   "execution_count": 5,
   "id": "edf499a4-bf98-4378-a9da-290e70a04df0",
   "metadata": {},
   "outputs": [],
   "source": [
    "sentences = [sentence.split(' ') for sentence in doc]\n",
    "## [처리내용 for one in 복수형태의자료구조] => 항상 결과는 리스트"
   ]
  },
  {
   "cell_type": "code",
   "execution_count": 6,
   "id": "ebf172ac-db29-417f-89e1-6c48bac89f14",
   "metadata": {},
   "outputs": [
    {
     "data": {
      "text/plain": [
       "[['You', 'say', 'goodbye', 'and', 'I', 'say', 'hello'],\n",
       " ['I', 'say', 'happy', 'or', 'he', 'said', 'white']]"
      ]
     },
     "execution_count": 6,
     "metadata": {},
     "output_type": "execute_result"
    }
   ],
   "source": [
    "sentences"
   ]
  },
  {
   "cell_type": "code",
   "execution_count": 7,
   "id": "9d037713-b0b7-485e-9dbd-94d900f700e4",
   "metadata": {},
   "outputs": [
    {
     "data": {
      "text/plain": [
       "[('goodbye', 0.21617145836353302),\n",
       " ('hello', 0.09291722625494003),\n",
       " ('You', 0.06285080313682556),\n",
       " ('and', 0.0270574688911438),\n",
       " ('happy', 0.016134707257151604),\n",
       " ('I', -0.01083917822688818),\n",
       " ('he', -0.027750367298722267),\n",
       " ('white', -0.052346762269735336),\n",
       " ('or', -0.05987626686692238),\n",
       " ('said', -0.1116705909371376)]"
      ]
     },
     "execution_count": 7,
     "metadata": {},
     "output_type": "execute_result"
    }
   ],
   "source": [
    "model = Word2Vec(window=1, min_count=1, sg=1)\n",
    "model.build_vocab(sentences)\n",
    "model.wv.most_similar('say')"
   ]
  },
  {
   "cell_type": "code",
   "execution_count": null,
   "id": "1d3586a2-cecb-4bda-8b1b-025b1c5caa20",
   "metadata": {},
   "outputs": [],
   "source": [
    "### 유사도 측정 방법\n",
    "## -유사도- \n",
    "## 유클리디안 거리\n",
    "## 코사인 거리\n",
    "## 피어슨 거리\n",
    "\n",
    "## 뭘 쓰건 값은 살짝 다르지만 결과는 비슷함"
   ]
  },
  {
   "cell_type": "markdown",
   "id": "4cf87403-5f58-4afe-9d83-d2837b606d90",
   "metadata": {},
   "source": [
    "## 협업 필터링"
   ]
  },
  {
   "cell_type": "markdown",
   "id": "f07f6703-9f32-418a-823c-6af3f972a636",
   "metadata": {},
   "source": [
    "### KNN"
   ]
  },
  {
   "cell_type": "code",
   "execution_count": null,
   "id": "925f9448-8bc9-4016-99be-ef11861dc110",
   "metadata": {},
   "outputs": [],
   "source": [
    "# 유저 따로 아이템 따로 나눠서 각각 특성만 고려해서 추론 -> KNN\n",
    "# 유저와 아이템 함께 고려해서 (다중회귀와 비슷하게) -> SVD"
   ]
  },
  {
   "cell_type": "markdown",
   "id": "662636bf-4516-474c-9cd0-3da5a1b85b52",
   "metadata": {},
   "source": [
    "### SVD (잠재 요인 기법)"
   ]
  },
  {
   "cell_type": "code",
   "execution_count": null,
   "id": "acf3b5c6-09fa-4285-a7fe-cd849f8ea49a",
   "metadata": {},
   "outputs": [],
   "source": [
    "# 고유값 분해 : \n",
    "#원래의 사용자/제품/평가가 들어있는 하나의 행렬을 여러개로 나누었음. \n",
    "#원래의 성질은 변하지 않음"
   ]
  },
  {
   "cell_type": "code",
   "execution_count": 23,
   "id": "0e8a5ea7-68ec-4f0c-8a01-12852f26cae1",
   "metadata": {},
   "outputs": [
    {
     "name": "stdout",
     "output_type": "stream",
     "text": [
      "Collecting scikit-surprise\n",
      "  Downloading scikit-surprise-1.1.1.tar.gz (11.8 MB)\n",
      "Requirement already satisfied: joblib>=0.11 in c:\\users\\82109\\anaconda3\\lib\\site-packages (from scikit-surprise) (1.0.1)\n",
      "Requirement already satisfied: numpy>=1.11.2 in c:\\users\\82109\\anaconda3\\lib\\site-packages (from scikit-surprise) (1.20.1)\n",
      "Requirement already satisfied: scipy>=1.0.0 in c:\\users\\82109\\anaconda3\\lib\\site-packages (from scikit-surprise) (1.6.2)\n",
      "Requirement already satisfied: six>=1.10.0 in c:\\users\\82109\\anaconda3\\lib\\site-packages (from scikit-surprise) (1.15.0)\n",
      "Building wheels for collected packages: scikit-surprise\n",
      "  Building wheel for scikit-surprise (setup.py): started\n",
      "  Building wheel for scikit-surprise (setup.py): finished with status 'done'\n",
      "  Created wheel for scikit-surprise: filename=scikit_surprise-1.1.1-cp38-cp38-win_amd64.whl size=751503 sha256=f8c1e5e7903dd33d81225453d6e0627bbbeee0e827b1286ba80bba009e56ee2f\n",
      "  Stored in directory: c:\\users\\82109\\appdata\\local\\pip\\cache\\wheels\\20\\91\\57\\2965d4cff1b8ac7ed1b6fa25741882af3974b54a31759e10b6\n",
      "Successfully built scikit-surprise\n",
      "Installing collected packages: scikit-surprise\n",
      "Successfully installed scikit-surprise-1.1.1\n"
     ]
    }
   ],
   "source": [
    "!pip install scikit-surprise"
   ]
  },
  {
   "cell_type": "code",
   "execution_count": 25,
   "id": "3b10b4b6-7865-4617-b4f2-e88245fb841c",
   "metadata": {},
   "outputs": [],
   "source": [
    "import surprise"
   ]
  },
  {
   "cell_type": "code",
   "execution_count": 34,
   "id": "42f45043-6cf7-4f81-8b27-f8467a769cf8",
   "metadata": {},
   "outputs": [
    {
     "name": "stdout",
     "output_type": "stream",
     "text": [
      "1.1.1\n"
     ]
    }
   ],
   "source": [
    "print(surprise.__version__)"
   ]
  },
  {
   "cell_type": "code",
   "execution_count": 38,
   "id": "93aeca08-7260-4758-83a9-d86705f569da",
   "metadata": {},
   "outputs": [],
   "source": [
    "# 고유값 분해(행렬을 더 낮은 차원으로 분해)해서 \n",
    "# 다시 원본으로 살리면서 잠재적인 값을 추론하는 방법\n",
    "from surprise import SVD\n",
    "\n",
    "# SVD를 사용하기 위한 테이터셋을 만들어주는 클래스\n",
    "# 사용자, 아이템, 평점\n",
    "from surprise import Dataset\n",
    "\n",
    "# RMSE, MAE 등을 사용한 정확도 측정\n",
    "from surprise import accuracy\n",
    "\n",
    "# 훈련/검증 데이터 분류\n",
    "from surprise.model_selection import train_test_split"
   ]
  },
  {
   "cell_type": "code",
   "execution_count": null,
   "id": "95271a26-645b-45a6-9cfa-28f312987951",
   "metadata": {},
   "outputs": [],
   "source": [
    "## 1. 데이터셋을 만들어주자(사용자, 아이템, 평점)"
   ]
  },
  {
   "cell_type": "code",
   "execution_count": 39,
   "id": "77f126b7-6858-4545-997b-82e1037e8d64",
   "metadata": {},
   "outputs": [],
   "source": [
    "data = Dataset.load_builtin('ml-100k')\n",
    "trainset, testset = train_test_split(data, test_size=.25, random_state=0)"
   ]
  },
  {
   "cell_type": "code",
   "execution_count": 40,
   "id": "f01bb5b8-d9f4-486f-ad85-b415935578ba",
   "metadata": {},
   "outputs": [],
   "source": [
    "## 2. SVD() 모델 선정\n",
    "algo = SVD()"
   ]
  },
  {
   "cell_type": "code",
   "execution_count": 41,
   "id": "757e8bdc-f86f-42e5-b27d-975be9bc9aaa",
   "metadata": {},
   "outputs": [
    {
     "data": {
      "text/plain": [
       "<surprise.prediction_algorithms.matrix_factorization.SVD at 0x259e28ed9d0>"
      ]
     },
     "execution_count": 41,
     "metadata": {},
     "output_type": "execute_result"
    }
   ],
   "source": [
    "## 3. 훈련용 데이터로 fit() (학습)\n",
    "algo.fit(trainset)"
   ]
  },
  {
   "cell_type": "code",
   "execution_count": 42,
   "id": "44726948-0a70-4ddc-832d-6754070ac21b",
   "metadata": {},
   "outputs": [
    {
     "name": "stdout",
     "output_type": "stream",
     "text": [
      "prediction type :  <class 'list'>  size :  25000\n",
      "prediction 결과의 최초 5개 추출\n"
     ]
    },
    {
     "data": {
      "text/plain": [
       "[Prediction(uid='120', iid='282', r_ui=4.0, est=3.476735077156584, details={'was_impossible': False}),\n",
       " Prediction(uid='882', iid='291', r_ui=4.0, est=3.5980342669535235, details={'was_impossible': False}),\n",
       " Prediction(uid='535', iid='507', r_ui=5.0, est=3.918390089641869, details={'was_impossible': False}),\n",
       " Prediction(uid='697', iid='244', r_ui=5.0, est=3.55664850708442, details={'was_impossible': False}),\n",
       " Prediction(uid='751', iid='385', r_ui=4.0, est=3.361423393190703, details={'was_impossible': False})]"
      ]
     },
     "execution_count": 42,
     "metadata": {},
     "output_type": "execute_result"
    }
   ],
   "source": [
    "## 4. 검증용 데이터로 예측\n",
    "predictions = algo.test(testset)\n",
    "print('prediction type : ', type(predictions), ' size : ', len(predictions))\n",
    "print('prediction 결과의 최초 5개 추출')\n",
    "predictions[:5]"
   ]
  },
  {
   "cell_type": "code",
   "execution_count": 37,
   "id": "ae0dc32f-cfbb-46b5-90ce-c7e92b1251ab",
   "metadata": {},
   "outputs": [
    {
     "data": {
      "text/plain": [
       "[('120', '282', 3.6142518901528145),\n",
       " ('882', '291', 3.704279873054159),\n",
       " ('535', '507', 3.923910949874137)]"
      ]
     },
     "execution_count": 37,
     "metadata": {},
     "output_type": "execute_result"
    }
   ],
   "source": [
    "# 5. 정확도 계산\n",
    "# uid = , iid = , est = \n",
    "[ (pred.uid, pred.iid, pred.est) for pred in predictions[:3]]"
   ]
  },
  {
   "cell_type": "code",
   "execution_count": null,
   "id": "d1252dd4-4168-4395-94b0-ec6c2aacf6d1",
   "metadata": {},
   "outputs": [],
   "source": [
    "# 6. 사용자, 아이템 정보 주고 예측 실행"
   ]
  }
 ],
 "metadata": {
  "kernelspec": {
   "display_name": "Python 3",
   "language": "python",
   "name": "python3"
  },
  "language_info": {
   "codemirror_mode": {
    "name": "ipython",
    "version": 3
   },
   "file_extension": ".py",
   "mimetype": "text/x-python",
   "name": "python",
   "nbconvert_exporter": "python",
   "pygments_lexer": "ipython3",
   "version": "3.8.8"
  }
 },
 "nbformat": 4,
 "nbformat_minor": 5
}
