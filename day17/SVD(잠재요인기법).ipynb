{
 "cells": [
  {
   "cell_type": "markdown",
   "id": "48401c47-99be-4e94-b706-766c0b02d38e",
   "metadata": {},
   "source": [
    "# SVD (잠재 요인 기법)"
   ]
  },
  {
   "cell_type": "code",
   "execution_count": null,
   "id": "12e5d184-97e9-4c40-8e26-aba30f16b15a",
   "metadata": {},
   "outputs": [],
   "source": [
    "!pip install scikit-surprise"
   ]
  },
  {
   "cell_type": "code",
   "execution_count": 1,
   "id": "52c5299d-db64-42ef-a7c8-ab72e9bc7448",
   "metadata": {},
   "outputs": [
    {
     "name": "stdout",
     "output_type": "stream",
     "text": [
      "1.1.1\n"
     ]
    }
   ],
   "source": [
    "import surprise\n",
    "print(surprise.__version__)"
   ]
  },
  {
   "cell_type": "code",
   "execution_count": 2,
   "id": "87618c86-005b-48e8-8baf-56fc3e783785",
   "metadata": {},
   "outputs": [],
   "source": [
    "# 고유값 분해(행렬을 더 낮은 차원으로 분해)해서 \n",
    "# 다시 원본으로 살리면서 잠재적인 값을 추론하는 방법\n",
    "from surprise import SVD\n",
    "\n",
    "# SVD를 사용하기 위한 테이터셋을 만들어주는 클래스\n",
    "# 사용자, 아이템, 평점\n",
    "from surprise import Dataset\n",
    "\n",
    "# RMSE, MAE 등을 사용한 정확도 측정\n",
    "from surprise import accuracy\n",
    "\n",
    "# 훈련/검증 데이터 분류\n",
    "from surprise.model_selection import train_test_split"
   ]
  },
  {
   "cell_type": "code",
   "execution_count": 3,
   "id": "ca7f1fc2-604c-41ca-885c-be77eef3c798",
   "metadata": {},
   "outputs": [],
   "source": [
    "## 1. 데이터셋을 만들어주자(사용자, 아이템, 평점)\n",
    "data = Dataset.load_builtin('ml-100k')\n",
    "trainset, testset = train_test_split(data, test_size=.25, random_state=0)"
   ]
  },
  {
   "cell_type": "code",
   "execution_count": 4,
   "id": "5b9d1de5-dfa0-4592-b2f1-59bf1b4fccd4",
   "metadata": {},
   "outputs": [],
   "source": [
    "## 2. SVD() 모델 선정\n",
    "algo = SVD()"
   ]
  },
  {
   "cell_type": "code",
   "execution_count": 5,
   "id": "f3537a63-0b68-4634-a553-2c369bee7c94",
   "metadata": {},
   "outputs": [
    {
     "data": {
      "text/plain": [
       "<surprise.prediction_algorithms.matrix_factorization.SVD at 0x2783c247e20>"
      ]
     },
     "execution_count": 5,
     "metadata": {},
     "output_type": "execute_result"
    }
   ],
   "source": [
    "## 3. 훈련용 데이터로 fit() (학습)\n",
    "algo.fit(trainset)"
   ]
  },
  {
   "cell_type": "code",
   "execution_count": 10,
   "id": "d2e4d30e-d7ea-4e2d-9916-adffff943d88",
   "metadata": {
    "tags": []
   },
   "outputs": [
    {
     "name": "stdout",
     "output_type": "stream",
     "text": [
      "prediction type :  <class 'list'>  size :  25000\n",
      "prediction 결과의 최초 5개 추출\n"
     ]
    },
    {
     "data": {
      "text/plain": [
       "[Prediction(uid='120', iid='282', r_ui=4.0, est=3.5730363657454958, details={'was_impossible': False}),\n",
       " Prediction(uid='882', iid='291', r_ui=4.0, est=3.709466611507368, details={'was_impossible': False}),\n",
       " Prediction(uid='535', iid='507', r_ui=5.0, est=3.830851291789567, details={'was_impossible': False}),\n",
       " Prediction(uid='697', iid='244', r_ui=5.0, est=3.577959424570562, details={'was_impossible': False}),\n",
       " Prediction(uid='751', iid='385', r_ui=4.0, est=3.5518593924892428, details={'was_impossible': False})]"
      ]
     },
     "execution_count": 10,
     "metadata": {},
     "output_type": "execute_result"
    }
   ],
   "source": [
    "## 4. 검증용 데이터로 예측\n",
    "predictions = algo.test(testset)\n",
    "print('prediction type : ', type(predictions), ' size : ', len(predictions))\n",
    "print('prediction 결과의 최초 5개 추출')\n",
    "predictions[:5]"
   ]
  },
  {
   "cell_type": "code",
   "execution_count": 11,
   "id": "beacccbf-ea01-4234-8f1a-84a5708fd145",
   "metadata": {},
   "outputs": [
    {
     "data": {
      "text/plain": [
       "[('120', '282', 3.5730363657454958),\n",
       " ('882', '291', 3.709466611507368),\n",
       " ('535', '507', 3.830851291789567)]"
      ]
     },
     "execution_count": 11,
     "metadata": {},
     "output_type": "execute_result"
    }
   ],
   "source": [
    "# 5. 정확도 계산\n",
    "[ (pred.uid, pred.iid, pred.est) for pred in predictions[:3]]"
   ]
  },
  {
   "cell_type": "code",
   "execution_count": 13,
   "id": "8b91b020-1d73-45ab-adbe-b5e247d60bcd",
   "metadata": {},
   "outputs": [
    {
     "data": {
      "text/plain": [
       "Prediction(uid='196', iid='302', r_ui=None, est=4.219800766235271, details={'was_impossible': False})"
      ]
     },
     "execution_count": 13,
     "metadata": {},
     "output_type": "execute_result"
    }
   ],
   "source": [
    "# 6. 사용자, 아이템 정보 주고 예측 실행\n",
    "#아이디가 196인 302인 영화를 본사람의 평점을 예측\n",
    "uid = str(196)\n",
    "iid = str(302)\n",
    "pred = algo.predict(uid, iid)\n",
    "pred"
   ]
  },
  {
   "cell_type": "markdown",
   "id": "65b2a415-0251-40df-93cd-c53be24e9b9c",
   "metadata": {},
   "source": [
    "## Custom Data로 SVD하기"
   ]
  },
  {
   "cell_type": "code",
   "execution_count": 125,
   "id": "15945132-0c7c-4938-b1da-2d168f9fd848",
   "metadata": {},
   "outputs": [],
   "source": [
    "import time"
   ]
  },
  {
   "cell_type": "code",
   "execution_count": 126,
   "id": "ff8cb207-c29a-4684-99a3-47736618ef0d",
   "metadata": {},
   "outputs": [],
   "source": [
    "### 직접 csv 파일로 고유값 분해 해보자\n",
    "## CSV를 SVD하기 위한 DataSet을 만들기 위해\n",
    "\n",
    "import pandas as pd\n",
    "import numpy as np"
   ]
  },
  {
   "cell_type": "code",
   "execution_count": 127,
   "id": "2572b24f-c6f3-45b6-b0b1-fade3ea70fae",
   "metadata": {},
   "outputs": [
    {
     "data": {
      "text/html": [
       "<div>\n",
       "<style scoped>\n",
       "    .dataframe tbody tr th:only-of-type {\n",
       "        vertical-align: middle;\n",
       "    }\n",
       "\n",
       "    .dataframe tbody tr th {\n",
       "        vertical-align: top;\n",
       "    }\n",
       "\n",
       "    .dataframe thead th {\n",
       "        text-align: right;\n",
       "    }\n",
       "</style>\n",
       "<table border=\"1\" class=\"dataframe\">\n",
       "  <thead>\n",
       "    <tr style=\"text-align: right;\">\n",
       "      <th></th>\n",
       "      <th>userId</th>\n",
       "      <th>movieId</th>\n",
       "      <th>rating</th>\n",
       "      <th>timestamp</th>\n",
       "    </tr>\n",
       "  </thead>\n",
       "  <tbody>\n",
       "    <tr>\n",
       "      <th>0</th>\n",
       "      <td>1</td>\n",
       "      <td>1</td>\n",
       "      <td>4.0</td>\n",
       "      <td>964982703</td>\n",
       "    </tr>\n",
       "    <tr>\n",
       "      <th>1</th>\n",
       "      <td>1</td>\n",
       "      <td>3</td>\n",
       "      <td>4.0</td>\n",
       "      <td>964981247</td>\n",
       "    </tr>\n",
       "    <tr>\n",
       "      <th>2</th>\n",
       "      <td>1</td>\n",
       "      <td>6</td>\n",
       "      <td>4.0</td>\n",
       "      <td>964982224</td>\n",
       "    </tr>\n",
       "    <tr>\n",
       "      <th>3</th>\n",
       "      <td>1</td>\n",
       "      <td>47</td>\n",
       "      <td>5.0</td>\n",
       "      <td>964983815</td>\n",
       "    </tr>\n",
       "    <tr>\n",
       "      <th>4</th>\n",
       "      <td>1</td>\n",
       "      <td>50</td>\n",
       "      <td>5.0</td>\n",
       "      <td>964982931</td>\n",
       "    </tr>\n",
       "    <tr>\n",
       "      <th>...</th>\n",
       "      <td>...</td>\n",
       "      <td>...</td>\n",
       "      <td>...</td>\n",
       "      <td>...</td>\n",
       "    </tr>\n",
       "    <tr>\n",
       "      <th>100831</th>\n",
       "      <td>610</td>\n",
       "      <td>166534</td>\n",
       "      <td>4.0</td>\n",
       "      <td>1493848402</td>\n",
       "    </tr>\n",
       "    <tr>\n",
       "      <th>100832</th>\n",
       "      <td>610</td>\n",
       "      <td>168248</td>\n",
       "      <td>5.0</td>\n",
       "      <td>1493850091</td>\n",
       "    </tr>\n",
       "    <tr>\n",
       "      <th>100833</th>\n",
       "      <td>610</td>\n",
       "      <td>168250</td>\n",
       "      <td>5.0</td>\n",
       "      <td>1494273047</td>\n",
       "    </tr>\n",
       "    <tr>\n",
       "      <th>100834</th>\n",
       "      <td>610</td>\n",
       "      <td>168252</td>\n",
       "      <td>5.0</td>\n",
       "      <td>1493846352</td>\n",
       "    </tr>\n",
       "    <tr>\n",
       "      <th>100835</th>\n",
       "      <td>610</td>\n",
       "      <td>170875</td>\n",
       "      <td>3.0</td>\n",
       "      <td>1493846415</td>\n",
       "    </tr>\n",
       "  </tbody>\n",
       "</table>\n",
       "<p>100836 rows × 4 columns</p>\n",
       "</div>"
      ],
      "text/plain": [
       "        userId  movieId  rating   timestamp\n",
       "0            1        1     4.0   964982703\n",
       "1            1        3     4.0   964981247\n",
       "2            1        6     4.0   964982224\n",
       "3            1       47     5.0   964983815\n",
       "4            1       50     5.0   964982931\n",
       "...        ...      ...     ...         ...\n",
       "100831     610   166534     4.0  1493848402\n",
       "100832     610   168248     5.0  1493850091\n",
       "100833     610   168250     5.0  1494273047\n",
       "100834     610   168252     5.0  1493846352\n",
       "100835     610   170875     3.0  1493846415\n",
       "\n",
       "[100836 rows x 4 columns]"
      ]
     },
     "execution_count": 127,
     "metadata": {},
     "output_type": "execute_result"
    }
   ],
   "source": [
    "## 1. df <--- csv\n",
    "ratings = pd.read_csv('./ratings.csv')\n",
    "ratings"
   ]
  },
  {
   "cell_type": "code",
   "execution_count": 128,
   "id": "6f4be65d-e777-4923-bf39-a898959d1205",
   "metadata": {},
   "outputs": [],
   "source": [
    "from surprise import Reader\n",
    "reader = Reader(rating_scale = (0.5, 5.0)) # 최저 0.5, 최대 5 인 데이터셋 만듦"
   ]
  },
  {
   "cell_type": "code",
   "execution_count": 129,
   "id": "89cf8529-6152-4f57-8602-d1bf3dab9d88",
   "metadata": {},
   "outputs": [
    {
     "data": {
      "text/plain": [
       "<surprise.dataset.DatasetAutoFolds at 0x2784504a460>"
      ]
     },
     "execution_count": 129,
     "metadata": {},
     "output_type": "execute_result"
    }
   ],
   "source": [
    "## SVD에서 사용할 수 있는 데이터셋으로 만들어주자.\n",
    "data = Dataset.load_from_df(ratings[['userId','movieId','rating']], reader)\n",
    "data"
   ]
  },
  {
   "cell_type": "code",
   "execution_count": 130,
   "id": "8cfc6b86-8573-4178-a576-c78fb3e5d4ee",
   "metadata": {},
   "outputs": [],
   "source": [
    "## 데이터 분류\n",
    "trainset, testset = train_test_split(data, test_size=.25, random_state=0)"
   ]
  },
  {
   "cell_type": "code",
   "execution_count": 131,
   "id": "1e09e810-3457-4c6b-8b53-c5b9166fe030",
   "metadata": {},
   "outputs": [],
   "source": [
    "from surprise.dataset import DatasetAutoFolds\n",
    "\n",
    "reader = Reader(line_format='user item rating timestamp', sep=',', rating_scale=(0.5, 5))\n",
    "# DatasetAutoFolds 클래스를 ratings_noh.csv 파일 기반으로 생성. \n",
    "data_folds = DatasetAutoFolds(ratings_file='ratings_noh.csv', reader=reader)\n",
    "\n",
    "#전체 데이터를 학습데이터로 생성함. \n",
    "trainset = data_folds.build_full_trainset()"
   ]
  },
  {
   "cell_type": "code",
   "execution_count": 132,
   "id": "5f6ea7a5-209c-4e7f-955e-c1b22a949ffb",
   "metadata": {},
   "outputs": [
    {
     "name": "stdout",
     "output_type": "stream",
     "text": [
      "RMSE: 1.0388\n"
     ]
    },
    {
     "data": {
      "text/plain": [
       "1.0387802469854106"
      ]
     },
     "execution_count": 132,
     "metadata": {},
     "output_type": "execute_result"
    }
   ],
   "source": [
    "#객체 생성 , #훈련\n",
    "algo = SVD(n_factors=20, n_epochs= 30,  random_state=1)\n",
    "algo.fit(trainset) \n",
    "predictions = algo.test( testset )\n",
    "accuracy.rmse(predictions)"
   ]
  },
  {
   "cell_type": "code",
   "execution_count": 133,
   "id": "50062a42-0a12-40cc-b092-c9f4bd44b2aa",
   "metadata": {},
   "outputs": [
    {
     "data": {
      "text/plain": [
       "[Prediction(uid=63, iid=2000, r_ui=3.0, est=3.501556983616962, details={'was_impossible': False}),\n",
       " Prediction(uid=31, iid=788, r_ui=2.0, est=3.501556983616962, details={'was_impossible': False}),\n",
       " Prediction(uid=159, iid=6373, r_ui=4.0, est=3.501556983616962, details={'was_impossible': False}),\n",
       " Prediction(uid=105, iid=81564, r_ui=3.0, est=3.501556983616962, details={'was_impossible': False}),\n",
       " Prediction(uid=394, iid=480, r_ui=3.0, est=3.501556983616962, details={'was_impossible': False})]"
      ]
     },
     "execution_count": 133,
     "metadata": {},
     "output_type": "execute_result"
    }
   ],
   "source": [
    "#검증\n",
    "predictions = algo.test(testset)\n",
    "predictions[:5]"
   ]
  },
  {
   "cell_type": "code",
   "execution_count": 134,
   "id": "dde25d07-2cf6-4972-b891-573026eb2cab",
   "metadata": {},
   "outputs": [
    {
     "data": {
      "text/plain": [
       "[(63, 2000, 3.501556983616962),\n",
       " (31, 788, 3.501556983616962),\n",
       " (159, 6373, 3.501556983616962),\n",
       " (105, 81564, 3.501556983616962),\n",
       " (394, 480, 3.501556983616962)]"
      ]
     },
     "execution_count": 134,
     "metadata": {},
     "output_type": "execute_result"
    }
   ],
   "source": [
    "[(pred.uid, pred.iid, pred.est) for pred in predictions[:5]] "
   ]
  },
  {
   "cell_type": "code",
   "execution_count": 135,
   "id": "f3916e5a-e152-41f3-b2f1-a66bb626cbab",
   "metadata": {},
   "outputs": [
    {
     "data": {
      "text/plain": [
       "Prediction(uid='123', iid='333', r_ui=None, est=3.8064382504471417, details={'was_impossible': False})"
      ]
     },
     "execution_count": 135,
     "metadata": {},
     "output_type": "execute_result"
    }
   ],
   "source": [
    "#예측\n",
    "uid = str(123)\n",
    "iid = str(333)\n",
    "pred = algo.predict(uid,iid)\n",
    "pred"
   ]
  },
  {
   "cell_type": "code",
   "execution_count": 110,
   "id": "5f468dd9-66e0-48da-bea3-7d9351adfa3c",
   "metadata": {},
   "outputs": [
    {
     "name": "stdout",
     "output_type": "stream",
     "text": [
      "Evaluating RMSE, MAE of algorithm SVD on 5 split(s).\n",
      "\n",
      "                  Fold 1  Fold 2  Fold 3  Fold 4  Fold 5  Mean    Std     \n",
      "RMSE (testset)    0.8836  0.8702  0.8795  0.8794  0.8728  0.8771  0.0049  \n",
      "MAE (testset)     0.6750  0.6678  0.6762  0.6746  0.6679  0.6723  0.0037  \n",
      "Fit time          8.82    9.95    10.19   9.21    8.98    9.43    0.54    \n",
      "Test time         0.31    0.17    0.19    0.31    0.18    0.23    0.06    \n"
     ]
    },
    {
     "data": {
      "text/plain": [
       "{'test_rmse': array([0.88357479, 0.87015348, 0.8794724 , 0.87942439, 0.87277173]),\n",
       " 'test_mae': array([0.67503673, 0.66780005, 0.67624418, 0.67458958, 0.66791246]),\n",
       " 'fit_time': (8.824311017990112,\n",
       "  9.945703744888306,\n",
       "  10.194490671157837,\n",
       "  9.214999675750732,\n",
       "  8.976396083831787),\n",
       " 'test_time': (0.3093867301940918,\n",
       "  0.1685473918914795,\n",
       "  0.18587374687194824,\n",
       "  0.30736351013183594,\n",
       "  0.18014216423034668)}"
      ]
     },
     "execution_count": 110,
     "metadata": {},
     "output_type": "execute_result"
    }
   ],
   "source": [
    "from surprise.model_selection import cross_validate\n",
    "cross_validate(algo, data, measures=['RMSE','MAE'], cv = 5, verbose=True)"
   ]
  },
  {
   "cell_type": "markdown",
   "id": "f7323607-d89f-4c4a-815d-df46c3fbacc9",
   "metadata": {},
   "source": [
    "## Surprise 를 이용한 개인화 영화 추천 시스템"
   ]
  },
  {
   "cell_type": "code",
   "execution_count": 136,
   "id": "a4b11134-9db3-40e0-98df-fb41d8ff2b10",
   "metadata": {},
   "outputs": [
    {
     "name": "stdout",
     "output_type": "stream",
     "text": [
      "사용자 아이디 9 는 영화 아이디 42 의 평점 없음\n",
      "    movieId                   title              genres\n",
      "38       42  Dead Presidents (1995)  Action|Crime|Drama\n"
     ]
    }
   ],
   "source": [
    "#영화에 대한 상세 속성 정보 DataFrame 로딩\n",
    "movies = pd.read_csv('./movies.csv')\n",
    "\n",
    "# userId =9 의 movieId 데이터 추출하여 movieId = 42 데이터가 있는지 확인\n",
    "movieIds = ratings[ratings['userId']==9]['movieId']\n",
    "if movieIds[movieIds==42].count() == 0:\n",
    "    print('사용자 아이디 9 는 영화 아이디 42 의 평점 없음')\n",
    "    \n",
    "print(movies[movies['movieId']==42])"
   ]
  },
  {
   "cell_type": "code",
   "execution_count": 137,
   "id": "99ecd28b-1960-4c79-9769-a660934fb6ea",
   "metadata": {},
   "outputs": [
    {
     "name": "stdout",
     "output_type": "stream",
     "text": [
      "user: 9          item: 42         r_ui = None   est = 2.93   {'was_impossible': False}\n"
     ]
    }
   ],
   "source": [
    "uid = str(9)\n",
    "iid = str(42)\n",
    "\n",
    "pred = algo.predict(uid,iid, verbose=True)"
   ]
  },
  {
   "cell_type": "code",
   "execution_count": 138,
   "id": "6dadd28c-a715-46cb-8789-17aaebd11edd",
   "metadata": {},
   "outputs": [
    {
     "name": "stdout",
     "output_type": "stream",
     "text": [
      "전체 영화 수 >>>  9742\n",
      "평점 매긴 영화 수 >>>  46\n",
      "안 본 영화 수 >>>  9696\n"
     ]
    }
   ],
   "source": [
    "## 내가 안본 영화 리스트를 구해서, 그 중에서 추천\n",
    "\n",
    "def get_unseen_surprise(movies, ratings, userId):\n",
    "    ## 1. 전체 영화id 리스트\n",
    "    total_movies = movies['movieId'].tolist()\n",
    "    ## 2. 내가 본 영화id 리스트\n",
    "    seen_movies = ratings[ratings['userId']== userId]['movieId'].tolist()\n",
    "    ## 3. 안본 영화 리스트 = 1 - 2\n",
    "    unseen_movies = [ movie for movie in total_movies if movie not in seen_movies]\n",
    "    \n",
    "    print('전체 영화 수 >>> ',len(total_movies))\n",
    "    print('평점 매긴 영화 수 >>> ',len(seen_movies))\n",
    "    print('안 본 영화 수 >>> ',len(unseen_movies))\n",
    "    return unseen_movies\n",
    "\n",
    "unseen_movies = get_unseen_surprise(movies, ratings, 9)"
   ]
  },
  {
   "cell_type": "code",
   "execution_count": 139,
   "id": "48804c33-3966-4ffb-85a2-6d05f2df1a11",
   "metadata": {},
   "outputs": [],
   "source": [
    "## 안본 영화 중에서 평점 예측이 높게 나온 5개를 리스트업하는 함수\n",
    "\n",
    "def recomm_movie_by_surprise(algo, userId, unseen_movies, top_n = 20):\n",
    "    ## 안본 영화리스트를 하나씩 꺼낸다음 평점을 예측하세요.\n",
    "    predictions = [ algo.predict(str(userId), str(movieId)) for movieId in unseen_movies]\n",
    "    \n",
    "    def sortkey_est(one):\n",
    "        return one.est\n",
    "    \n",
    "    predictions.sort(key= sortkey_est , reverse=True)\n",
    "    top_predictions = predictions[:top_n]\n",
    "    \n",
    "    top_movie_ids = [ int(pred.iid) for pred in top_predictions]\n",
    "    top_movie_rating = [ pred.est for pred in top_predictions]\n",
    "    top_movie_titles = movies[movies.movieId.isin(top_movie_ids)]['title']\n",
    "    print(list(zip(top_movie_ids, top_movie_titles, top_movie_rating)))\n",
    "    top_movie_preds = [ (id, title, rating) for id, title, rating in zip(top_movie_ids, top_movie_titles, top_movie_rating)]\n",
    "#     print(len(top_predictions))\n",
    "#     print(top_predictions)\n",
    "    return top_movie_preds\n",
    "    "
   ]
  },
  {
   "cell_type": "code",
   "execution_count": 140,
   "id": "c9620914-08de-42bd-ba26-89447979e2d4",
   "metadata": {},
   "outputs": [
    {
     "name": "stdout",
     "output_type": "stream",
     "text": [
      "[(750, 'Usual Suspects, The (1995)', 4.476281873922615), (1089, 'Pulp Fiction (1994)', 4.322834963507822), (1208, 'Shawshank Redemption, The (1994)', 4.298289575182489), (318, \"Schindler's List (1993)\", 4.297756703770234), (3030, 'Blade Runner (1982)', 4.278983600619644), (1221, 'Dr. Strangelove or: How I Learned to Stop Worrying and Love the Bomb (1964)', 4.277241857354926), (1223, 'Godfather, The (1972)', 4.270334230138356), (541, 'Philadelphia Story, The (1940)', 4.265267861176618), (1213, 'Reservoir Dogs (1992)', 4.228429211998829), (858, 'Streetcar Named Desire, A (1951)', 4.222827678536802), (1148, 'Wallace & Gromit: The Wrong Trousers (1993)', 4.221645813815583), (1217, 'Lawrence of Arabia (1962)', 4.221607101511421), (898, 'Apocalypse Now (1979)', 4.211939482048961), (1230, 'Goodfellas (1990)', 4.177738564718491), (50, 'Ran (1985)', 4.1725948948558065), (296, 'Godfather: Part II, The (1974)', 4.169674931341478), (1204, 'Grand Day Out with Wallace and Gromit, A (1989)', 4.168654203203002), (2019, 'Annie Hall (1977)', 4.16696660920886), (527, 'Seven Samurai (Shichinin no samurai) (1954)', 4.161505393355357), (1104, 'Yojimbo (1961)', 4.158058793845473)]\n"
     ]
    },
    {
     "data": {
      "text/plain": [
       "[(750, 'Usual Suspects, The (1995)', 4.476281873922615),\n",
       " (1089, 'Pulp Fiction (1994)', 4.322834963507822),\n",
       " (1208, 'Shawshank Redemption, The (1994)', 4.298289575182489),\n",
       " (318, \"Schindler's List (1993)\", 4.297756703770234),\n",
       " (3030, 'Blade Runner (1982)', 4.278983600619644),\n",
       " (1221,\n",
       "  'Dr. Strangelove or: How I Learned to Stop Worrying and Love the Bomb (1964)',\n",
       "  4.277241857354926),\n",
       " (1223, 'Godfather, The (1972)', 4.270334230138356),\n",
       " (541, 'Philadelphia Story, The (1940)', 4.265267861176618),\n",
       " (1213, 'Reservoir Dogs (1992)', 4.228429211998829),\n",
       " (858, 'Streetcar Named Desire, A (1951)', 4.222827678536802),\n",
       " (1148, 'Wallace & Gromit: The Wrong Trousers (1993)', 4.221645813815583),\n",
       " (1217, 'Lawrence of Arabia (1962)', 4.221607101511421),\n",
       " (898, 'Apocalypse Now (1979)', 4.211939482048961),\n",
       " (1230, 'Goodfellas (1990)', 4.177738564718491),\n",
       " (50, 'Ran (1985)', 4.1725948948558065),\n",
       " (296, 'Godfather: Part II, The (1974)', 4.169674931341478),\n",
       " (1204, 'Grand Day Out with Wallace and Gromit, A (1989)', 4.168654203203002),\n",
       " (2019, 'Annie Hall (1977)', 4.16696660920886),\n",
       " (527, 'Seven Samurai (Shichinin no samurai) (1954)', 4.161505393355357),\n",
       " (1104, 'Yojimbo (1961)', 4.158058793845473)]"
      ]
     },
     "execution_count": 140,
     "metadata": {},
     "output_type": "execute_result"
    }
   ],
   "source": [
    "top_preds = recomm_movie_by_surprise(algo, 9, unseen_movies)\n",
    "top_preds"
   ]
  },
  {
   "cell_type": "code",
   "execution_count": 141,
   "id": "7272407d-77a8-4ff9-ac08-463ac3560d83",
   "metadata": {},
   "outputs": [
    {
     "name": "stdout",
     "output_type": "stream",
     "text": [
      "(1089, 'Pulp Fiction (1994)', 4.322834963507822)\n"
     ]
    }
   ],
   "source": [
    "print(top_preds[1])"
   ]
  },
  {
   "cell_type": "code",
   "execution_count": null,
   "id": "f8b68821-af40-4153-b4e5-891f56fc05b0",
   "metadata": {},
   "outputs": [],
   "source": []
  }
 ],
 "metadata": {
  "kernelspec": {
   "display_name": "Python 3",
   "language": "python",
   "name": "python3"
  },
  "language_info": {
   "codemirror_mode": {
    "name": "ipython",
    "version": 3
   },
   "file_extension": ".py",
   "mimetype": "text/x-python",
   "name": "python",
   "nbconvert_exporter": "python",
   "pygments_lexer": "ipython3",
   "version": "3.8.8"
  }
 },
 "nbformat": 4,
 "nbformat_minor": 5
}
