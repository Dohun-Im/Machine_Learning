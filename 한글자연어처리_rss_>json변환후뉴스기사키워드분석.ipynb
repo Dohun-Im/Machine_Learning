{
  "nbformat": 4,
  "nbformat_minor": 0,
  "metadata": {
    "colab": {
      "name": "한글자연어처리/rss->json변환후뉴스기사키워드분석.ipynb",
      "provenance": [],
      "collapsed_sections": [],
      "authorship_tag": "ABX9TyPJno7wu3RQ8au0QADCF5YQ",
      "include_colab_link": true
    },
    "kernelspec": {
      "name": "python3",
      "display_name": "Python 3"
    },
    "language_info": {
      "name": "python"
    }
  },
  "cells": [
    {
      "cell_type": "markdown",
      "metadata": {
        "id": "view-in-github",
        "colab_type": "text"
      },
      "source": [
        "<a href=\"https://colab.research.google.com/github/Dohun-Im/Machine_Learning/blob/master/%ED%95%9C%EA%B8%80%EC%9E%90%EC%97%B0%EC%96%B4%EC%B2%98%EB%A6%AC_rss_%3Ejson%EB%B3%80%ED%99%98%ED%9B%84%EB%89%B4%EC%8A%A4%EA%B8%B0%EC%82%AC%ED%82%A4%EC%9B%8C%EB%93%9C%EB%B6%84%EC%84%9D.ipynb\" target=\"_parent\"><img src=\"https://colab.research.google.com/assets/colab-badge.svg\" alt=\"Open In Colab\"/></a>"
      ]
    },
    {
      "cell_type": "code",
      "execution_count": 1,
      "metadata": {
        "colab": {
          "base_uri": "https://localhost:8080/"
        },
        "id": "fq3b9pQejXVj",
        "outputId": "5f2d3bfb-da5c-48d9-9ecc-92c94771d436"
      },
      "outputs": [
        {
          "output_type": "stream",
          "name": "stdout",
          "text": [
            "Requirement already satisfied: konlpy in /usr/local/lib/python3.7/dist-packages (0.5.2)\n",
            "Requirement already satisfied: beautifulsoup4==4.6.0 in /usr/local/lib/python3.7/dist-packages (from konlpy) (4.6.0)\n",
            "Requirement already satisfied: lxml>=4.1.0 in /usr/local/lib/python3.7/dist-packages (from konlpy) (4.2.6)\n",
            "Requirement already satisfied: numpy>=1.6 in /usr/local/lib/python3.7/dist-packages (from konlpy) (1.19.5)\n",
            "Requirement already satisfied: tweepy>=3.7.0 in /usr/local/lib/python3.7/dist-packages (from konlpy) (3.10.0)\n",
            "Requirement already satisfied: JPype1>=0.7.0 in /usr/local/lib/python3.7/dist-packages (from konlpy) (1.3.0)\n",
            "Requirement already satisfied: colorama in /usr/local/lib/python3.7/dist-packages (from konlpy) (0.4.4)\n",
            "Requirement already satisfied: typing-extensions in /usr/local/lib/python3.7/dist-packages (from JPype1>=0.7.0->konlpy) (3.10.0.2)\n",
            "Requirement already satisfied: requests[socks]>=2.11.1 in /usr/local/lib/python3.7/dist-packages (from tweepy>=3.7.0->konlpy) (2.23.0)\n",
            "Requirement already satisfied: requests-oauthlib>=0.7.0 in /usr/local/lib/python3.7/dist-packages (from tweepy>=3.7.0->konlpy) (1.3.0)\n",
            "Requirement already satisfied: six>=1.10.0 in /usr/local/lib/python3.7/dist-packages (from tweepy>=3.7.0->konlpy) (1.15.0)\n",
            "Requirement already satisfied: oauthlib>=3.0.0 in /usr/local/lib/python3.7/dist-packages (from requests-oauthlib>=0.7.0->tweepy>=3.7.0->konlpy) (3.1.1)\n",
            "Requirement already satisfied: urllib3!=1.25.0,!=1.25.1,<1.26,>=1.21.1 in /usr/local/lib/python3.7/dist-packages (from requests[socks]>=2.11.1->tweepy>=3.7.0->konlpy) (1.24.3)\n",
            "Requirement already satisfied: certifi>=2017.4.17 in /usr/local/lib/python3.7/dist-packages (from requests[socks]>=2.11.1->tweepy>=3.7.0->konlpy) (2021.10.8)\n",
            "Requirement already satisfied: idna<3,>=2.5 in /usr/local/lib/python3.7/dist-packages (from requests[socks]>=2.11.1->tweepy>=3.7.0->konlpy) (2.10)\n",
            "Requirement already satisfied: chardet<4,>=3.0.2 in /usr/local/lib/python3.7/dist-packages (from requests[socks]>=2.11.1->tweepy>=3.7.0->konlpy) (3.0.4)\n",
            "Requirement already satisfied: PySocks!=1.5.7,>=1.5.6 in /usr/local/lib/python3.7/dist-packages (from requests[socks]>=2.11.1->tweepy>=3.7.0->konlpy) (1.7.1)\n"
          ]
        }
      ],
      "source": [
        "! pip install konlpy   # ! : 리눅스 환경의 터미널에서 쓰는 명령어를 쓰겠다는 뜻"
      ]
    },
    {
      "cell_type": "code",
      "source": [
        "from konlpy.tag import Okt"
      ],
      "metadata": {
        "id": "AJgmjV89mBsn"
      },
      "execution_count": 2,
      "outputs": []
    },
    {
      "cell_type": "code",
      "source": [
        "okt = Okt()\n",
        "okt"
      ],
      "metadata": {
        "colab": {
          "base_uri": "https://localhost:8080/"
        },
        "id": "MFX-v23Wmm6a",
        "outputId": "081d61c4-ba1e-4166-8953-ae72770fcc21"
      },
      "execution_count": 3,
      "outputs": [
        {
          "output_type": "execute_result",
          "data": {
            "text/plain": [
              "<konlpy.tag._okt.Okt at 0x7f2f2f56dad0>"
            ]
          },
          "metadata": {},
          "execution_count": 3
        }
      ]
    },
    {
      "cell_type": "code",
      "source": [
        "words = \"나는 한글이란다.~!~!~!!!!~~~!! 너도 한글이???\""
      ],
      "metadata": {
        "id": "aFDP8QxNmqhJ"
      },
      "execution_count": 4,
      "outputs": []
    },
    {
      "cell_type": "code",
      "source": [
        "noun_list = okt.nouns(words)\n",
        "noun_list"
      ],
      "metadata": {
        "colab": {
          "base_uri": "https://localhost:8080/"
        },
        "id": "__DCd3UenFZq",
        "outputId": "293854ad-e8b3-43a7-bc72-09869c43b960"
      },
      "execution_count": 5,
      "outputs": [
        {
          "output_type": "execute_result",
          "data": {
            "text/plain": [
              "['나', '한글', '너', '한글']"
            ]
          },
          "metadata": {},
          "execution_count": 5
        }
      ]
    },
    {
      "cell_type": "code",
      "source": [
        "from collections import Counter"
      ],
      "metadata": {
        "id": "60_3pXHCnHr3"
      },
      "execution_count": 6,
      "outputs": []
    },
    {
      "cell_type": "code",
      "source": [
        "count = Counter(noun_list)\n",
        "count"
      ],
      "metadata": {
        "colab": {
          "base_uri": "https://localhost:8080/"
        },
        "id": "Q_chxzvini2k",
        "outputId": "623dcf5b-0857-4699-91d0-a76fbb79d411"
      },
      "execution_count": 7,
      "outputs": [
        {
          "output_type": "execute_result",
          "data": {
            "text/plain": [
              "Counter({'나': 1, '너': 1, '한글': 2})"
            ]
          },
          "metadata": {},
          "execution_count": 7
        }
      ]
    },
    {
      "cell_type": "code",
      "source": [
        "count.most_common(2)"
      ],
      "metadata": {
        "colab": {
          "base_uri": "https://localhost:8080/"
        },
        "id": "F6Hwlky8nsz9",
        "outputId": "73a069e7-5652-4df0-f2cf-c2c400664ea9"
      },
      "execution_count": 8,
      "outputs": [
        {
          "output_type": "execute_result",
          "data": {
            "text/plain": [
              "[('한글', 2), ('나', 1)]"
            ]
          },
          "metadata": {},
          "execution_count": 8
        }
      ]
    },
    {
      "cell_type": "code",
      "source": [
        "words2 = \"마블 시네마틱 유니버스(MCU)의 절대적인 추종자든, 평소 히어로물에 냉소를 보냈던 '노관심' 관객이든 새 영화 '스파이더맨:노 웨이 홈'은 많은 관객에게 공감을 건넬 작품이다. 영화 '인셉션'을 능가하는 기하학적 영상미, 영웅을 소환하는 기막힌 서사 흐름, 깔끔하고도 설득력 높은 논리 전개에 박수를 보낼 만하다. 개봉을 하루 앞둔 14일 '스파이더맨:노 웨이 홈'은 예매율 95.8%, 사전예매 관객 70만명(밤 10시 기준)을 돌파했다. 코로나19로 인해 시들었던 영화계에 활기를 불어넣을 것으로 예상된다. 이날 열린 언론 시사회에서 '스파이더 보이'가 '스파이더맨'으로 성장하는 이야기를 미리 살펴봤다.\""
      ],
      "metadata": {
        "id": "XFY3Rd9XnxiD"
      },
      "execution_count": 9,
      "outputs": []
    },
    {
      "cell_type": "code",
      "source": [
        "noun_list = okt.nouns(words2)\n",
        "noun_list"
      ],
      "metadata": {
        "colab": {
          "base_uri": "https://localhost:8080/"
        },
        "id": "RPFBiHHLoW4n",
        "outputId": "ab488598-6a1a-41ac-9707-70e5e75e9962"
      },
      "execution_count": 10,
      "outputs": [
        {
          "output_type": "execute_result",
          "data": {
            "text/plain": [
              "['마블',\n",
              " '시네마',\n",
              " '유니버스',\n",
              " '의',\n",
              " '절대',\n",
              " '추종자',\n",
              " '평소',\n",
              " '히어로',\n",
              " '물',\n",
              " '냉소',\n",
              " '노',\n",
              " '관심',\n",
              " '관객',\n",
              " '새',\n",
              " '영화',\n",
              " '스파이더맨',\n",
              " '노',\n",
              " '웨이',\n",
              " '홈',\n",
              " '은',\n",
              " '관객',\n",
              " '공감',\n",
              " '작품',\n",
              " '영화',\n",
              " '인셉션',\n",
              " '능가',\n",
              " '기하학',\n",
              " '상미',\n",
              " '영웅',\n",
              " '소환',\n",
              " '서사',\n",
              " '흐름',\n",
              " '설득',\n",
              " '논리',\n",
              " '전개',\n",
              " '박수',\n",
              " '만하',\n",
              " '개봉',\n",
              " '하루',\n",
              " '스파이더맨',\n",
              " '노',\n",
              " '웨이',\n",
              " '홈',\n",
              " '은',\n",
              " '예매',\n",
              " '율',\n",
              " '사전',\n",
              " '예매',\n",
              " '관객',\n",
              " '밤',\n",
              " '기준',\n",
              " '돌파',\n",
              " '코로나',\n",
              " '로',\n",
              " '영화계',\n",
              " '활기',\n",
              " '불어',\n",
              " '것',\n",
              " '예상',\n",
              " '날',\n",
              " '언론',\n",
              " '시사회',\n",
              " '스파이더',\n",
              " '보이',\n",
              " '스파이더맨',\n",
              " '이야기',\n",
              " '미리']"
            ]
          },
          "metadata": {},
          "execution_count": 10
        }
      ]
    },
    {
      "cell_type": "code",
      "source": [
        "count = Counter(noun_list)\n",
        "count"
      ],
      "metadata": {
        "colab": {
          "base_uri": "https://localhost:8080/"
        },
        "id": "MsVNa283o9C9",
        "outputId": "e53b7c60-9644-492b-8822-e92bddf11bd2"
      },
      "execution_count": 11,
      "outputs": [
        {
          "output_type": "execute_result",
          "data": {
            "text/plain": [
              "Counter({'개봉': 1,\n",
              "         '것': 1,\n",
              "         '공감': 1,\n",
              "         '관객': 3,\n",
              "         '관심': 1,\n",
              "         '기준': 1,\n",
              "         '기하학': 1,\n",
              "         '날': 1,\n",
              "         '냉소': 1,\n",
              "         '노': 3,\n",
              "         '논리': 1,\n",
              "         '능가': 1,\n",
              "         '돌파': 1,\n",
              "         '로': 1,\n",
              "         '마블': 1,\n",
              "         '만하': 1,\n",
              "         '물': 1,\n",
              "         '미리': 1,\n",
              "         '박수': 1,\n",
              "         '밤': 1,\n",
              "         '보이': 1,\n",
              "         '불어': 1,\n",
              "         '사전': 1,\n",
              "         '상미': 1,\n",
              "         '새': 1,\n",
              "         '서사': 1,\n",
              "         '설득': 1,\n",
              "         '소환': 1,\n",
              "         '스파이더': 1,\n",
              "         '스파이더맨': 3,\n",
              "         '시네마': 1,\n",
              "         '시사회': 1,\n",
              "         '언론': 1,\n",
              "         '영웅': 1,\n",
              "         '영화': 2,\n",
              "         '영화계': 1,\n",
              "         '예매': 2,\n",
              "         '예상': 1,\n",
              "         '웨이': 2,\n",
              "         '유니버스': 1,\n",
              "         '율': 1,\n",
              "         '은': 2,\n",
              "         '의': 1,\n",
              "         '이야기': 1,\n",
              "         '인셉션': 1,\n",
              "         '작품': 1,\n",
              "         '전개': 1,\n",
              "         '절대': 1,\n",
              "         '추종자': 1,\n",
              "         '코로나': 1,\n",
              "         '평소': 1,\n",
              "         '하루': 1,\n",
              "         '홈': 2,\n",
              "         '활기': 1,\n",
              "         '흐름': 1,\n",
              "         '히어로': 1})"
            ]
          },
          "metadata": {},
          "execution_count": 11
        }
      ]
    },
    {
      "cell_type": "code",
      "source": [
        "count.most_common(3)"
      ],
      "metadata": {
        "colab": {
          "base_uri": "https://localhost:8080/"
        },
        "id": "YC06gJrqpAP8",
        "outputId": "cc575fb0-1530-4fc8-fa69-9605b44c73ec"
      },
      "execution_count": 12,
      "outputs": [
        {
          "output_type": "execute_result",
          "data": {
            "text/plain": [
              "[('노', 3), ('관객', 3), ('스파이더맨', 3)]"
            ]
          },
          "metadata": {},
          "execution_count": 12
        }
      ]
    },
    {
      "cell_type": "code",
      "source": [
        "word_count = dict()\n",
        "for tag, count in count.most_common(15):\n",
        "  if(len(str(tag)) >1):\n",
        "    word_count[tag] = count\n",
        "word_count"
      ],
      "metadata": {
        "colab": {
          "base_uri": "https://localhost:8080/"
        },
        "id": "EuhiMTxmpAf6",
        "outputId": "3c0d2ba6-0ad4-4f61-e759-684690a4d2c0"
      },
      "execution_count": 13,
      "outputs": [
        {
          "output_type": "execute_result",
          "data": {
            "text/plain": [
              "{'관객': 3,\n",
              " '마블': 1,\n",
              " '스파이더맨': 3,\n",
              " '시네마': 1,\n",
              " '영화': 2,\n",
              " '예매': 2,\n",
              " '웨이': 2,\n",
              " '유니버스': 1,\n",
              " '절대': 1,\n",
              " '추종자': 1,\n",
              " '평소': 1}"
            ]
          },
          "metadata": {},
          "execution_count": 13
        }
      ]
    },
    {
      "cell_type": "code",
      "source": [
        "import json\n",
        "\n",
        "# xml -> <money>1000</money>\n",
        "# eXtensible Markup Languages(확장 가능한 ML)\n",
        "# Json -> {'money': 1000}\n",
        "# JavaScript Object Notation(Json)"
      ],
      "metadata": {
        "id": "ABB1MHGIuRsR"
      },
      "execution_count": 14,
      "outputs": []
    },
    {
      "cell_type": "code",
      "source": [
        "file_name='/content/etnews.kr_facebook_2016-01-01_2018-08-01_4차 산업혁명.json'\n",
        "\n",
        "json_data = json.loads(open(file_name, 'r', encoding='utf-8').read())\n",
        "json_data"
      ],
      "metadata": {
        "colab": {
          "base_uri": "https://localhost:8080/"
        },
        "id": "XjoyHsxuvIYC",
        "outputId": "baecdb1f-b370-4c93-8684-5c46834eda37"
      },
      "execution_count": 54,
      "outputs": [
        {
          "output_type": "execute_result",
          "data": {
            "text/plain": [
              "[{'created_time': '2018-06-20 18:06:39',\n",
              "  'link': 'https://www.facebook.com/etnews.kr/videos/1981346601899735/',\n",
              "  'message': '6월의 스파크포럼 - \"미래 시대, 조직의 변화도 시작됐다!\"\\n\\n스파크포럼은 현 사회의 사회문제 및 이슈를 제기하고, 그 이슈를 혁신적으로 해결하고자 하는 소셜이노베이터를 발굴, 지원하여 우리 사회 따뜻한 변화를 확산시키지 위해 만들어진 도전과 만남의 자리입니다.\\n\\n6월의 스파크포럼에서는 4차 산업혁명 시대의 기업조직과 조직문화를 살펴보고, 조직의 변화를 받아들이고 실험해나가는 사례를 통해 미래 시대 조직이 나아가야 할 방향을 함께 생각해보고자 합니다.',\n",
              "  'name': '6월의 스파크포럼 - \"미래 시대, 조직의 변화도 시작됐다!\"',\n",
              "  'post_id': '407886705912407_1981346601899735',\n",
              "  'total_comments': 3},\n",
              " {'created_time': '2018-06-14 10:41:16',\n",
              "  'link': 'http://www.etnews.com/20180612000347',\n",
              "  'message': '로봇이 4차 산업혁명 주요 성장 동력으로 떠오르면서 국내 로봇 기업에 재평가가 이뤄지고 있다는 분석입니다.',\n",
              "  'name': '기술력 갖춘 로봇기업 몸값 치솟는다',\n",
              "  'post_id': '407886705912407_1971252229575839',\n",
              "  'total_comments': 0},\n",
              " {'created_time': '2018-04-10 17:42:00',\n",
              "  'link': 'http://www.etnews.com/20180409000360?mc=em_002_00001',\n",
              "  'message': '4차 산업혁명 시대 금융 산업 전반 점검해야 한다는...',\n",
              "  'name': \"휘청거리는 대한민국 '금융'...서민도 기업도 ICT도 실종\",\n",
              "  'post_id': '407886705912407_1900738133293916',\n",
              "  'total_comments': 0},\n",
              " {'created_time': '2018-03-05 12:05:00',\n",
              "  'link': 'https://goo.gl/qPEyAJ',\n",
              "  'message': \"공통 간판 공약은 '4차 산업혁명 선도 도시 구현'과 '가상화폐·블록체인 기술 활용' 등입니다. https://goo.gl/qPEyAJ\",\n",
              "  'name': \"지방선거 D-100 정책 공약 '4차산업혁명'에 초점\",\n",
              "  'post_id': '407886705912407_1859978837369846',\n",
              "  'total_comments': 0},\n",
              " {'created_time': '2018-02-05 17:20:01',\n",
              "  'link': 'http://www.etnews.com/20180205000237',\n",
              "  'message': '이번 과정은 4차 산업혁명 핵심 기술인 AI에 대한 통찰력과 알파고를 통해 우리 일상과 익숙해진 로봇, 빅데이터 산업 흐름을 알려줍니다. #인공지능 #최고위과정 #산학연최고전문가 https://goo.gl/jSZSNX',\n",
              "  'name': '[알림]제2기 인공지능 최고위 과정 모집',\n",
              "  'post_id': '407886705912407_1829059807128416',\n",
              "  'total_comments': 0},\n",
              " {'created_time': '2018-01-29 23:39:00',\n",
              "  'link': 'http://www.etnews.com/20180129000403?mc=em_003_00001',\n",
              "  'message': '4차 산업혁명 모든 기술과 서비스 구현',\n",
              "  'name': \"첫 스마트시티 '부산·세종' 낙점...규제 프리존으로\",\n",
              "  'post_id': '407886705912407_1821177084583355',\n",
              "  'total_comments': 0},\n",
              " {'created_time': '2017-11-09 18:11:43',\n",
              "  'link': 'http://www.sek.co.kr/2017/nbf',\n",
              "  'message': '산업혁명의 나라, 영국엔 4차 산업혁명이 없다?\\n한국-영국 경험과 지혜를 모으는 ‘미래비즈니스포럼 2017’ 개최',\n",
              "  'name': '미래비즈니스포럼 2017 : 손에 잡히는 4차 산업혁명',\n",
              "  'post_id': '407886705912407_1735224763178588',\n",
              "  'total_comments': 0},\n",
              " {'created_time': '2017-10-25 13:08:49',\n",
              "  'link': 'https://www.facebook.com/etnews.kr/videos/1720053844695680/',\n",
              "  'message': \"[전자신문TV 라이브] SBA 신직업위크\\n\\n4차 산업혁명 시대의 경쟁력 확보와 일자리 창출의 해법을 신직업에서 찾고 있는 서울산업진흥원(SBA)이 자신들의 역량과 노력을 모두 담은 '제 2회 신직업위크'를 진행하고 있습니다.\\n\\n이번 전자신문TV라이브는 서울 대치동 SBA 신직업교육센터에서 강만구 신직업교육팀장과 서지윤 신직업리서치팀수석, 윤석원 테스트웍스 대표 등과 함께 '제 2회 신직업위크'와 최신 신직업트렌드를 알아보는 시간으로 마련했습니다. 많은 시청 바랍니다. \\n\\n#전자신문 #전자신문엔터 #전자신문TV #라이브 #소셜방송 #현장라이브 #손보련 #신직업위크 #서울산업진흥원 #SBA #신직업 #서울 #강만구 #서지윤 #윤석원 #테스트웍스 #소프트웨어 #테스터 #소프트웨어테스터\",\n",
              "  'name': '[전자신문TV 라이브] SBA 신직업위크',\n",
              "  'post_id': '407886705912407_1720053844695680',\n",
              "  'total_comments': 0},\n",
              " {'created_time': '2017-10-06 11:50:00',\n",
              "  'link': 'http://www.etnews.com/20171005000056?mc=em_011_00001',\n",
              "  'message': '혹시 우리나라도?~~4차 산업혁명 시대 떠오르는 일자리 전략으로 강추~~',\n",
              "  'name': '日, 인공지능 활용능력 자격시험 만든다',\n",
              "  'post_id': '407886705912407_1700789646622100',\n",
              "  'total_comments': 1},\n",
              " {'created_time': '2017-09-25 15:30:00',\n",
              "  'link': 'http://www.etnews.com/20170924000106?mc=em_003_00001',\n",
              "  'message': '4차 산업혁명 대응에 가장 강점 분야는 5세대 이동통신...건강한 산업 생태계 조성 노력 강조',\n",
              "  'name': \"김상조 공정위원장 “기업집단국, 조사국과 달라…'존경받는 기업' 만드는 게 핵심”\",\n",
              "  'post_id': '407886705912407_1691461310888267',\n",
              "  'total_comments': 0},\n",
              " {'created_time': '2017-08-29 00:54:00',\n",
              "  'link': 'http://www.etnews.com/20170825000162?mc=em_009_00001',\n",
              "  'message': \"중앙부처 공무원 51.3% '4차 산업혁명 관련 가장 시급히 대응해야 할 기술적 과제'로 빅데이터 활용 꼽\",\n",
              "  'name': '현직 공무원들 \"빅데이터·AI, 정책에 적극 활용\"…4차 산업혁명 인식 높아',\n",
              "  'post_id': '407886705912407_1665258370175228',\n",
              "  'total_comments': 1},\n",
              " {'created_time': '2017-08-17 15:37:14',\n",
              "  'link': 'https://www.facebook.com/etnews.kr/videos/1655135431187522/',\n",
              "  'message': '[전자신문TV 라이브] 직격인터뷰 - 서울산업진흥원(SBA) 주형철 대표이사\\n\\n최근 각급 공공기관들이 4차 산업혁명기를 맞은 국내 중소기업의 경쟁력과 일자리 창출을 위해 노력하고 있는데요.\\n\\n이번 전자신문TV 라이브는 중소기업 활성화와 일자리 창출에 앞장서는 공공기관 중 대표적 사례로 꼽히는 서울산업진흥원 주형철 대표이사를 모시고 다양한 이야기를 듣는 시간으로 진행됩니다.\\n\\n#전자신문 #전자신문TV #서울산업진흥원 #SBA #주형철 #소성렬',\n",
              "  'name': '[전자신문TV 라이브] 직격인터뷰 - 서울산업진흥원(SBA) 주형철 대표이사',\n",
              "  'post_id': '407886705912407_1655135431187522',\n",
              "  'total_comments': 15},\n",
              " {'created_time': '2017-08-12 17:48:00',\n",
              "  'link': 'http://www.etnews.com/20170810000414?mc=em_009_00001',\n",
              "  'message': '4차 산업혁명 대응은 일자리 창출과 함께 문재인 정부 주요 국정 과제인 데도 우선순위에서 밀렸다는 지적',\n",
              "  'name': '4차 산업혁명위 출범 후순위로 밀렸다',\n",
              "  'post_id': '407886705912407_1648865381814527',\n",
              "  'total_comments': 0},\n",
              " {'created_time': '2017-06-09 22:00:00',\n",
              "  'link': 'http://www.etnews.com/20170608000300?mc=em_009_00001',\n",
              "  'message': '통합·개혁 행보에서 빠른 움직임을 보였지만 4차 산업혁명 등 신성장동력 창출에서는 한 발짝도 못 나갔다는 평입니다...',\n",
              "  'name': \"새정부 출범 한 달...'통합·개혁'엔 진일보, '4차 산업혁명 대응' 한발짝도 못 나가\",\n",
              "  'post_id': '407886705912407_1579376925430040',\n",
              "  'total_comments': 4},\n",
              " {'created_time': '2017-05-24 18:30:00',\n",
              "  'link': 'http://www.etnews.com/20170524000281?mc=em_001_00001',\n",
              "  'message': \"미래창조과학부가 주최하고 전자신문사, 한국경제신문, 한국정보통신진흥협회(KAIT) 주관으로 24일 서울 강남구 삼성동 코엑스에서 개막된 '월드IT쇼(WIS) 2017'은 4차 산업혁명이 더 이상 개념이 아니라 현실로 다가왔음을 입증했습니다~\",\n",
              "  'name': '[WIS 2017]4차 산업혁명, 현실과 마주한 날',\n",
              "  'post_id': '407886705912407_1562807837086949',\n",
              "  'total_comments': 0},\n",
              " {'created_time': '2017-05-17 18:38:04',\n",
              "  'link': 'https://www.facebook.com/etnews.kr/photos/a.409377469096664/1556319464402453/?type=3',\n",
              "  'message': '[전자신문TV 라이브 예고]\\n이번 전자신문TV는 4차 산업혁명과 과학기술 영상컨퍼런스를 생중계합니다~! 광운대학교 이승현 교수님을 모시고 진행하는 이번 행사는 VR. AR 기술과 몰힙형 미디어에 대해 설명해 주신다고 합니다!\\n\\n이번 행사는 전자신문 Entertainment와 가상현실 스튜디오 솔루션을 제작한 다림비젼, 중견기업TV와 함께  4차 산업 정보 채널 IBSB(IT Tech. & Business SNS Broadcast)를 통해 진행합니다.\\n\\nIBSB는 전세계 4차 산업 혁명의 현장의 생생한 IT 소식과 정보, 컨퍼런스의 강연, VOD정보를 VR 기술과 원격 Live방송 기술을 중심으로 시간과 거리를 초월하는 실시간 TELE-Presentation 기술의 새로운 방송 서비스입니다.\\n\\n이런 유익한 강의를 전자신문 페이스북을 통해서 시청하실 수 있습니다~ 많은 관심부탁드립니다♥',\n",
              "  'name': 'Timeline Photos',\n",
              "  'post_id': '407886705912407_1556319464402453',\n",
              "  'total_comments': 1},\n",
              " {'created_time': '2017-04-05 07:00:00',\n",
              "  'link': 'http://www.etnews.com/20170404000230',\n",
              "  'message': '대선 국면이지만 법안의 시급성 때문에 4차 산업혁명 대비 법제 개편 논의가 불붙을 전망입니다...',\n",
              "  'name': \"'4차 산업혁명 기본법' 나왔다…대선 기간 법제화 논의 불붙을듯\",\n",
              "  'post_id': '407886705912407_1505222409512159',\n",
              "  'total_comments': 1},\n",
              " {'created_time': '2017-02-14 08:30:01',\n",
              "  'link': 'http://www.etnews.com/20170213000307',\n",
              "  'message': '4차 산업혁명 시대 대비!!!',\n",
              "  'name': '[차기 정부 거버넌스 개편 방향 좌담회]\"400조 정부, 혁신부총리가 답이다\"',\n",
              "  'post_id': '407886705912407_1452393468128387',\n",
              "  'total_comments': 0},\n",
              " {'created_time': '2016-01-25 06:00:00',\n",
              "  'link': 'http://www.etnews.com/20160124000075',\n",
              "  'message': '‘#4차산업혁명 의 이해(Mastering the Fourth Industrial Revolution)’...\\n23일 폐막한 #다보스포럼 에서는  4차 산업혁명 기대와 우려가 교차했는데요. 구글, 애플, 페이스북, 삼성전자, LG전자가 앞다퉈 4차 산업혁명 흐름에 뛰어 들고 있습니다.',\n",
              "  'name': '[이슈분석]다보스포럼, 4차 산업혁명 기대와 우려 교차',\n",
              "  'post_id': '407886705912407_1106254916075579',\n",
              "  'total_comments': 0}]"
            ]
          },
          "metadata": {},
          "execution_count": 54
        }
      ]
    },
    {
      "cell_type": "code",
      "source": [
        "all_data = ''"
      ],
      "metadata": {
        "id": "KHDAQVaZvUZq"
      },
      "execution_count": 16,
      "outputs": []
    },
    {
      "cell_type": "code",
      "source": [
        "import re"
      ],
      "metadata": {
        "id": "Hp7rvl01xSvy"
      },
      "execution_count": 17,
      "outputs": []
    },
    {
      "cell_type": "code",
      "source": [
        "for item in json_data: # dic의 리스트\n",
        "  if 'message' in item.keys():\n",
        "    all_data = all_data + re.sub(r'[^\\w]',' ', item['message']) + \" \"\n",
        "print(all_data)"
      ],
      "metadata": {
        "colab": {
          "base_uri": "https://localhost:8080/"
        },
        "id": "_5a7K-k8w6mf",
        "outputId": "d29f980b-dc42-4323-96db-2a0b5fd5ca92"
      },
      "execution_count": 18,
      "outputs": [
        {
          "output_type": "stream",
          "name": "stdout",
          "text": [
            "6월의 스파크포럼    미래 시대  조직의 변화도 시작됐다    스파크포럼은 현 사회의 사회문제 및 이슈를 제기하고  그 이슈를 혁신적으로 해결하고자 하는 소셜이노베이터를 발굴  지원하여 우리 사회 따뜻한 변화를 확산시키지 위해 만들어진 도전과 만남의 자리입니다   6월의 스파크포럼에서는 4차 산업혁명 시대의 기업조직과 조직문화를 살펴보고  조직의 변화를 받아들이고 실험해나가는 사례를 통해 미래 시대 조직이 나아가야 할 방향을 함께 생각해보고자 합니다  로봇이 4차 산업혁명 주요 성장 동력으로 떠오르면서 국내 로봇 기업에 재평가가 이뤄지고 있다는 분석입니다  4차 산업혁명 시대 금융 산업 전반 점검해야 한다는    공통 간판 공약은  4차 산업혁명 선도 도시 구현 과  가상화폐 블록체인 기술 활용  등입니다  https   goo gl qPEyAJ 이번 과정은 4차 산업혁명 핵심 기술인 AI에 대한 통찰력과 알파고를 통해 우리 일상과 익숙해진 로봇  빅데이터 산업 흐름을 알려줍니다   인공지능  최고위과정  산학연최고전문가 https   goo gl jSZSNX 4차 산업혁명 모든 기술과 서비스 구현 산업혁명의 나라  영국엔 4차 산업혁명이 없다  한국 영국 경험과 지혜를 모으는  미래비즈니스포럼 2017  개최  전자신문TV 라이브  SBA 신직업위크  4차 산업혁명 시대의 경쟁력 확보와 일자리 창출의 해법을 신직업에서 찾고 있는 서울산업진흥원 SBA 이 자신들의 역량과 노력을 모두 담은  제 2회 신직업위크 를 진행하고 있습니다   이번 전자신문TV라이브는 서울 대치동 SBA 신직업교육센터에서 강만구 신직업교육팀장과 서지윤 신직업리서치팀수석  윤석원 테스트웍스 대표 등과 함께  제 2회 신직업위크 와 최신 신직업트렌드를 알아보는 시간으로 마련했습니다  많은 시청 바랍니다     전자신문  전자신문엔터  전자신문TV  라이브  소셜방송  현장라이브  손보련  신직업위크  서울산업진흥원  SBA  신직업  서울  강만구  서지윤  윤석원  테스트웍스  소프트웨어  테스터  소프트웨어테스터 혹시 우리나라도   4차 산업혁명 시대 떠오르는 일자리 전략으로 강추   4차 산업혁명 대응에 가장 강점 분야는 5세대 이동통신   건강한 산업 생태계 조성 노력 강조 중앙부처 공무원 51 3   4차 산업혁명 관련 가장 시급히 대응해야 할 기술적 과제 로 빅데이터 활용 꼽  전자신문TV 라이브  직격인터뷰   서울산업진흥원 SBA  주형철 대표이사  최근 각급 공공기관들이 4차 산업혁명기를 맞은 국내 중소기업의 경쟁력과 일자리 창출을 위해 노력하고 있는데요   이번 전자신문TV 라이브는 중소기업 활성화와 일자리 창출에 앞장서는 공공기관 중 대표적 사례로 꼽히는 서울산업진흥원 주형철 대표이사를 모시고 다양한 이야기를 듣는 시간으로 진행됩니다    전자신문  전자신문TV  서울산업진흥원  SBA  주형철  소성렬 4차 산업혁명 대응은 일자리 창출과 함께 문재인 정부 주요 국정 과제인 데도 우선순위에서 밀렸다는 지적 통합 개혁 행보에서 빠른 움직임을 보였지만 4차 산업혁명 등 신성장동력 창출에서는 한 발짝도 못 나갔다는 평입니다    미래창조과학부가 주최하고 전자신문사  한국경제신문  한국정보통신진흥협회 KAIT  주관으로 24일 서울 강남구 삼성동 코엑스에서 개막된  월드IT쇼 WIS  2017 은 4차 산업혁명이 더 이상 개념이 아니라 현실로 다가왔음을 입증했습니다   전자신문TV 라이브 예고  이번 전자신문TV는 4차 산업혁명과 과학기술 영상컨퍼런스를 생중계합니다   광운대학교 이승현 교수님을 모시고 진행하는 이번 행사는 VR  AR 기술과 몰힙형 미디어에 대해 설명해 주신다고 합니다   이번 행사는 전자신문 Entertainment와 가상현실 스튜디오 솔루션을 제작한 다림비젼  중견기업TV와 함께  4차 산업 정보 채널 IBSB IT Tech    Business SNS Broadcast 를 통해 진행합니다   IBSB는 전세계 4차 산업 혁명의 현장의 생생한 IT 소식과 정보  컨퍼런스의 강연  VOD정보를 VR 기술과 원격 Live방송 기술을 중심으로 시간과 거리를 초월하는 실시간 TELE Presentation 기술의 새로운 방송 서비스입니다   이런 유익한 강의를 전자신문 페이스북을 통해서 시청하실 수 있습니다  많은 관심부탁드립니다  대선 국면이지만 법안의 시급성 때문에 4차 산업혁명 대비 법제 개편 논의가 불붙을 전망입니다    4차 산업혁명 시대 대비      4차산업혁명 의 이해 Mastering the Fourth Industrial Revolution      23일 폐막한  다보스포럼 에서는  4차 산업혁명 기대와 우려가 교차했는데요  구글  애플  페이스북  삼성전자  LG전자가 앞다퉈 4차 산업혁명 흐름에 뛰어 들고 있습니다  \n"
          ]
        }
      ]
    },
    {
      "cell_type": "code",
      "source": [
        "# 명사 단어 추출\n",
        "noun_list = okt.nouns(all_data)\n",
        "noun_list"
      ],
      "metadata": {
        "id": "Jk3SEX63xpRz"
      },
      "execution_count": null,
      "outputs": []
    },
    {
      "cell_type": "code",
      "source": [
        "count = Counter(noun_list)\n",
        "count"
      ],
      "metadata": {
        "id": "ufAuIyNex020"
      },
      "execution_count": null,
      "outputs": []
    },
    {
      "cell_type": "code",
      "source": [
        "count.most_common(10)[4:]"
      ],
      "metadata": {
        "colab": {
          "base_uri": "https://localhost:8080/"
        },
        "id": "J-mQwystx2HW",
        "outputId": "d8dba763-1d6e-41f1-d5e9-76d6a7f168dd"
      },
      "execution_count": 21,
      "outputs": [
        {
          "output_type": "execute_result",
          "data": {
            "text/plain": [
              "[('직업', 10), ('기술', 8), ('시대', 7), ('라이브', 7), ('이번', 6), ('진흥', 6)]"
            ]
          },
          "metadata": {},
          "execution_count": 21
        }
      ]
    },
    {
      "cell_type": "code",
      "source": [
        "word_count = dict()\n",
        "for tag, count in count.most_common(15):\n",
        "  if(len(str(tag)) >1):\n",
        "    word_count[tag] = count\n",
        "word_count"
      ],
      "metadata": {
        "colab": {
          "base_uri": "https://localhost:8080/"
        },
        "id": "45UEhi6c7hNz",
        "outputId": "d7a3c141-8511-4314-8690-3b3622941feb"
      },
      "execution_count": 22,
      "outputs": [
        {
          "output_type": "execute_result",
          "data": {
            "text/plain": [
              "{'기술': 8,\n",
              " '라이브': 7,\n",
              " '산업': 10,\n",
              " '산업혁명': 22,\n",
              " '시대': 7,\n",
              " '이번': 6,\n",
              " '일자리': 5,\n",
              " '전자신문': 13,\n",
              " '조직': 4,\n",
              " '직업': 10,\n",
              " '진흥': 6,\n",
              " '포럼': 5}"
            ]
          },
          "metadata": {},
          "execution_count": 22
        }
      ]
    },
    {
      "cell_type": "code",
      "source": [
        "import matplotlib.pyplot as plt\n"
      ],
      "metadata": {
        "id": "bQb1gt0a27mE"
      },
      "execution_count": 23,
      "outputs": []
    },
    {
      "cell_type": "code",
      "source": [
        "!sudo apt-get install -y fonts-nanum\n",
        "!sudo fc-cache -fv\n",
        "!rm ~/.cache/matplotlib -rf"
      ],
      "metadata": {
        "colab": {
          "base_uri": "https://localhost:8080/"
        },
        "id": "QB6hW7btx57E",
        "outputId": "e1caab2e-fc9a-49e2-b340-6e8a4b152e06"
      },
      "execution_count": 24,
      "outputs": [
        {
          "output_type": "stream",
          "name": "stdout",
          "text": [
            "Reading package lists... Done\n",
            "Building dependency tree       \n",
            "Reading state information... Done\n",
            "fonts-nanum is already the newest version (20170925-1).\n",
            "0 upgraded, 0 newly installed, 0 to remove and 37 not upgraded.\n",
            "/usr/share/fonts: caching, new cache contents: 0 fonts, 1 dirs\n",
            "/usr/share/fonts/truetype: caching, new cache contents: 0 fonts, 3 dirs\n",
            "/usr/share/fonts/truetype/humor-sans: caching, new cache contents: 1 fonts, 0 dirs\n",
            "/usr/share/fonts/truetype/liberation: caching, new cache contents: 16 fonts, 0 dirs\n",
            "/usr/share/fonts/truetype/nanum: caching, new cache contents: 10 fonts, 0 dirs\n",
            "/usr/local/share/fonts: caching, new cache contents: 0 fonts, 0 dirs\n",
            "/root/.local/share/fonts: skipping, no such directory\n",
            "/root/.fonts: skipping, no such directory\n",
            "/var/cache/fontconfig: cleaning cache directory\n",
            "/root/.cache/fontconfig: not cleaning non-existent cache directory\n",
            "/root/.fontconfig: not cleaning non-existent cache directory\n",
            "fc-cache: succeeded\n"
          ]
        }
      ]
    },
    {
      "cell_type": "code",
      "source": [
        "plt.rc('font', family = 'NanumGothic')"
      ],
      "metadata": {
        "id": "hR3rWu761URT"
      },
      "execution_count": 25,
      "outputs": []
    },
    {
      "cell_type": "code",
      "source": [
        ""
      ],
      "metadata": {
        "id": "enIOx6Qc-mCx"
      },
      "execution_count": null,
      "outputs": []
    },
    {
      "cell_type": "code",
      "source": [
        "plt.figure(figsize=(12,5))\n",
        "plt.xlabel(\"키워드\")\n",
        "plt.ylabel(\"빈도수\")\n",
        "plt.grid(True)\n",
        "\n",
        "plt.bar(range(len(word_count)), word_count.values())\n",
        "\n",
        "plt.xticks(range(len(word_count)), word_count, rotation='55')\n",
        "\n",
        "plt.show()"
      ],
      "metadata": {
        "colab": {
          "base_uri": "https://localhost:8080/",
          "height": 317
        },
        "id": "QlYu3kyc2obO",
        "outputId": "f40a2764-b6bd-4953-dc1f-e28240ed8b2a"
      },
      "execution_count": 26,
      "outputs": [
        {
          "output_type": "display_data",
          "data": {
            "image/png": "[encoded data removed]",
            "text/plain": [
              "<Figure size 864x360 with 1 Axes>"
            ]
          },
          "metadata": {
            "needs_background": "light"
          }
        }
      ]
    },
    {
      "cell_type": "code",
      "source": [
        "file_name='/content/rss.joins.com-joins-homenews-list.xml.json'\n",
        "\n",
        "json_data = json.loads(open(file_name, 'r', encoding='utf-8-sig').read())\n",
        "json_data"
      ],
      "metadata": {
        "colab": {
          "base_uri": "https://localhost:8080/"
        },
        "id": "4NOXyTlZ6nDj",
        "outputId": "92a38df2-4a4c-48d1-b49c-ab32cafb5129"
      },
      "execution_count": 46,
      "outputs": [
        {
          "output_type": "execute_result",
          "data": {
            "text/plain": [
              "{'feed': {'author': '',\n",
              "  'description': '중앙일보 - 아시아 첫 인터넷 신문 - Joins',\n",
              "  'image': 'http://images.joins.com/common/rss08/JoongAngIlbo_CI_Signature.png',\n",
              "  'link': 'http://joongang.joins.com/',\n",
              "  'title': '중앙일보 | 주요기사',\n",
              "  'url': 'https://rss.joins.com/joins_homenews_list.xml'},\n",
              " 'items': [{'author': '한영혜 기자',\n",
              "   'categories': [],\n",
              "   'content': '이 전 부장은 2018년 9월 \"시계 수수 의혹을 언론에 흘리지 않았고 국정원이 흘리는 데 개입하지도 않았다\"며 소송을 냈다. 이어 \"피고들은 시계 수수 의혹과 관련해 여러 차례 수사와 조사가 진행됐으나 여전히 진상이 명확히 규명되지 않은 상태임을 인정하면서 원고가 시계 수수 의혹 보도에 관여했는지 여부를 알 수 없',\n",
              "   'description': '이 전 부장은 2018년 9월 \"시계 수수 의혹을 언론에 흘리지 않았고 국정원이 흘리는 데 개입하지도 않았다\"며 소송을 냈다. 이어 \"피고들은 시계 수수 의혹과 관련해 여러 차례 수사와 조사가 진행됐으나 여전히 진상이 명확히 규명되지 않은 상태임을 인정하면서 원고가 시계 수수 의혹 보도에 관여했는지 여부를 알 수 없',\n",
              "   'enclosure': {},\n",
              "   'guid': '03ddcad4bd69d8f765f9a95d3d5104a0',\n",
              "   'link': 'http://news.joins.com/article/24132134?cloc=rss-news-home_list',\n",
              "   'pubDate': '2021-08-20 01:49:10',\n",
              "   'thumbnail': '',\n",
              "   'title': '\"논두렁 시계 의혹, 이인규가 흘린 증거 없다\" 2심서 뒤집혔다'},\n",
              "  {'author': '박성훈 기자',\n",
              "   'categories': [],\n",
              "   'content': '홍콩이 한국 등 중위험국가에 대해 자국 백신 접종 증명원을 인정하기로 20일 방침을 바꿨다. 이날 0시 12분 홍콩 정부는 홈페이지를 통해 \"홍콩에 도착하는 사람들에 대한 예방 접종 기록 요구 사항을 조정한다\"며 \"중위험국가와 대만 등에서 체류한 홍콩 입국자의 경우 관련 기관에서 발행한 백신 접종 기록을 소지하면',\n",
              "   'description': '홍콩이 한국 등 중위험국가에 대해 자국 백신 접종 증명원을 인정하기로 20일 방침을 바꿨다. 이날 0시 12분 홍콩 정부는 홈페이지를 통해 \"홍콩에 도착하는 사람들에 대한 예방 접종 기록 요구 사항을 조정한다\"며 \"중위험국가와 대만 등에서 체류한 홍콩 입국자의 경우 관련 기관에서 발행한 백신 접종 기록을 소지하면',\n",
              "   'enclosure': {},\n",
              "   'guid': '2c540c4c7eca88a6937fb5ebe7840004',\n",
              "   'link': 'http://news.joins.com/article/24132160?cloc=rss-news-home_list',\n",
              "   'pubDate': '2021-08-20 02:31:30',\n",
              "   'thumbnail': '',\n",
              "   'title': '\"韓 백신 증명 인정 안한다\"던 홍콩, 12분 만에 맘바뀐 이유'},\n",
              "  {'author': '장구슬 기자',\n",
              "   'categories': [],\n",
              "   'content': '더불어민주당 대권 주자 이재명 경기도지사가 경기 이천 쿠팡 물류센터 화재 당일 맛 칼럼니스트 황교익씨와 떡볶이 먹방을 촬영한 것으로 드러나 비판 여론이 거세지고 있다. 진 전 교수는 20일 자신의 페이스북에 지난 6월17일 쿠팡물류센테 화재 때 이 지사가 경남 마산에서 황씨의 유튜브 채널 ‘황교익 TV’에 출연해',\n",
              "   'description': '더불어민주당 대권 주자 이재명 경기도지사가 경기 이천 쿠팡 물류센터 화재 당일 맛 칼럼니스트 황교익씨와 떡볶이 먹방을 촬영한 것으로 드러나 비판 여론이 거세지고 있다. 진 전 교수는 20일 자신의 페이스북에 지난 6월17일 쿠팡물류센테 화재 때 이 지사가 경남 마산에서 황씨의 유튜브 채널 ‘황교익 TV’에 출연해',\n",
              "   'enclosure': {},\n",
              "   'guid': 'd5b3621c8e83eae8b01b3e7b671813f2',\n",
              "   'link': 'http://news.joins.com/article/24132231?cloc=rss-news-home_list',\n",
              "   'pubDate': '2021-08-20 04:33:44',\n",
              "   'thumbnail': '',\n",
              "   'title': '진중권 \"떡볶이 먹고 시시덕···이재명 정치생명 끊는 황교익\"'},\n",
              "  {'author': '박진호 기자',\n",
              "   'categories': [],\n",
              "   'content': '‘세금 먹는 하마’로 불리는 평창 알펜시아리조트를 KH그룹에 매각하는 계약이 최종 성사됐다. 강원도개발공사와 KH그룹의 특수목적법인인 KH강원개발주식회사는 20일 강원도개발공사 대회의실에서 알펜시아리조트 자산 양수도 계약을 체결했다. KH강원개발은 지난 6월 18일 입찰 보증금으로 350억원을 납부했고, 이날 계',\n",
              "   'description': '‘세금 먹는 하마’로 불리는 평창 알펜시아리조트를 KH그룹에 매각하는 계약이 최종 성사됐다. 강원도개발공사와 KH그룹의 특수목적법인인 KH강원개발주식회사는 20일 강원도개발공사 대회의실에서 알펜시아리조트 자산 양수도 계약을 체결했다. KH강원개발은 지난 6월 18일 입찰 보증금으로 350억원을 납부했고, 이날 계',\n",
              "   'enclosure': {},\n",
              "   'guid': 'e260742e8d9cf16df084221524429ac5',\n",
              "   'link': 'http://news.joins.com/article/24132242?cloc=rss-news-home_list',\n",
              "   'pubDate': '2021-08-20 04:50:00',\n",
              "   'thumbnail': '',\n",
              "   'title': '‘세금 먹는 하마’ 평창 알펜시아 최종 계약 성사 드디어 팔렸다'},\n",
              "  {'author': '성지원 기자',\n",
              "   'categories': [],\n",
              "   'content': '김 전 부총리는 이날 오전 자신의 고향인 충북 음성을 찾아 기자간담회를 열고 \"내년 대선에 출마하겠다\"고 말했다. 김 전 부총리는 프랑스 에마뉘엘 마크롱 대통령에 자신을 빗대 \"마크롱 대통령이 거대 양당이 아닌 새로운 시작을 선언하며 고향에서 소박하게 (대선에)출마한 것처럼, 고향인 음성에서 선언을 한다\"고 밝',\n",
              "   'description': '김 전 부총리는 이날 오전 자신의 고향인 충북 음성을 찾아 기자간담회를 열고 \"내년 대선에 출마하겠다\"고 말했다. 김 전 부총리는 프랑스 에마뉘엘 마크롱 대통령에 자신을 빗대 \"마크롱 대통령이 거대 양당이 아닌 새로운 시작을 선언하며 고향에서 소박하게 (대선에)출마한 것처럼, 고향인 음성에서 선언을 한다\"고 밝',\n",
              "   'enclosure': {},\n",
              "   'guid': '0c5384f4ecf4d5abb0aef54346b81bd6',\n",
              "   'link': 'http://news.joins.com/article/24132305?cloc=rss-news-home_list',\n",
              "   'pubDate': '2021-08-20 05:42:23',\n",
              "   'thumbnail': '',\n",
              "   'title': '마크롱처럼 고향서 출마선언한 김동연 “대선 완주하겠다\"'},\n",
              "  {'author': '하수영 기자',\n",
              "   'categories': [],\n",
              "   'content': '현직 더불어민주당 국회의원실 소속 30대 남성 비서가 여성의 신체 일부를 불법 촬영한 혐의로 경찰 조사를 받게 됐다. 휴대전화를 이용해 여성들의 신체 일부를 수차례 불법 촬영한 혐의다. B씨 여동생은 지난 19일 오후 10시 45분경 \"오빠의 휴대전화에 여성들을 불법 촬영한 내용이 있다\"고 경찰에 신고했다.',\n",
              "   'description': '현직 더불어민주당 국회의원실 소속 30대 남성 비서가 여성의 신체 일부를 불법 촬영한 혐의로 경찰 조사를 받게 됐다. 휴대전화를 이용해 여성들의 신체 일부를 수차례 불법 촬영한 혐의다. B씨 여동생은 지난 19일 오후 10시 45분경 \"오빠의 휴대전화에 여성들을 불법 촬영한 내용이 있다\"고 경찰에 신고했다.',\n",
              "   'enclosure': {},\n",
              "   'guid': 'f52502dfff54551a4a49516347feabda',\n",
              "   'link': 'http://news.joins.com/article/24132329?cloc=rss-news-home_list',\n",
              "   'pubDate': '2021-08-20 06:26:02',\n",
              "   'thumbnail': '',\n",
              "   'title': '\"오빠폰에 몰카 있어요\" 민주당 의원실 비서, 여동생이 신고'},\n",
              "  {'author': '정진우 기자',\n",
              "   'categories': [],\n",
              "   'content': '외교부는 20일 보도자료를 통해 \"김 대표는 지난 6월 이후 두번째로, 오는 21~24일 일정으로 방한할 예정\"이라고 밝혔다. 따라서 김 대표는 미국의 대북 관여 의지를 다시 확인하고, 북·미 및 남북 간 대화 재개를 위한 방안을 한국 측과 논의하게 될 것으로 보인다. 김 대표는 지난 6월 방한 당시에도 북한을 향해 \"언제',\n",
              "   'description': '외교부는 20일 보도자료를 통해 \"김 대표는 지난 6월 이후 두번째로, 오는 21~24일 일정으로 방한할 예정\"이라고 밝혔다. 따라서 김 대표는 미국의 대북 관여 의지를 다시 확인하고, 북·미 및 남북 간 대화 재개를 위한 방안을 한국 측과 논의하게 될 것으로 보인다. 김 대표는 지난 6월 방한 당시에도 북한을 향해 \"언제',\n",
              "   'enclosure': {},\n",
              "   'guid': 'e08ca8af8b851e060bd26fa2ac88df4d',\n",
              "   'link': 'http://news.joins.com/article/24132375?cloc=rss-news-home_list',\n",
              "   'pubDate': '2021-08-20 07:27:50',\n",
              "   'thumbnail': '',\n",
              "   'title': '성 김 21일 방한…北, 김여정의 비난 담화? 김정은의 무력도발?'},\n",
              "  {'author': '김정석 기자',\n",
              "   'categories': [],\n",
              "   'content': '재판부는 \"범행 현장이 촬영된 폐쇄회로TV(CCTV) 화면 등을 보면 피고인이 범행 당시 피해자가 숨질 수도 있다고 미필적으로나마 인식했다는 혐의가 합리적으로 증명됐다고 볼 수 없어 살인죄 대신 상해치사 혐의를 적용했다\"고 밝혔다. 또 \"피고인의 아들이 장시간 폭행으로 신체적·정신적 고통을 겪다 숨진 것으로 보여',\n",
              "   'description': '재판부는 \"범행 현장이 촬영된 폐쇄회로TV(CCTV) 화면 등을 보면 피고인이 범행 당시 피해자가 숨질 수도 있다고 미필적으로나마 인식했다는 혐의가 합리적으로 증명됐다고 볼 수 없어 살인죄 대신 상해치사 혐의를 적용했다\"고 밝혔다. 또 \"피고인의 아들이 장시간 폭행으로 신체적·정신적 고통을 겪다 숨진 것으로 보여',\n",
              "   'enclosure': {},\n",
              "   'guid': '1e80d5669bdfef1d01f18d08310a8ab6',\n",
              "   'link': 'http://news.joins.com/article/24132381?cloc=rss-news-home_list',\n",
              "   'pubDate': '2021-08-20 07:40:00',\n",
              "   'thumbnail': '',\n",
              "   'title': '2167대 매질에 아들 사망…비정한 모친, 살인죄는 피했다'},\n",
              "  {'author': '신혜연 기자',\n",
              "   'categories': [],\n",
              "   'content': '중앙방역대책본부(방대본)는 20일 국내 입국 시 격리면제 적용을 제외하는 \\'변이 바이러스 유행 국가\\' 목록을 발표했다. 현재 백신 접종 완료자는 접종 2주가 지난 상태에서 해외 국가를 방문하고 국내로 들어올 경우 입국 시 2주간의 격리를 면제받는다. 이날 권준욱 방대본제2부본부장은 \"최근 람다 변이 바이러스 확산으',\n",
              "   'description': '중앙방역대책본부(방대본)는 20일 국내 입국 시 격리면제 적용을 제외하는 \\'변이 바이러스 유행 국가\\' 목록을 발표했다. 현재 백신 접종 완료자는 접종 2주가 지난 상태에서 해외 국가를 방문하고 국내로 들어올 경우 입국 시 2주간의 격리를 면제받는다. 이날 권준욱 방대본제2부본부장은 \"최근 람다 변이 바이러스 확산으',\n",
              "   'enclosure': {},\n",
              "   'guid': '645a33f0da79ce13f9f4127801ffc819',\n",
              "   'link': 'http://news.joins.com/article/24132383?cloc=rss-news-home_list',\n",
              "   'pubDate': '2021-08-20 07:42:40',\n",
              "   'thumbnail': '',\n",
              "   'title': '변이 유행국가 36개 명단 발표…가나·일본·페루 격리면제 제외'},\n",
              "  {'author': '배재성 기자',\n",
              "   'categories': [],\n",
              "   'content': '윤 전 총장 측은 그동안 경준위가 주관한 당 행사가 원칙에 어긋난다며 불참하겠다는 의사를 피력해왔다. 윤석열캠프 종합상황실 총괄실장을맡고 있는 장제원 국민의힘 의원은 20일 \"경준위에서 주관하는 발표회는 전례도 없고 원칙에도 부합하지 않는다\"면서도 \"당의 화합을 통해 정권교체를 이뤄내라는 국민의 목소리를',\n",
              "   'description': '윤 전 총장 측은 그동안 경준위가 주관한 당 행사가 원칙에 어긋난다며 불참하겠다는 의사를 피력해왔다. 윤석열캠프 종합상황실 총괄실장을맡고 있는 장제원 국민의힘 의원은 20일 \"경준위에서 주관하는 발표회는 전례도 없고 원칙에도 부합하지 않는다\"면서도 \"당의 화합을 통해 정권교체를 이뤄내라는 국민의 목소리를',\n",
              "   'enclosure': {},\n",
              "   'guid': 'a4da38901563cd488517a7efcf9cab68',\n",
              "   'link': 'http://news.joins.com/article/24132395?cloc=rss-news-home_list',\n",
              "   'pubDate': '2021-08-20 07:54:20',\n",
              "   'thumbnail': '',\n",
              "   'title': '경선준비위 서병수 사퇴…윤석열 측 “25일 비전발표회 참석”'}],\n",
              " 'status': 'ok'}"
            ]
          },
          "metadata": {},
          "execution_count": 46
        }
      ]
    },
    {
      "cell_type": "code",
      "source": [
        "json_data.keys()"
      ],
      "metadata": {
        "colab": {
          "base_uri": "https://localhost:8080/"
        },
        "id": "5mGdEMAJBXMP",
        "outputId": "74f75335-def3-46b2-d3e5-ec92f4e02c7d"
      },
      "execution_count": 47,
      "outputs": [
        {
          "output_type": "execute_result",
          "data": {
            "text/plain": [
              "dict_keys(['status', 'feed', 'items'])"
            ]
          },
          "metadata": {},
          "execution_count": 47
        }
      ]
    },
    {
      "cell_type": "code",
      "source": [
        "all_data = ''\n",
        "\n",
        "for item in json_data['items']: # dic의 리스트\n",
        "  if 'content' in item.keys():\n",
        "    all_data = all_data + re.sub(r'[^\\w]',' ', item['content']) + \" \""
      ],
      "metadata": {
        "id": "sqWPpcWg9fIf"
      },
      "execution_count": 49,
      "outputs": []
    },
    {
      "cell_type": "code",
      "source": [
        "noun_list = okt.nouns(all_data)\n",
        "\n",
        "count = Counter(noun_list)\n",
        "\n",
        "word_count = dict()\n",
        "for tag, count in count.most_common(15):\n",
        "  if(len(str(tag)) >1):\n",
        "    word_count[tag] = count\n",
        "word_count\n",
        "\n",
        "plt.figure(figsize=(12,5))\n",
        "plt.xlabel(\"키워드\")\n",
        "plt.ylabel(\"빈도수\")\n",
        "plt.grid(True)\n",
        "\n",
        "plt.bar(range(len(word_count)), word_count.values())\n",
        "\n",
        "plt.xticks(range(len(word_count)), word_count, rotation='55')\n",
        "\n",
        "plt.show()"
      ],
      "metadata": {
        "colab": {
          "base_uri": "https://localhost:8080/",
          "height": 307
        },
        "id": "DzcLyuUQ_SbN",
        "outputId": "53c6b5ed-dfc7-4dde-c6b4-4092ec52245c"
      },
      "execution_count": 50,
      "outputs": [
        {
          "output_type": "display_data",
          "data": {
            "image/png": "[encoded data removed]",
            "text/plain": [
              "<Figure size 864x360 with 1 Axes>"
            ]
          },
          "metadata": {
            "needs_background": "light"
          }
        }
      ]
    },
    {
      "cell_type": "code",
      "source": [
        "file_name='/content/rss.json'\n",
        "\n",
        "json_data = json.loads(open(file_name, 'r', encoding='utf-8').read())\n",
        "json_data"
      ],
      "metadata": {
        "colab": {
          "base_uri": "https://localhost:8080/"
        },
        "id": "eXdUYi-xA-TK",
        "outputId": "3e9d6d55-d105-4e07-c6ef-158c5470cdd3"
      },
      "execution_count": 55,
      "outputs": [
        {
          "output_type": "execute_result",
          "data": {
            "text/plain": [
              "{'feed': {'author': '',\n",
              "  'description': '중앙일보 - 아시아 첫 인터넷 신문 - Joins',\n",
              "  'image': 'http://images.joins.com/common/rss08/JoongAngIlbo_CI_Signature.png',\n",
              "  'link': 'http://joongang.joins.com/',\n",
              "  'title': '중앙일보 | 주요기사',\n",
              "  'url': 'https://rss.joins.com/joins_homenews_list.xml'},\n",
              " 'items': [{'author': '한영혜 기자',\n",
              "   'categories': [],\n",
              "   'content': '이 전 부장은 2018년 9월 \"시계 수수 의혹을 언론에 흘리지 않았고 국정원이 흘리는 데 개입하지도 않았다\"며 소송을 냈다. 이어 \"피고들은 시계 수수 의혹과 관련해 여러 차례 수사와 조사가 진행됐으나 여전히 진상이 명확히 규명되지 않은 상태임을 인정하면서 원고가 시계 수수 의혹 보도에 관여했는지 여부를 알 수 없',\n",
              "   'description': '이 전 부장은 2018년 9월 \"시계 수수 의혹을 언론에 흘리지 않았고 국정원이 흘리는 데 개입하지도 않았다\"며 소송을 냈다. 이어 \"피고들은 시계 수수 의혹과 관련해 여러 차례 수사와 조사가 진행됐으나 여전히 진상이 명확히 규명되지 않은 상태임을 인정하면서 원고가 시계 수수 의혹 보도에 관여했는지 여부를 알 수 없',\n",
              "   'enclosure': {},\n",
              "   'guid': '03ddcad4bd69d8f765f9a95d3d5104a0',\n",
              "   'link': 'http://news.joins.com/article/24132134?cloc=rss-news-home_list',\n",
              "   'pubDate': '2021-08-20 01:49:10',\n",
              "   'thumbnail': '',\n",
              "   'title': '\"논두렁 시계 의혹, 이인규가 흘린 증거 없다\" 2심서 뒤집혔다'},\n",
              "  {'author': '박성훈 기자',\n",
              "   'categories': [],\n",
              "   'content': '홍콩이 한국 등 중위험국가에 대해 자국 백신 접종 증명원을 인정하기로 20일 방침을 바꿨다. 이날 0시 12분 홍콩 정부는 홈페이지를 통해 \"홍콩에 도착하는 사람들에 대한 예방 접종 기록 요구 사항을 조정한다\"며 \"중위험국가와 대만 등에서 체류한 홍콩 입국자의 경우 관련 기관에서 발행한 백신 접종 기록을 소지하면',\n",
              "   'description': '홍콩이 한국 등 중위험국가에 대해 자국 백신 접종 증명원을 인정하기로 20일 방침을 바꿨다. 이날 0시 12분 홍콩 정부는 홈페이지를 통해 \"홍콩에 도착하는 사람들에 대한 예방 접종 기록 요구 사항을 조정한다\"며 \"중위험국가와 대만 등에서 체류한 홍콩 입국자의 경우 관련 기관에서 발행한 백신 접종 기록을 소지하면',\n",
              "   'enclosure': {},\n",
              "   'guid': '2c540c4c7eca88a6937fb5ebe7840004',\n",
              "   'link': 'http://news.joins.com/article/24132160?cloc=rss-news-home_list',\n",
              "   'pubDate': '2021-08-20 02:31:30',\n",
              "   'thumbnail': '',\n",
              "   'title': '\"韓 백신 증명 인정 안한다\"던 홍콩, 12분 만에 맘바뀐 이유'},\n",
              "  {'author': '장구슬 기자',\n",
              "   'categories': [],\n",
              "   'content': '더불어민주당 대권 주자 이재명 경기도지사가 경기 이천 쿠팡 물류센터 화재 당일 맛 칼럼니스트 황교익씨와 떡볶이 먹방을 촬영한 것으로 드러나 비판 여론이 거세지고 있다. 진 전 교수는 20일 자신의 페이스북에 지난 6월17일 쿠팡물류센테 화재 때 이 지사가 경남 마산에서 황씨의 유튜브 채널 ‘황교익 TV’에 출연해',\n",
              "   'description': '더불어민주당 대권 주자 이재명 경기도지사가 경기 이천 쿠팡 물류센터 화재 당일 맛 칼럼니스트 황교익씨와 떡볶이 먹방을 촬영한 것으로 드러나 비판 여론이 거세지고 있다. 진 전 교수는 20일 자신의 페이스북에 지난 6월17일 쿠팡물류센테 화재 때 이 지사가 경남 마산에서 황씨의 유튜브 채널 ‘황교익 TV’에 출연해',\n",
              "   'enclosure': {},\n",
              "   'guid': 'd5b3621c8e83eae8b01b3e7b671813f2',\n",
              "   'link': 'http://news.joins.com/article/24132231?cloc=rss-news-home_list',\n",
              "   'pubDate': '2021-08-20 04:33:44',\n",
              "   'thumbnail': '',\n",
              "   'title': '진중권 \"떡볶이 먹고 시시덕···이재명 정치생명 끊는 황교익\"'},\n",
              "  {'author': '박진호 기자',\n",
              "   'categories': [],\n",
              "   'content': '‘세금 먹는 하마’로 불리는 평창 알펜시아리조트를 KH그룹에 매각하는 계약이 최종 성사됐다. 강원도개발공사와 KH그룹의 특수목적법인인 KH강원개발주식회사는 20일 강원도개발공사 대회의실에서 알펜시아리조트 자산 양수도 계약을 체결했다. KH강원개발은 지난 6월 18일 입찰 보증금으로 350억원을 납부했고, 이날 계',\n",
              "   'description': '‘세금 먹는 하마’로 불리는 평창 알펜시아리조트를 KH그룹에 매각하는 계약이 최종 성사됐다. 강원도개발공사와 KH그룹의 특수목적법인인 KH강원개발주식회사는 20일 강원도개발공사 대회의실에서 알펜시아리조트 자산 양수도 계약을 체결했다. KH강원개발은 지난 6월 18일 입찰 보증금으로 350억원을 납부했고, 이날 계',\n",
              "   'enclosure': {},\n",
              "   'guid': 'e260742e8d9cf16df084221524429ac5',\n",
              "   'link': 'http://news.joins.com/article/24132242?cloc=rss-news-home_list',\n",
              "   'pubDate': '2021-08-20 04:50:00',\n",
              "   'thumbnail': '',\n",
              "   'title': '‘세금 먹는 하마’ 평창 알펜시아 최종 계약 성사 드디어 팔렸다'},\n",
              "  {'author': '성지원 기자',\n",
              "   'categories': [],\n",
              "   'content': '김 전 부총리는 이날 오전 자신의 고향인 충북 음성을 찾아 기자간담회를 열고 \"내년 대선에 출마하겠다\"고 말했다. 김 전 부총리는 프랑스 에마뉘엘 마크롱 대통령에 자신을 빗대 \"마크롱 대통령이 거대 양당이 아닌 새로운 시작을 선언하며 고향에서 소박하게 (대선에)출마한 것처럼, 고향인 음성에서 선언을 한다\"고 밝',\n",
              "   'description': '김 전 부총리는 이날 오전 자신의 고향인 충북 음성을 찾아 기자간담회를 열고 \"내년 대선에 출마하겠다\"고 말했다. 김 전 부총리는 프랑스 에마뉘엘 마크롱 대통령에 자신을 빗대 \"마크롱 대통령이 거대 양당이 아닌 새로운 시작을 선언하며 고향에서 소박하게 (대선에)출마한 것처럼, 고향인 음성에서 선언을 한다\"고 밝',\n",
              "   'enclosure': {},\n",
              "   'guid': '0c5384f4ecf4d5abb0aef54346b81bd6',\n",
              "   'link': 'http://news.joins.com/article/24132305?cloc=rss-news-home_list',\n",
              "   'pubDate': '2021-08-20 05:42:23',\n",
              "   'thumbnail': '',\n",
              "   'title': '마크롱처럼 고향서 출마선언한 김동연 “대선 완주하겠다\"'},\n",
              "  {'author': '하수영 기자',\n",
              "   'categories': [],\n",
              "   'content': '현직 더불어민주당 국회의원실 소속 30대 남성 비서가 여성의 신체 일부를 불법 촬영한 혐의로 경찰 조사를 받게 됐다. 휴대전화를 이용해 여성들의 신체 일부를 수차례 불법 촬영한 혐의다. B씨 여동생은 지난 19일 오후 10시 45분경 \"오빠의 휴대전화에 여성들을 불법 촬영한 내용이 있다\"고 경찰에 신고했다.',\n",
              "   'description': '현직 더불어민주당 국회의원실 소속 30대 남성 비서가 여성의 신체 일부를 불법 촬영한 혐의로 경찰 조사를 받게 됐다. 휴대전화를 이용해 여성들의 신체 일부를 수차례 불법 촬영한 혐의다. B씨 여동생은 지난 19일 오후 10시 45분경 \"오빠의 휴대전화에 여성들을 불법 촬영한 내용이 있다\"고 경찰에 신고했다.',\n",
              "   'enclosure': {},\n",
              "   'guid': 'f52502dfff54551a4a49516347feabda',\n",
              "   'link': 'http://news.joins.com/article/24132329?cloc=rss-news-home_list',\n",
              "   'pubDate': '2021-08-20 06:26:02',\n",
              "   'thumbnail': '',\n",
              "   'title': '\"오빠폰에 몰카 있어요\" 민주당 의원실 비서, 여동생이 신고'},\n",
              "  {'author': '정진우 기자',\n",
              "   'categories': [],\n",
              "   'content': '외교부는 20일 보도자료를 통해 \"김 대표는 지난 6월 이후 두번째로, 오는 21~24일 일정으로 방한할 예정\"이라고 밝혔다. 따라서 김 대표는 미국의 대북 관여 의지를 다시 확인하고, 북·미 및 남북 간 대화 재개를 위한 방안을 한국 측과 논의하게 될 것으로 보인다. 김 대표는 지난 6월 방한 당시에도 북한을 향해 \"언제',\n",
              "   'description': '외교부는 20일 보도자료를 통해 \"김 대표는 지난 6월 이후 두번째로, 오는 21~24일 일정으로 방한할 예정\"이라고 밝혔다. 따라서 김 대표는 미국의 대북 관여 의지를 다시 확인하고, 북·미 및 남북 간 대화 재개를 위한 방안을 한국 측과 논의하게 될 것으로 보인다. 김 대표는 지난 6월 방한 당시에도 북한을 향해 \"언제',\n",
              "   'enclosure': {},\n",
              "   'guid': 'e08ca8af8b851e060bd26fa2ac88df4d',\n",
              "   'link': 'http://news.joins.com/article/24132375?cloc=rss-news-home_list',\n",
              "   'pubDate': '2021-08-20 07:27:50',\n",
              "   'thumbnail': '',\n",
              "   'title': '성 김 21일 방한…北, 김여정의 비난 담화? 김정은의 무력도발?'},\n",
              "  {'author': '김정석 기자',\n",
              "   'categories': [],\n",
              "   'content': '재판부는 \"범행 현장이 촬영된 폐쇄회로TV(CCTV) 화면 등을 보면 피고인이 범행 당시 피해자가 숨질 수도 있다고 미필적으로나마 인식했다는 혐의가 합리적으로 증명됐다고 볼 수 없어 살인죄 대신 상해치사 혐의를 적용했다\"고 밝혔다. 또 \"피고인의 아들이 장시간 폭행으로 신체적·정신적 고통을 겪다 숨진 것으로 보여',\n",
              "   'description': '재판부는 \"범행 현장이 촬영된 폐쇄회로TV(CCTV) 화면 등을 보면 피고인이 범행 당시 피해자가 숨질 수도 있다고 미필적으로나마 인식했다는 혐의가 합리적으로 증명됐다고 볼 수 없어 살인죄 대신 상해치사 혐의를 적용했다\"고 밝혔다. 또 \"피고인의 아들이 장시간 폭행으로 신체적·정신적 고통을 겪다 숨진 것으로 보여',\n",
              "   'enclosure': {},\n",
              "   'guid': '1e80d5669bdfef1d01f18d08310a8ab6',\n",
              "   'link': 'http://news.joins.com/article/24132381?cloc=rss-news-home_list',\n",
              "   'pubDate': '2021-08-20 07:40:00',\n",
              "   'thumbnail': '',\n",
              "   'title': '2167대 매질에 아들 사망…비정한 모친, 살인죄는 피했다'},\n",
              "  {'author': '신혜연 기자',\n",
              "   'categories': [],\n",
              "   'content': '중앙방역대책본부(방대본)는 20일 국내 입국 시 격리면제 적용을 제외하는 \\'변이 바이러스 유행 국가\\' 목록을 발표했다. 현재 백신 접종 완료자는 접종 2주가 지난 상태에서 해외 국가를 방문하고 국내로 들어올 경우 입국 시 2주간의 격리를 면제받는다. 이날 권준욱 방대본제2부본부장은 \"최근 람다 변이 바이러스 확산으',\n",
              "   'description': '중앙방역대책본부(방대본)는 20일 국내 입국 시 격리면제 적용을 제외하는 \\'변이 바이러스 유행 국가\\' 목록을 발표했다. 현재 백신 접종 완료자는 접종 2주가 지난 상태에서 해외 국가를 방문하고 국내로 들어올 경우 입국 시 2주간의 격리를 면제받는다. 이날 권준욱 방대본제2부본부장은 \"최근 람다 변이 바이러스 확산으',\n",
              "   'enclosure': {},\n",
              "   'guid': '645a33f0da79ce13f9f4127801ffc819',\n",
              "   'link': 'http://news.joins.com/article/24132383?cloc=rss-news-home_list',\n",
              "   'pubDate': '2021-08-20 07:42:40',\n",
              "   'thumbnail': '',\n",
              "   'title': '변이 유행국가 36개 명단 발표…가나·일본·페루 격리면제 제외'},\n",
              "  {'author': '배재성 기자',\n",
              "   'categories': [],\n",
              "   'content': '윤 전 총장 측은 그동안 경준위가 주관한 당 행사가 원칙에 어긋난다며 불참하겠다는 의사를 피력해왔다. 윤석열캠프 종합상황실 총괄실장을맡고 있는 장제원 국민의힘 의원은 20일 \"경준위에서 주관하는 발표회는 전례도 없고 원칙에도 부합하지 않는다\"면서도 \"당의 화합을 통해 정권교체를 이뤄내라는 국민의 목소리를',\n",
              "   'description': '윤 전 총장 측은 그동안 경준위가 주관한 당 행사가 원칙에 어긋난다며 불참하겠다는 의사를 피력해왔다. 윤석열캠프 종합상황실 총괄실장을맡고 있는 장제원 국민의힘 의원은 20일 \"경준위에서 주관하는 발표회는 전례도 없고 원칙에도 부합하지 않는다\"면서도 \"당의 화합을 통해 정권교체를 이뤄내라는 국민의 목소리를',\n",
              "   'enclosure': {},\n",
              "   'guid': 'a4da38901563cd488517a7efcf9cab68',\n",
              "   'link': 'http://news.joins.com/article/24132395?cloc=rss-news-home_list',\n",
              "   'pubDate': '2021-08-20 07:54:20',\n",
              "   'thumbnail': '',\n",
              "   'title': '경선준비위 서병수 사퇴…윤석열 측 “25일 비전발표회 참석”'}],\n",
              " 'status': 'ok'}"
            ]
          },
          "metadata": {},
          "execution_count": 55
        }
      ]
    },
    {
      "cell_type": "code",
      "source": [
        ""
      ],
      "metadata": {
        "id": "p3sfqjrmDX5P"
      },
      "execution_count": null,
      "outputs": []
    }
  ]
}