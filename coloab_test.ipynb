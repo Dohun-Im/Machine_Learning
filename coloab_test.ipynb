{
  "nbformat": 4,
  "nbformat_minor": 0,
  "metadata": {
    "colab": {
      "name": "coloab_test.ipynb",
      "provenance": [],
      "collapsed_sections": [],
      "authorship_tag": "ABX9TyP10LQ8laB0jaRdFwVLng7v",
      "include_colab_link": true
    },
    "kernelspec": {
      "name": "python3",
      "display_name": "Python 3"
    },
    "language_info": {
      "name": "python"
    }
  },
  "cells": [
    {
      "cell_type": "markdown",
      "metadata": {
        "id": "view-in-github",
        "colab_type": "text"
      },
      "source": [
        "<a href=\"https://colab.research.google.com/github/Dohun-Im/python/blob/master/coloab_test.ipynb\" target=\"_parent\"><img src=\"https://colab.research.google.com/assets/colab-badge.svg\" alt=\"Open In Colab\"/></a>"
      ]
    },
    {
      "cell_type": "code",
      "metadata": {
        "colab": {
          "base_uri": "https://localhost:8080/"
        },
        "id": "WCrfGGmoq5cJ",
        "outputId": "cff6c46c-7ae6-4431-af56-c52f25a31f9a"
      },
      "source": [
        "print('hh')"
      ],
      "execution_count": 1,
      "outputs": [
        {
          "output_type": "stream",
          "name": "stdout",
          "text": [
            "hh\n"
          ]
        }
      ]
    },
    {
      "cell_type": "code",
      "metadata": {
        "id": "37Te5NQprutB"
      },
      "source": [
        "from google.colab import drive"
      ],
      "execution_count": 2,
      "outputs": []
    },
    {
      "cell_type": "code",
      "metadata": {
        "colab": {
          "base_uri": "https://localhost:8080/"
        },
        "id": "o2nEG5CDslDb",
        "outputId": "cad6572a-2c3f-4bcf-a5a1-a738528c7626"
      },
      "source": [
        "drive.mount('/content/drive')"
      ],
      "execution_count": 3,
      "outputs": [
        {
          "output_type": "stream",
          "name": "stdout",
          "text": [
            "Mounted at /content/drive\n"
          ]
        }
      ]
    },
    {
      "cell_type": "code",
      "metadata": {
        "id": "-9mCgVHcspTX"
      },
      "source": [
        "import pandas as pd\n",
        "import numpy as np\n"
      ],
      "execution_count": 8,
      "outputs": []
    },
    {
      "cell_type": "code",
      "metadata": {
        "colab": {
          "base_uri": "https://localhost:8080/",
          "height": 1000
        },
        "id": "MIUZWOWdtYtE",
        "outputId": "93fd3f5e-ff80-47b2-f791-318bfbb47f7a"
      },
      "source": [
        "df = pd.read_csv('/content/drive/MyDrive/csv_data/crime.csv',encoding='cp949')\n",
        "df"
      ],
      "execution_count": 7,
      "outputs": [
        {
          "output_type": "execute_result",
          "data": {
            "text/html": [
              "<div>\n",
              "<style scoped>\n",
              "    .dataframe tbody tr th:only-of-type {\n",
              "        vertical-align: middle;\n",
              "    }\n",
              "\n",
              "    .dataframe tbody tr th {\n",
              "        vertical-align: top;\n",
              "    }\n",
              "\n",
              "    .dataframe thead th {\n",
              "        text-align: right;\n",
              "    }\n",
              "</style>\n",
              "<table border=\"1\" class=\"dataframe\">\n",
              "  <thead>\n",
              "    <tr style=\"text-align: right;\">\n",
              "      <th></th>\n",
              "      <th>관서명</th>\n",
              "      <th>살인 발생</th>\n",
              "      <th>살인 검거</th>\n",
              "      <th>강도 발생</th>\n",
              "      <th>강도 검거</th>\n",
              "      <th>강간 발생</th>\n",
              "      <th>강간 검거</th>\n",
              "      <th>절도 발생</th>\n",
              "      <th>절도 검거</th>\n",
              "      <th>폭력 발생</th>\n",
              "      <th>폭력 검거</th>\n",
              "    </tr>\n",
              "  </thead>\n",
              "  <tbody>\n",
              "    <tr>\n",
              "      <th>0</th>\n",
              "      <td>중부서</td>\n",
              "      <td>2</td>\n",
              "      <td>2</td>\n",
              "      <td>3</td>\n",
              "      <td>2</td>\n",
              "      <td>105</td>\n",
              "      <td>65</td>\n",
              "      <td>1,395</td>\n",
              "      <td>477</td>\n",
              "      <td>1,355</td>\n",
              "      <td>1,170</td>\n",
              "    </tr>\n",
              "    <tr>\n",
              "      <th>1</th>\n",
              "      <td>종로서</td>\n",
              "      <td>3</td>\n",
              "      <td>3</td>\n",
              "      <td>6</td>\n",
              "      <td>5</td>\n",
              "      <td>115</td>\n",
              "      <td>98</td>\n",
              "      <td>1,070</td>\n",
              "      <td>413</td>\n",
              "      <td>1,278</td>\n",
              "      <td>1,070</td>\n",
              "    </tr>\n",
              "    <tr>\n",
              "      <th>2</th>\n",
              "      <td>남대문서</td>\n",
              "      <td>1</td>\n",
              "      <td>0</td>\n",
              "      <td>6</td>\n",
              "      <td>4</td>\n",
              "      <td>65</td>\n",
              "      <td>46</td>\n",
              "      <td>1,153</td>\n",
              "      <td>382</td>\n",
              "      <td>869</td>\n",
              "      <td>794</td>\n",
              "    </tr>\n",
              "    <tr>\n",
              "      <th>3</th>\n",
              "      <td>서대문서</td>\n",
              "      <td>2</td>\n",
              "      <td>2</td>\n",
              "      <td>5</td>\n",
              "      <td>4</td>\n",
              "      <td>154</td>\n",
              "      <td>124</td>\n",
              "      <td>1,812</td>\n",
              "      <td>738</td>\n",
              "      <td>2,056</td>\n",
              "      <td>1,711</td>\n",
              "    </tr>\n",
              "    <tr>\n",
              "      <th>4</th>\n",
              "      <td>혜화서</td>\n",
              "      <td>3</td>\n",
              "      <td>2</td>\n",
              "      <td>5</td>\n",
              "      <td>4</td>\n",
              "      <td>96</td>\n",
              "      <td>63</td>\n",
              "      <td>1,114</td>\n",
              "      <td>424</td>\n",
              "      <td>1,015</td>\n",
              "      <td>861</td>\n",
              "    </tr>\n",
              "    <tr>\n",
              "      <th>5</th>\n",
              "      <td>용산서</td>\n",
              "      <td>5</td>\n",
              "      <td>5</td>\n",
              "      <td>14</td>\n",
              "      <td>14</td>\n",
              "      <td>194</td>\n",
              "      <td>173</td>\n",
              "      <td>1,557</td>\n",
              "      <td>587</td>\n",
              "      <td>2,050</td>\n",
              "      <td>1,704</td>\n",
              "    </tr>\n",
              "    <tr>\n",
              "      <th>6</th>\n",
              "      <td>성북서</td>\n",
              "      <td>2</td>\n",
              "      <td>2</td>\n",
              "      <td>2</td>\n",
              "      <td>1</td>\n",
              "      <td>86</td>\n",
              "      <td>71</td>\n",
              "      <td>953</td>\n",
              "      <td>409</td>\n",
              "      <td>1,194</td>\n",
              "      <td>1,015</td>\n",
              "    </tr>\n",
              "    <tr>\n",
              "      <th>7</th>\n",
              "      <td>동대문서</td>\n",
              "      <td>5</td>\n",
              "      <td>5</td>\n",
              "      <td>13</td>\n",
              "      <td>13</td>\n",
              "      <td>173</td>\n",
              "      <td>146</td>\n",
              "      <td>1,981</td>\n",
              "      <td>814</td>\n",
              "      <td>2,548</td>\n",
              "      <td>2,227</td>\n",
              "    </tr>\n",
              "    <tr>\n",
              "      <th>8</th>\n",
              "      <td>마포서</td>\n",
              "      <td>8</td>\n",
              "      <td>8</td>\n",
              "      <td>14</td>\n",
              "      <td>10</td>\n",
              "      <td>294</td>\n",
              "      <td>247</td>\n",
              "      <td>2,555</td>\n",
              "      <td>813</td>\n",
              "      <td>2,983</td>\n",
              "      <td>2,519</td>\n",
              "    </tr>\n",
              "    <tr>\n",
              "      <th>9</th>\n",
              "      <td>영등포서</td>\n",
              "      <td>14</td>\n",
              "      <td>12</td>\n",
              "      <td>22</td>\n",
              "      <td>20</td>\n",
              "      <td>295</td>\n",
              "      <td>183</td>\n",
              "      <td>2,964</td>\n",
              "      <td>978</td>\n",
              "      <td>3,572</td>\n",
              "      <td>2,961</td>\n",
              "    </tr>\n",
              "    <tr>\n",
              "      <th>10</th>\n",
              "      <td>성동서</td>\n",
              "      <td>4</td>\n",
              "      <td>4</td>\n",
              "      <td>9</td>\n",
              "      <td>8</td>\n",
              "      <td>126</td>\n",
              "      <td>119</td>\n",
              "      <td>1,607</td>\n",
              "      <td>597</td>\n",
              "      <td>1,612</td>\n",
              "      <td>1,395</td>\n",
              "    </tr>\n",
              "    <tr>\n",
              "      <th>11</th>\n",
              "      <td>동작서</td>\n",
              "      <td>5</td>\n",
              "      <td>5</td>\n",
              "      <td>9</td>\n",
              "      <td>5</td>\n",
              "      <td>285</td>\n",
              "      <td>139</td>\n",
              "      <td>1,865</td>\n",
              "      <td>661</td>\n",
              "      <td>1,910</td>\n",
              "      <td>1,587</td>\n",
              "    </tr>\n",
              "    <tr>\n",
              "      <th>12</th>\n",
              "      <td>광진서</td>\n",
              "      <td>4</td>\n",
              "      <td>4</td>\n",
              "      <td>14</td>\n",
              "      <td>26</td>\n",
              "      <td>240</td>\n",
              "      <td>220</td>\n",
              "      <td>3,026</td>\n",
              "      <td>1,277</td>\n",
              "      <td>2,625</td>\n",
              "      <td>2,180</td>\n",
              "    </tr>\n",
              "    <tr>\n",
              "      <th>13</th>\n",
              "      <td>서부서</td>\n",
              "      <td>2</td>\n",
              "      <td>2</td>\n",
              "      <td>2</td>\n",
              "      <td>1</td>\n",
              "      <td>70</td>\n",
              "      <td>59</td>\n",
              "      <td>819</td>\n",
              "      <td>293</td>\n",
              "      <td>1,192</td>\n",
              "      <td>1,038</td>\n",
              "    </tr>\n",
              "    <tr>\n",
              "      <th>14</th>\n",
              "      <td>강북서</td>\n",
              "      <td>7</td>\n",
              "      <td>8</td>\n",
              "      <td>14</td>\n",
              "      <td>13</td>\n",
              "      <td>153</td>\n",
              "      <td>126</td>\n",
              "      <td>1,434</td>\n",
              "      <td>618</td>\n",
              "      <td>2,649</td>\n",
              "      <td>2,348</td>\n",
              "    </tr>\n",
              "    <tr>\n",
              "      <th>15</th>\n",
              "      <td>금천서</td>\n",
              "      <td>3</td>\n",
              "      <td>4</td>\n",
              "      <td>6</td>\n",
              "      <td>6</td>\n",
              "      <td>151</td>\n",
              "      <td>122</td>\n",
              "      <td>1,567</td>\n",
              "      <td>888</td>\n",
              "      <td>2,054</td>\n",
              "      <td>1,776</td>\n",
              "    </tr>\n",
              "    <tr>\n",
              "      <th>16</th>\n",
              "      <td>중랑서</td>\n",
              "      <td>13</td>\n",
              "      <td>12</td>\n",
              "      <td>11</td>\n",
              "      <td>9</td>\n",
              "      <td>187</td>\n",
              "      <td>148</td>\n",
              "      <td>2,135</td>\n",
              "      <td>829</td>\n",
              "      <td>2,847</td>\n",
              "      <td>2,407</td>\n",
              "    </tr>\n",
              "    <tr>\n",
              "      <th>17</th>\n",
              "      <td>강남서</td>\n",
              "      <td>3</td>\n",
              "      <td>3</td>\n",
              "      <td>15</td>\n",
              "      <td>12</td>\n",
              "      <td>300</td>\n",
              "      <td>225</td>\n",
              "      <td>2,411</td>\n",
              "      <td>984</td>\n",
              "      <td>2,465</td>\n",
              "      <td>2,146</td>\n",
              "    </tr>\n",
              "    <tr>\n",
              "      <th>18</th>\n",
              "      <td>관악서</td>\n",
              "      <td>9</td>\n",
              "      <td>8</td>\n",
              "      <td>12</td>\n",
              "      <td>14</td>\n",
              "      <td>320</td>\n",
              "      <td>221</td>\n",
              "      <td>2,706</td>\n",
              "      <td>827</td>\n",
              "      <td>3,298</td>\n",
              "      <td>2,642</td>\n",
              "    </tr>\n",
              "    <tr>\n",
              "      <th>19</th>\n",
              "      <td>강서서</td>\n",
              "      <td>7</td>\n",
              "      <td>8</td>\n",
              "      <td>13</td>\n",
              "      <td>13</td>\n",
              "      <td>262</td>\n",
              "      <td>191</td>\n",
              "      <td>2,096</td>\n",
              "      <td>1,260</td>\n",
              "      <td>3,207</td>\n",
              "      <td>2,718</td>\n",
              "    </tr>\n",
              "    <tr>\n",
              "      <th>20</th>\n",
              "      <td>강동서</td>\n",
              "      <td>4</td>\n",
              "      <td>3</td>\n",
              "      <td>6</td>\n",
              "      <td>8</td>\n",
              "      <td>156</td>\n",
              "      <td>123</td>\n",
              "      <td>2,366</td>\n",
              "      <td>789</td>\n",
              "      <td>2,712</td>\n",
              "      <td>2,248</td>\n",
              "    </tr>\n",
              "    <tr>\n",
              "      <th>21</th>\n",
              "      <td>종암서</td>\n",
              "      <td>3</td>\n",
              "      <td>3</td>\n",
              "      <td>3</td>\n",
              "      <td>3</td>\n",
              "      <td>64</td>\n",
              "      <td>53</td>\n",
              "      <td>832</td>\n",
              "      <td>332</td>\n",
              "      <td>1,015</td>\n",
              "      <td>840</td>\n",
              "    </tr>\n",
              "    <tr>\n",
              "      <th>22</th>\n",
              "      <td>구로서</td>\n",
              "      <td>8</td>\n",
              "      <td>6</td>\n",
              "      <td>15</td>\n",
              "      <td>11</td>\n",
              "      <td>281</td>\n",
              "      <td>164</td>\n",
              "      <td>2,335</td>\n",
              "      <td>889</td>\n",
              "      <td>3,007</td>\n",
              "      <td>2,432</td>\n",
              "    </tr>\n",
              "    <tr>\n",
              "      <th>23</th>\n",
              "      <td>서초서</td>\n",
              "      <td>7</td>\n",
              "      <td>4</td>\n",
              "      <td>8</td>\n",
              "      <td>5</td>\n",
              "      <td>334</td>\n",
              "      <td>193</td>\n",
              "      <td>1,982</td>\n",
              "      <td>905</td>\n",
              "      <td>1,852</td>\n",
              "      <td>1,607</td>\n",
              "    </tr>\n",
              "    <tr>\n",
              "      <th>24</th>\n",
              "      <td>양천서</td>\n",
              "      <td>3</td>\n",
              "      <td>5</td>\n",
              "      <td>6</td>\n",
              "      <td>3</td>\n",
              "      <td>120</td>\n",
              "      <td>105</td>\n",
              "      <td>1,890</td>\n",
              "      <td>672</td>\n",
              "      <td>2,509</td>\n",
              "      <td>2,030</td>\n",
              "    </tr>\n",
              "    <tr>\n",
              "      <th>25</th>\n",
              "      <td>송파서</td>\n",
              "      <td>11</td>\n",
              "      <td>10</td>\n",
              "      <td>13</td>\n",
              "      <td>10</td>\n",
              "      <td>220</td>\n",
              "      <td>178</td>\n",
              "      <td>3,239</td>\n",
              "      <td>1,129</td>\n",
              "      <td>3,295</td>\n",
              "      <td>2,786</td>\n",
              "    </tr>\n",
              "    <tr>\n",
              "      <th>26</th>\n",
              "      <td>노원서</td>\n",
              "      <td>10</td>\n",
              "      <td>10</td>\n",
              "      <td>7</td>\n",
              "      <td>7</td>\n",
              "      <td>197</td>\n",
              "      <td>121</td>\n",
              "      <td>2,193</td>\n",
              "      <td>801</td>\n",
              "      <td>2,723</td>\n",
              "      <td>2,329</td>\n",
              "    </tr>\n",
              "    <tr>\n",
              "      <th>27</th>\n",
              "      <td>방배서</td>\n",
              "      <td>1</td>\n",
              "      <td>2</td>\n",
              "      <td>1</td>\n",
              "      <td>1</td>\n",
              "      <td>59</td>\n",
              "      <td>56</td>\n",
              "      <td>653</td>\n",
              "      <td>186</td>\n",
              "      <td>547</td>\n",
              "      <td>491</td>\n",
              "    </tr>\n",
              "    <tr>\n",
              "      <th>28</th>\n",
              "      <td>은평서</td>\n",
              "      <td>1</td>\n",
              "      <td>1</td>\n",
              "      <td>7</td>\n",
              "      <td>5</td>\n",
              "      <td>96</td>\n",
              "      <td>82</td>\n",
              "      <td>1,095</td>\n",
              "      <td>418</td>\n",
              "      <td>1,461</td>\n",
              "      <td>1,268</td>\n",
              "    </tr>\n",
              "    <tr>\n",
              "      <th>29</th>\n",
              "      <td>도봉서</td>\n",
              "      <td>3</td>\n",
              "      <td>3</td>\n",
              "      <td>9</td>\n",
              "      <td>10</td>\n",
              "      <td>102</td>\n",
              "      <td>106</td>\n",
              "      <td>1,063</td>\n",
              "      <td>478</td>\n",
              "      <td>1,487</td>\n",
              "      <td>1,303</td>\n",
              "    </tr>\n",
              "    <tr>\n",
              "      <th>30</th>\n",
              "      <td>수서서</td>\n",
              "      <td>10</td>\n",
              "      <td>7</td>\n",
              "      <td>6</td>\n",
              "      <td>6</td>\n",
              "      <td>149</td>\n",
              "      <td>124</td>\n",
              "      <td>1,439</td>\n",
              "      <td>666</td>\n",
              "      <td>1,819</td>\n",
              "      <td>1,559</td>\n",
              "    </tr>\n",
              "  </tbody>\n",
              "</table>\n",
              "</div>"
            ],
            "text/plain": [
              "     관서명  살인 발생  살인 검거  강도 발생  강도 검거  강간 발생  강간 검거  절도 발생  절도 검거  폭력 발생  폭력 검거\n",
              "0    중부서      2      2      3      2    105     65  1,395    477  1,355  1,170\n",
              "1    종로서      3      3      6      5    115     98  1,070    413  1,278  1,070\n",
              "2   남대문서      1      0      6      4     65     46  1,153    382    869    794\n",
              "3   서대문서      2      2      5      4    154    124  1,812    738  2,056  1,711\n",
              "4    혜화서      3      2      5      4     96     63  1,114    424  1,015    861\n",
              "5    용산서      5      5     14     14    194    173  1,557    587  2,050  1,704\n",
              "6    성북서      2      2      2      1     86     71    953    409  1,194  1,015\n",
              "7   동대문서      5      5     13     13    173    146  1,981    814  2,548  2,227\n",
              "8    마포서      8      8     14     10    294    247  2,555    813  2,983  2,519\n",
              "9   영등포서     14     12     22     20    295    183  2,964    978  3,572  2,961\n",
              "10   성동서      4      4      9      8    126    119  1,607    597  1,612  1,395\n",
              "11   동작서      5      5      9      5    285    139  1,865    661  1,910  1,587\n",
              "12   광진서      4      4     14     26    240    220  3,026  1,277  2,625  2,180\n",
              "13   서부서      2      2      2      1     70     59    819    293  1,192  1,038\n",
              "14   강북서      7      8     14     13    153    126  1,434    618  2,649  2,348\n",
              "15   금천서      3      4      6      6    151    122  1,567    888  2,054  1,776\n",
              "16   중랑서     13     12     11      9    187    148  2,135    829  2,847  2,407\n",
              "17   강남서      3      3     15     12    300    225  2,411    984  2,465  2,146\n",
              "18   관악서      9      8     12     14    320    221  2,706    827  3,298  2,642\n",
              "19   강서서      7      8     13     13    262    191  2,096  1,260  3,207  2,718\n",
              "20   강동서      4      3      6      8    156    123  2,366    789  2,712  2,248\n",
              "21   종암서      3      3      3      3     64     53    832    332  1,015    840\n",
              "22   구로서      8      6     15     11    281    164  2,335    889  3,007  2,432\n",
              "23   서초서      7      4      8      5    334    193  1,982    905  1,852  1,607\n",
              "24   양천서      3      5      6      3    120    105  1,890    672  2,509  2,030\n",
              "25   송파서     11     10     13     10    220    178  3,239  1,129  3,295  2,786\n",
              "26   노원서     10     10      7      7    197    121  2,193    801  2,723  2,329\n",
              "27   방배서      1      2      1      1     59     56    653    186    547    491\n",
              "28   은평서      1      1      7      5     96     82  1,095    418  1,461  1,268\n",
              "29   도봉서      3      3      9     10    102    106  1,063    478  1,487  1,303\n",
              "30   수서서     10      7      6      6    149    124  1,439    666  1,819  1,559"
            ]
          },
          "metadata": {},
          "execution_count": 7
        }
      ]
    },
    {
      "cell_type": "code",
      "metadata": {
        "colab": {
          "base_uri": "https://localhost:8080/",
          "height": 112
        },
        "id": "oZ5WjT3htfh_",
        "outputId": "c325b69d-07d4-4620-b934-9b92bcda3a78"
      },
      "source": [
        "df = pd.DataFrame({\n",
        "                  'name':['hong','park'], \n",
        "                   'age': [10,20]\n",
        "                   })\n",
        "df"
      ],
      "execution_count": 11,
      "outputs": [
        {
          "output_type": "execute_result",
          "data": {
            "text/html": [
              "<div>\n",
              "<style scoped>\n",
              "    .dataframe tbody tr th:only-of-type {\n",
              "        vertical-align: middle;\n",
              "    }\n",
              "\n",
              "    .dataframe tbody tr th {\n",
              "        vertical-align: top;\n",
              "    }\n",
              "\n",
              "    .dataframe thead th {\n",
              "        text-align: right;\n",
              "    }\n",
              "</style>\n",
              "<table border=\"1\" class=\"dataframe\">\n",
              "  <thead>\n",
              "    <tr style=\"text-align: right;\">\n",
              "      <th></th>\n",
              "      <th>name</th>\n",
              "      <th>age</th>\n",
              "    </tr>\n",
              "  </thead>\n",
              "  <tbody>\n",
              "    <tr>\n",
              "      <th>0</th>\n",
              "      <td>hong</td>\n",
              "      <td>10</td>\n",
              "    </tr>\n",
              "    <tr>\n",
              "      <th>1</th>\n",
              "      <td>park</td>\n",
              "      <td>20</td>\n",
              "    </tr>\n",
              "  </tbody>\n",
              "</table>\n",
              "</div>"
            ],
            "text/plain": [
              "   name  age\n",
              "0  hong   10\n",
              "1  park   20"
            ]
          },
          "metadata": {},
          "execution_count": 11
        }
      ]
    },
    {
      "cell_type": "code",
      "metadata": {
        "colab": {
          "base_uri": "https://localhost:8080/"
        },
        "id": "cO9nxHucuerB",
        "outputId": "3793165d-fd08-41bc-e33f-a42739696c1e"
      },
      "source": [
        "# DF의 구성요소 -> Index 와 column\n",
        "\n",
        "df.index\n",
        "# RangeIndex 는 클래스임 -> 즉 DF는 RangeIndex 객체와 행렬의 조합"
      ],
      "execution_count": 12,
      "outputs": [
        {
          "output_type": "execute_result",
          "data": {
            "text/plain": [
              "RangeIndex(start=0, stop=2, step=1)"
            ]
          },
          "metadata": {},
          "execution_count": 12
        }
      ]
    },
    {
      "cell_type": "code",
      "metadata": {
        "colab": {
          "base_uri": "https://localhost:8080/"
        },
        "id": "PpIfDTrouh3K",
        "outputId": "f2c1739f-3fcf-45b9-82ac-7b7d25598a27"
      },
      "source": [
        "df.values"
      ],
      "execution_count": 13,
      "outputs": [
        {
          "output_type": "execute_result",
          "data": {
            "text/plain": [
              "array([['hong', 10],\n",
              "       ['park', 20]], dtype=object)"
            ]
          },
          "metadata": {},
          "execution_count": 13
        }
      ]
    },
    {
      "cell_type": "code",
      "metadata": {
        "colab": {
          "base_uri": "https://localhost:8080/"
        },
        "id": "Q8lKHAAsvlV2",
        "outputId": "656c8c42-2fc5-4653-88e5-f43e7d301d11"
      },
      "source": [
        "#컬럼 불러오기 (같은 기능)\n",
        "df.name\n",
        "df['name']"
      ],
      "execution_count": 15,
      "outputs": [
        {
          "output_type": "execute_result",
          "data": {
            "text/plain": [
              "0    hong\n",
              "1    park\n",
              "Name: name, dtype: object"
            ]
          },
          "metadata": {},
          "execution_count": 15
        }
      ]
    },
    {
      "cell_type": "code",
      "metadata": {
        "colab": {
          "base_uri": "https://localhost:8080/"
        },
        "id": "e77BYdrQvncg",
        "outputId": "5f93da07-2692-4159-c328-6aee67663315"
      },
      "source": [
        "df.name.index\n",
        "df.name.values # 리스트 형태가 아님 객체형태!"
      ],
      "execution_count": 20,
      "outputs": [
        {
          "output_type": "execute_result",
          "data": {
            "text/plain": [
              "array(['hong', 'park'], dtype=object)"
            ]
          },
          "metadata": {},
          "execution_count": 20
        }
      ]
    },
    {
      "cell_type": "code",
      "metadata": {
        "colab": {
          "base_uri": "https://localhost:8080/"
        },
        "id": "PUhXaV7Zvyvh",
        "outputId": "037c3e88-ce29-4cf1-caa1-931fa4a7cce8"
      },
      "source": [
        "df.name.values.tolist() # 클래스 객체형태를 리스트로 변환 (언래핑)"
      ],
      "execution_count": 22,
      "outputs": [
        {
          "output_type": "execute_result",
          "data": {
            "text/plain": [
              "['hong', 'park']"
            ]
          },
          "metadata": {},
          "execution_count": 22
        }
      ]
    },
    {
      "cell_type": "code",
      "metadata": {
        "colab": {
          "base_uri": "https://localhost:8080/",
          "height": 112
        },
        "id": "21XtIweYwGpT",
        "outputId": "22daad78-a46b-4813-94ea-422c038d1845"
      },
      "source": [
        "#튜플형태로 DF만들기\n",
        "df2 = pd.DataFrame(data= [['hong',10], ['park',20]], columns = ['name','age'])\n",
        "df2"
      ],
      "execution_count": 36,
      "outputs": [
        {
          "output_type": "execute_result",
          "data": {
            "text/html": [
              "<div>\n",
              "<style scoped>\n",
              "    .dataframe tbody tr th:only-of-type {\n",
              "        vertical-align: middle;\n",
              "    }\n",
              "\n",
              "    .dataframe tbody tr th {\n",
              "        vertical-align: top;\n",
              "    }\n",
              "\n",
              "    .dataframe thead th {\n",
              "        text-align: right;\n",
              "    }\n",
              "</style>\n",
              "<table border=\"1\" class=\"dataframe\">\n",
              "  <thead>\n",
              "    <tr style=\"text-align: right;\">\n",
              "      <th></th>\n",
              "      <th>name</th>\n",
              "      <th>age</th>\n",
              "    </tr>\n",
              "  </thead>\n",
              "  <tbody>\n",
              "    <tr>\n",
              "      <th>0</th>\n",
              "      <td>hong</td>\n",
              "      <td>10</td>\n",
              "    </tr>\n",
              "    <tr>\n",
              "      <th>1</th>\n",
              "      <td>park</td>\n",
              "      <td>20</td>\n",
              "    </tr>\n",
              "  </tbody>\n",
              "</table>\n",
              "</div>"
            ],
            "text/plain": [
              "   name  age\n",
              "0  hong   10\n",
              "1  park   20"
            ]
          },
          "metadata": {},
          "execution_count": 36
        }
      ]
    },
    {
      "cell_type": "code",
      "metadata": {
        "colab": {
          "base_uri": "https://localhost:8080/"
        },
        "id": "Y6IUbrfIwi5R",
        "outputId": "631a5989-45d2-4c26-83b1-6cc5f79ffcf3"
      },
      "source": [
        "df2.dtypes"
      ],
      "execution_count": 32,
      "outputs": [
        {
          "output_type": "execute_result",
          "data": {
            "text/plain": [
              "name    object\n",
              "age      int64\n",
              "dtype: object"
            ]
          },
          "metadata": {},
          "execution_count": 32
        }
      ]
    },
    {
      "cell_type": "code",
      "metadata": {
        "colab": {
          "base_uri": "https://localhost:8080/"
        },
        "id": "_xEagRLjw4zv",
        "outputId": "9191cf40-0953-42bb-c1ea-6c6956a0ccbf"
      },
      "source": [
        "df2.age.astype(float) \n",
        "#astype 는 원본(df2)자체를 바꾸지는 않음 => '비파괴함수'\n",
        "#df2를 다시 쳐보면 int64로 그대로임\n",
        "#df2를 다시 변수에 대입하면 유지됨"
      ],
      "execution_count": 33,
      "outputs": [
        {
          "output_type": "execute_result",
          "data": {
            "text/plain": [
              "0    10.0\n",
              "1    20.0\n",
              "Name: age, dtype: float64"
            ]
          },
          "metadata": {},
          "execution_count": 33
        }
      ]
    },
    {
      "cell_type": "code",
      "metadata": {
        "colab": {
          "base_uri": "https://localhost:8080/",
          "height": 112
        },
        "id": "pjjnHBd5xoug",
        "outputId": "54ce015d-705c-4f58-a76e-b25954f169bd"
      },
      "source": [
        "df2.age = df2.age.astype(float) \n",
        "df2"
      ],
      "execution_count": 37,
      "outputs": [
        {
          "output_type": "execute_result",
          "data": {
            "text/html": [
              "<div>\n",
              "<style scoped>\n",
              "    .dataframe tbody tr th:only-of-type {\n",
              "        vertical-align: middle;\n",
              "    }\n",
              "\n",
              "    .dataframe tbody tr th {\n",
              "        vertical-align: top;\n",
              "    }\n",
              "\n",
              "    .dataframe thead th {\n",
              "        text-align: right;\n",
              "    }\n",
              "</style>\n",
              "<table border=\"1\" class=\"dataframe\">\n",
              "  <thead>\n",
              "    <tr style=\"text-align: right;\">\n",
              "      <th></th>\n",
              "      <th>name</th>\n",
              "      <th>age</th>\n",
              "    </tr>\n",
              "  </thead>\n",
              "  <tbody>\n",
              "    <tr>\n",
              "      <th>0</th>\n",
              "      <td>hong</td>\n",
              "      <td>10.0</td>\n",
              "    </tr>\n",
              "    <tr>\n",
              "      <th>1</th>\n",
              "      <td>park</td>\n",
              "      <td>20.0</td>\n",
              "    </tr>\n",
              "  </tbody>\n",
              "</table>\n",
              "</div>"
            ],
            "text/plain": [
              "   name   age\n",
              "0  hong  10.0\n",
              "1  park  20.0"
            ]
          },
          "metadata": {},
          "execution_count": 37
        }
      ]
    },
    {
      "cell_type": "code",
      "metadata": {
        "colab": {
          "base_uri": "https://localhost:8080/",
          "height": 112
        },
        "id": "l5gQ_piRxMhH",
        "outputId": "049e7110-6d6c-4ce6-d09c-c7ca6b5fa471"
      },
      "source": [
        "df2.age = df2.age.astype(int) \n",
        "df2"
      ],
      "execution_count": 38,
      "outputs": [
        {
          "output_type": "execute_result",
          "data": {
            "text/html": [
              "<div>\n",
              "<style scoped>\n",
              "    .dataframe tbody tr th:only-of-type {\n",
              "        vertical-align: middle;\n",
              "    }\n",
              "\n",
              "    .dataframe tbody tr th {\n",
              "        vertical-align: top;\n",
              "    }\n",
              "\n",
              "    .dataframe thead th {\n",
              "        text-align: right;\n",
              "    }\n",
              "</style>\n",
              "<table border=\"1\" class=\"dataframe\">\n",
              "  <thead>\n",
              "    <tr style=\"text-align: right;\">\n",
              "      <th></th>\n",
              "      <th>name</th>\n",
              "      <th>age</th>\n",
              "    </tr>\n",
              "  </thead>\n",
              "  <tbody>\n",
              "    <tr>\n",
              "      <th>0</th>\n",
              "      <td>hong</td>\n",
              "      <td>10</td>\n",
              "    </tr>\n",
              "    <tr>\n",
              "      <th>1</th>\n",
              "      <td>park</td>\n",
              "      <td>20</td>\n",
              "    </tr>\n",
              "  </tbody>\n",
              "</table>\n",
              "</div>"
            ],
            "text/plain": [
              "   name  age\n",
              "0  hong   10\n",
              "1  park   20"
            ]
          },
          "metadata": {},
          "execution_count": 38
        }
      ]
    },
    {
      "cell_type": "code",
      "metadata": {
        "colab": {
          "base_uri": "https://localhost:8080/"
        },
        "id": "k6OwQCeUxNy9",
        "outputId": "65d6da2e-7e0f-4185-f65f-304d077f78a5"
      },
      "source": [
        "df2.dtypes"
      ],
      "execution_count": 39,
      "outputs": [
        {
          "output_type": "execute_result",
          "data": {
            "text/plain": [
              "name    object\n",
              "age      int64\n",
              "dtype: object"
            ]
          },
          "metadata": {},
          "execution_count": 39
        }
      ]
    },
    {
      "cell_type": "code",
      "metadata": {
        "colab": {
          "base_uri": "https://localhost:8080/",
          "height": 300
        },
        "id": "7jGc7OGGxP_Y",
        "outputId": "157c68eb-aa90-478f-fa29-a2c1a8068bd3"
      },
      "source": [
        "df2.describe()"
      ],
      "execution_count": 40,
      "outputs": [
        {
          "output_type": "execute_result",
          "data": {
            "text/html": [
              "<div>\n",
              "<style scoped>\n",
              "    .dataframe tbody tr th:only-of-type {\n",
              "        vertical-align: middle;\n",
              "    }\n",
              "\n",
              "    .dataframe tbody tr th {\n",
              "        vertical-align: top;\n",
              "    }\n",
              "\n",
              "    .dataframe thead th {\n",
              "        text-align: right;\n",
              "    }\n",
              "</style>\n",
              "<table border=\"1\" class=\"dataframe\">\n",
              "  <thead>\n",
              "    <tr style=\"text-align: right;\">\n",
              "      <th></th>\n",
              "      <th>age</th>\n",
              "    </tr>\n",
              "  </thead>\n",
              "  <tbody>\n",
              "    <tr>\n",
              "      <th>count</th>\n",
              "      <td>2.000000</td>\n",
              "    </tr>\n",
              "    <tr>\n",
              "      <th>mean</th>\n",
              "      <td>15.000000</td>\n",
              "    </tr>\n",
              "    <tr>\n",
              "      <th>std</th>\n",
              "      <td>7.071068</td>\n",
              "    </tr>\n",
              "    <tr>\n",
              "      <th>min</th>\n",
              "      <td>10.000000</td>\n",
              "    </tr>\n",
              "    <tr>\n",
              "      <th>25%</th>\n",
              "      <td>12.500000</td>\n",
              "    </tr>\n",
              "    <tr>\n",
              "      <th>50%</th>\n",
              "      <td>15.000000</td>\n",
              "    </tr>\n",
              "    <tr>\n",
              "      <th>75%</th>\n",
              "      <td>17.500000</td>\n",
              "    </tr>\n",
              "    <tr>\n",
              "      <th>max</th>\n",
              "      <td>20.000000</td>\n",
              "    </tr>\n",
              "  </tbody>\n",
              "</table>\n",
              "</div>"
            ],
            "text/plain": [
              "             age\n",
              "count   2.000000\n",
              "mean   15.000000\n",
              "std     7.071068\n",
              "min    10.000000\n",
              "25%    12.500000\n",
              "50%    15.000000\n",
              "75%    17.500000\n",
              "max    20.000000"
            ]
          },
          "metadata": {},
          "execution_count": 40
        }
      ]
    },
    {
      "cell_type": "code",
      "metadata": {
        "colab": {
          "base_uri": "https://localhost:8080/"
        },
        "id": "1A4imeYFyMdM",
        "outputId": "b9973d33-efd9-4b03-8c70-b7a90d74e153"
      },
      "source": [
        "type(df2['name'])"
      ],
      "execution_count": 41,
      "outputs": [
        {
          "output_type": "execute_result",
          "data": {
            "text/plain": [
              "pandas.core.series.Series"
            ]
          },
          "metadata": {},
          "execution_count": 41
        }
      ]
    },
    {
      "cell_type": "code",
      "metadata": {
        "colab": {
          "base_uri": "https://localhost:8080/"
        },
        "id": "vbUV4u66yflI",
        "outputId": "b5f3ad0c-8ff3-41c8-bc63-95b587007293"
      },
      "source": [
        "df2['name']"
      ],
      "execution_count": 42,
      "outputs": [
        {
          "output_type": "execute_result",
          "data": {
            "text/plain": [
              "0    hong\n",
              "1    park\n",
              "Name: name, dtype: object"
            ]
          },
          "metadata": {},
          "execution_count": 42
        }
      ]
    },
    {
      "cell_type": "code",
      "metadata": {
        "colab": {
          "base_uri": "https://localhost:8080/"
        },
        "id": "P_0Wursjyji3",
        "outputId": "70a6a303-d53b-475e-d778-09f3b91a8186"
      },
      "source": [
        "df2.name.index"
      ],
      "execution_count": 44,
      "outputs": [
        {
          "output_type": "execute_result",
          "data": {
            "text/plain": [
              "RangeIndex(start=0, stop=2, step=1)"
            ]
          },
          "metadata": {},
          "execution_count": 44
        }
      ]
    },
    {
      "cell_type": "code",
      "metadata": {
        "colab": {
          "base_uri": "https://localhost:8080/"
        },
        "id": "bPzkgC33yov6",
        "outputId": "01ca0662-4cf3-45b2-fe87-a3c77b061e7a"
      },
      "source": [
        "df2.name.values"
      ],
      "execution_count": 45,
      "outputs": [
        {
          "output_type": "execute_result",
          "data": {
            "text/plain": [
              "array(['hong', 'park'], dtype=object)"
            ]
          },
          "metadata": {},
          "execution_count": 45
        }
      ]
    },
    {
      "cell_type": "code",
      "metadata": {
        "colab": {
          "base_uri": "https://localhost:8080/"
        },
        "id": "h7Ov_awFyp58",
        "outputId": "3aac9f99-a598-4772-8489-de79644dddd3"
      },
      "source": [
        "type(df2['name'].values)"
      ],
      "execution_count": 46,
      "outputs": [
        {
          "output_type": "execute_result",
          "data": {
            "text/plain": [
              "numpy.ndarray"
            ]
          },
          "metadata": {},
          "execution_count": 46
        }
      ]
    },
    {
      "cell_type": "code",
      "metadata": {
        "colab": {
          "base_uri": "https://localhost:8080/"
        },
        "id": "91F2zHSTytIn",
        "outputId": "afc11214-514b-46bc-8a59-b1f4306db91d"
      },
      "source": [
        "mask = np.zeros(5)\n",
        "mask"
      ],
      "execution_count": 47,
      "outputs": [
        {
          "output_type": "execute_result",
          "data": {
            "text/plain": [
              "array([0., 0., 0., 0., 0.])"
            ]
          },
          "metadata": {},
          "execution_count": 47
        }
      ]
    },
    {
      "cell_type": "code",
      "metadata": {
        "colab": {
          "base_uri": "https://localhost:8080/"
        },
        "id": "hLG4PyizzDYB",
        "outputId": "b0a480a9-70a8-43de-811f-10a474892ac4"
      },
      "source": [
        "mask2 = np.zeros((3,4))\n",
        "mask2"
      ],
      "execution_count": 48,
      "outputs": [
        {
          "output_type": "execute_result",
          "data": {
            "text/plain": [
              "array([[0., 0., 0., 0.],\n",
              "       [0., 0., 0., 0.],\n",
              "       [0., 0., 0., 0.]])"
            ]
          },
          "metadata": {},
          "execution_count": 48
        }
      ]
    },
    {
      "cell_type": "code",
      "metadata": {
        "colab": {
          "base_uri": "https://localhost:8080/"
        },
        "id": "HYEe0aYVzHd3",
        "outputId": "5ac13b1f-18ce-4339-e64b-dafbb2f8d3d5"
      },
      "source": [
        "arr2 = np.array([\n",
        "    [1,2,3],[4,5,6]],\n",
        "    dtype=np.float64\n",
        ")\n",
        "arr2"
      ],
      "execution_count": 51,
      "outputs": [
        {
          "output_type": "execute_result",
          "data": {
            "text/plain": [
              "array([[1., 2., 3.],\n",
              "       [4., 5., 6.]])"
            ]
          },
          "metadata": {},
          "execution_count": 51
        }
      ]
    },
    {
      "cell_type": "code",
      "metadata": {
        "colab": {
          "base_uri": "https://localhost:8080/"
        },
        "id": "Wv33Ecyazev1",
        "outputId": "77c3262e-0df3-485a-feda-f0e49c0c6873"
      },
      "source": [
        "arr3 = np.array([[1,2,3],[2,3,4]]\n",
        "                ,dtype=int)\n",
        "\n",
        "arr3"
      ],
      "execution_count": 56,
      "outputs": [
        {
          "output_type": "execute_result",
          "data": {
            "text/plain": [
              "array([[1, 2, 3],\n",
              "       [2, 3, 4]])"
            ]
          },
          "metadata": {},
          "execution_count": 56
        }
      ]
    },
    {
      "cell_type": "code",
      "metadata": {
        "colab": {
          "base_uri": "https://localhost:8080/"
        },
        "id": "Mqkma57MzsKF",
        "outputId": "320a71e5-eaf0-4aa4-c202-f19beb1a85e0"
      },
      "source": [
        "arr2 + arr3 "
      ],
      "execution_count": 57,
      "outputs": [
        {
          "output_type": "execute_result",
          "data": {
            "text/plain": [
              "array([[ 2.,  4.,  6.],\n",
              "       [ 6.,  8., 10.]])"
            ]
          },
          "metadata": {},
          "execution_count": 57
        }
      ]
    },
    {
      "cell_type": "code",
      "metadata": {
        "colab": {
          "base_uri": "https://localhost:8080/"
        },
        "id": "2CZrkPNDzzm7",
        "outputId": "3fc75c15-480e-4f4c-84b9-600eba145c42"
      },
      "source": [
        "arr2 * arr3"
      ],
      "execution_count": 58,
      "outputs": [
        {
          "output_type": "execute_result",
          "data": {
            "text/plain": [
              "array([[ 1.,  4.,  9.],\n",
              "       [ 8., 15., 24.]])"
            ]
          },
          "metadata": {},
          "execution_count": 58
        }
      ]
    },
    {
      "cell_type": "code",
      "metadata": {
        "id": "mllWNVCUz5yw"
      },
      "source": [
        ""
      ],
      "execution_count": null,
      "outputs": []
    }
  ]
}