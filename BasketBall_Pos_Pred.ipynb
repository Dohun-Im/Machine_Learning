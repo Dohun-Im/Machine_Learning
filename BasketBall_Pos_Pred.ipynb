{
  "nbformat": 4,
  "nbformat_minor": 5,
  "metadata": {
    "kernelspec": {
      "display_name": "Python 3",
      "language": "python",
      "name": "python3"
    },
    "language_info": {
      "codemirror_mode": {
        "name": "ipython",
        "version": 3
      },
      "file_extension": ".py",
      "mimetype": "text/x-python",
      "name": "python",
      "nbconvert_exporter": "python",
      "pygments_lexer": "ipython3",
      "version": "3.8.8"
    },
    "colab": {
      "name": "BasketBall_Pos_Pred.ipynb",
      "provenance": [],
      "include_colab_link": true
    }
  },
  "cells": [
    {
      "cell_type": "markdown",
      "metadata": {
        "id": "view-in-github",
        "colab_type": "text"
      },
      "source": [
        "<a href=\"https://colab.research.google.com/github/Dohun-Im/Machine_Learning/blob/master/BasketBall_Pos_Pred.ipynb\" target=\"_parent\"><img src=\"https://colab.research.google.com/assets/colab-badge.svg\" alt=\"Open In Colab\"/></a>"
      ]
    },
    {
      "cell_type": "code",
      "metadata": {
        "id": "088a8c83"
      },
      "source": [
        "import pandas as pd\n",
        "import numpy as np\n",
        "import matplotlib.pyplot as plt\n",
        "import seaborn as sns\n",
        "%matplotlib inline"
      ],
      "id": "088a8c83",
      "execution_count": null,
      "outputs": []
    },
    {
      "cell_type": "code",
      "metadata": {
        "id": "77f34324"
      },
      "source": [
        "df=pd.read_csv('./basketball_stat.csv')\n",
        "df_train=pd.read_csv('./basket_train.csv')\n",
        "df_test=pd.read_csv('./basketball_test.csv')"
      ],
      "id": "77f34324",
      "execution_count": null,
      "outputs": []
    },
    {
      "cell_type": "code",
      "metadata": {
        "id": "6232f94d",
        "outputId": "e96a1dcc-88a3-41a3-be4b-61aca928e5de"
      },
      "source": [
        "print('data 정보 \\n')\n",
        "print(df.info())"
      ],
      "id": "6232f94d",
      "execution_count": null,
      "outputs": [
        {
          "name": "stdout",
          "output_type": "stream",
          "text": [
            "data 정보 \n",
            "\n",
            "<class 'pandas.core.frame.DataFrame'>\n",
            "RangeIndex: 100 entries, 0 to 99\n",
            "Data columns (total 8 columns):\n",
            " #   Column  Non-Null Count  Dtype  \n",
            "---  ------  --------------  -----  \n",
            " 0   Player  100 non-null    object \n",
            " 1   Pos     100 non-null    object \n",
            " 2   3P      100 non-null    float64\n",
            " 3   2P      100 non-null    float64\n",
            " 4   TRB     100 non-null    float64\n",
            " 5   AST     100 non-null    float64\n",
            " 6   STL     100 non-null    float64\n",
            " 7   BLK     100 non-null    float64\n",
            "dtypes: float64(6), object(2)\n",
            "memory usage: 6.4+ KB\n",
            "None\n"
          ]
        }
      ]
    },
    {
      "cell_type": "code",
      "metadata": {
        "collapsed": true,
        "id": "2b1ee994",
        "outputId": "a7893f02-c5d8-48d5-882c-2a82f30db3b6"
      },
      "source": [
        "print('Player 값 분포: \\n', df['Player'].value_counts())\n",
        "print('\\n 2P 값 분포: \\n', df['2P'].value_counts())\n",
        "print('\\n STL 값 분포: \\n', df['STL'].value_counts())"
      ],
      "id": "2b1ee994",
      "execution_count": null,
      "outputs": [
        {
          "name": "stdout",
          "output_type": "stream",
          "text": [
            "Player 값 분포: \n",
            " Alex Abrines      1\n",
            "Ian Mahinmi       1\n",
            "Victor Oladipo    1\n",
            "Jamal Murray      1\n",
            "Timofey Mozgov    1\n",
            "                 ..\n",
            "Marc Gasol        1\n",
            "Channing Frye     1\n",
            "Evan Fournier     1\n",
            "Joel Embiid       1\n",
            "Lou Williams      1\n",
            "Name: Player, Length: 100, dtype: int64\n",
            "\n",
            " 2P 값 분포: \n",
            " 2.2    8\n",
            "2.9    4\n",
            "2.7    4\n",
            "3.4    4\n",
            "1.3    4\n",
            "1.4    3\n",
            "1.9    3\n",
            "2.1    3\n",
            "3.6    3\n",
            "1.7    3\n",
            "4.3    3\n",
            "0.5    2\n",
            "2.5    2\n",
            "4.8    2\n",
            "5.1    2\n",
            "4.7    2\n",
            "3.9    2\n",
            "4.1    2\n",
            "1.2    2\n",
            "0.7    2\n",
            "5.9    2\n",
            "4.4    2\n",
            "2.3    2\n",
            "2.8    2\n",
            "5.6    2\n",
            "6.2    2\n",
            "3.0    2\n",
            "1.6    1\n",
            "2.4    1\n",
            "8.5    1\n",
            "5.0    1\n",
            "4.9    1\n",
            "3.1    1\n",
            "6.1    1\n",
            "7.0    1\n",
            "1.5    1\n",
            "6.3    1\n",
            "2.0    1\n",
            "0.6    1\n",
            "1.1    1\n",
            "5.2    1\n",
            "3.7    1\n",
            "0.9    1\n",
            "5.8    1\n",
            "5.3    1\n",
            "9.7    1\n",
            "7.2    1\n",
            "4.6    1\n",
            "1.8    1\n",
            "5.4    1\n",
            "3.5    1\n",
            "0.8    1\n",
            "3.3    1\n",
            "Name: 2P, dtype: int64\n",
            "\n",
            " STL 값 분포: \n",
            " 0.5    17\n",
            "0.6    13\n",
            "0.7    10\n",
            "0.9    10\n",
            "1.1     8\n",
            "0.8     7\n",
            "0.3     7\n",
            "1.0     5\n",
            "1.2     5\n",
            "0.4     5\n",
            "0.2     3\n",
            "1.5     2\n",
            "1.4     2\n",
            "1.3     2\n",
            "0.0     2\n",
            "0.1     1\n",
            "1.6     1\n",
            "Name: STL, dtype: int64\n"
          ]
        }
      ]
    },
    {
      "cell_type": "code",
      "metadata": {
        "id": "d3fba64d",
        "outputId": "0e5ba29d-eff6-4c29-9400-e6e776858852"
      },
      "source": [
        "# 스틸, 2점슛 데이터 시각화\n",
        "sns.lmplot('STL','2P', data=df, fit_reg= False,\n",
        "          scatter_kws={\"s\":150},\n",
        "          markers=['o','x'],\n",
        "          hue='Pos')\n",
        "\n",
        "plt.title('STL - 2P')"
      ],
      "id": "d3fba64d",
      "execution_count": null,
      "outputs": [
        {
          "name": "stderr",
          "output_type": "stream",
          "text": [
            "/opt/anaconda3/lib/python3.9/site-packages/seaborn/_decorators.py:36: FutureWarning: Pass the following variables as keyword args: x, y. From version 0.12, the only valid positional argument will be `data`, and passing other arguments without an explicit keyword will result in an error or misinterpretation.\n",
            "  warnings.warn(\n"
          ]
        },
        {
          "data": {
            "text/plain": [
              "Text(0.5, 1.0, 'STL - 2P')"
            ]
          },
          "execution_count": 5,
          "metadata": {},
          "output_type": "execute_result"
        },
        {
          "data": {
            "image/png": "[encoded data removed]",
            "text/plain": [
              "<Figure size 410x360 with 1 Axes>"
            ]
          },
          "metadata": {
            "needs_background": "light"
          },
          "output_type": "display_data"
        }
      ]
    },
    {
      "cell_type": "code",
      "metadata": {
        "id": "16e77133",
        "outputId": "493d014e-6806-49cd-9a0a-7aa0bdde8ba2"
      },
      "source": [
        "sns.lmplot('3P','BLK', data=df, fit_reg= False,\n",
        "          scatter_kws={\"s\":150},\n",
        "          markers=['o','x'],\n",
        "          hue='Pos')\n",
        "\n",
        "plt.title('3P - BLK') "
      ],
      "id": "16e77133",
      "execution_count": null,
      "outputs": [
        {
          "name": "stderr",
          "output_type": "stream",
          "text": [
            "/opt/anaconda3/lib/python3.9/site-packages/seaborn/_decorators.py:36: FutureWarning: Pass the following variables as keyword args: x, y. From version 0.12, the only valid positional argument will be `data`, and passing other arguments without an explicit keyword will result in an error or misinterpretation.\n",
            "  warnings.warn(\n"
          ]
        },
        {
          "data": {
            "text/plain": [
              "Text(0.5, 1.0, '3P - BLK')"
            ]
          },
          "execution_count": 6,
          "metadata": {},
          "output_type": "execute_result"
        },
        {
          "data": {
            "image/png": "[encoded data removed]",
            "text/plain": [
              "<Figure size 410x360 with 1 Axes>"
            ]
          },
          "metadata": {
            "needs_background": "light"
          },
          "output_type": "display_data"
        }
      ]
    },
    {
      "cell_type": "code",
      "metadata": {
        "id": "245edd81",
        "outputId": "16958174-5a42-4f92-a377-56f9dd95104c"
      },
      "source": [
        "sns.lmplot('TRB','3P', data=df, fit_reg= False,\n",
        "          scatter_kws={\"s\":150},\n",
        "          markers=['o','x'],\n",
        "          hue='Pos')\n",
        "\n",
        "plt.title('TRB - 3P') "
      ],
      "id": "245edd81",
      "execution_count": null,
      "outputs": [
        {
          "name": "stderr",
          "output_type": "stream",
          "text": [
            "/opt/anaconda3/lib/python3.9/site-packages/seaborn/_decorators.py:36: FutureWarning: Pass the following variables as keyword args: x, y. From version 0.12, the only valid positional argument will be `data`, and passing other arguments without an explicit keyword will result in an error or misinterpretation.\n",
            "  warnings.warn(\n"
          ]
        },
        {
          "data": {
            "text/plain": [
              "Text(0.5, 1.0, 'TRB - 3P')"
            ]
          },
          "execution_count": 7,
          "metadata": {},
          "output_type": "execute_result"
        },
        {
          "data": {
            "image/png": "[encoded data removed]",
            "text/plain": [
              "<Figure size 410x360 with 1 Axes>"
            ]
          },
          "metadata": {
            "needs_background": "light"
          },
          "output_type": "display_data"
        }
      ]
    },
    {
      "cell_type": "code",
      "metadata": {
        "id": "60ef81c3",
        "outputId": "9cf54df6-e4f6-45b0-f9ca-35b96af72b0f"
      },
      "source": [
        "sns.lmplot('TRB','2P', data=df, fit_reg= False,\n",
        "          scatter_kws={\"s\":150},\n",
        "          markers=['o','x'],\n",
        "          hue='Pos')\n",
        "\n",
        "plt.title('TRB - 3P') "
      ],
      "id": "60ef81c3",
      "execution_count": null,
      "outputs": [
        {
          "name": "stderr",
          "output_type": "stream",
          "text": [
            "/opt/anaconda3/lib/python3.9/site-packages/seaborn/_decorators.py:36: FutureWarning: Pass the following variables as keyword args: x, y. From version 0.12, the only valid positional argument will be `data`, and passing other arguments without an explicit keyword will result in an error or misinterpretation.\n",
            "  warnings.warn(\n"
          ]
        },
        {
          "data": {
            "text/plain": [
              "Text(0.5, 1.0, 'TRB - 3P')"
            ]
          },
          "execution_count": 8,
          "metadata": {},
          "output_type": "execute_result"
        },
        {
          "data": {
            "image/png": "[encoded data removed]",
            "text/plain": [
              "<Figure size 410x360 with 1 Axes>"
            ]
          },
          "metadata": {
            "needs_background": "light"
          },
          "output_type": "display_data"
        }
      ]
    },
    {
      "cell_type": "code",
      "metadata": {
        "id": "e031f3ad"
      },
      "source": [
        "from sklearn.model_selection import GridSearchCV\n",
        "from sklearn.metrics import classification_report\n",
        "from sklearn.metrics import accuracy_score\n",
        "from sklearn.svm import SVC\n",
        "\n",
        "import numpy as np"
      ],
      "id": "e031f3ad",
      "execution_count": null,
      "outputs": []
    },
    {
      "cell_type": "code",
      "metadata": {
        "id": "dc9ba276"
      },
      "source": [
        "def svc_param_selection(X, y, nfolds):\n",
        "    svm_parameters = [\n",
        "                        {'kernel': ['rbf'],\n",
        "                         'gamma': [0.00001,0.0001, 0.001, 0.01, 0.1, 1],\n",
        "                         'C': [0.01, 0.1, 1, 10, 100, 1000]\n",
        "                        }\n",
        "                       ]\n",
        "    \n",
        "    clf = GridSearchCV(SVC(), svm_parameters, cv=5)\n",
        "    clf.fit(X_train, y_train.values.ravel())\n",
        "    print(clf.best_params_)\n",
        "    \n",
        "    return clf"
      ],
      "id": "dc9ba276",
      "execution_count": null,
      "outputs": []
    },
    {
      "cell_type": "code",
      "metadata": {
        "id": "0d800250",
        "outputId": "a60c06c8-80bb-46e5-c7f7-08684997a961"
      },
      "source": [
        "X_train = df_train[['3P', 'BLK']]\n",
        "y_train = df_train[['Pos']]\n",
        "# 최적의 파라미터를 sklearn의 gridsearch를 통해 구합니다.\n",
        "clf = svc_param_selection(X_train, y_train.values.ravel(), 10)"
      ],
      "id": "0d800250",
      "execution_count": null,
      "outputs": [
        {
          "name": "stdout",
          "output_type": "stream",
          "text": [
            "{'C': 0.1, 'gamma': 1, 'kernel': 'rbf'}\n"
          ]
        }
      ]
    },
    {
      "cell_type": "code",
      "metadata": {
        "id": "561a8d3c",
        "outputId": "193b8ccd-4e39-40c0-c007-ec8ad4f360c1"
      },
      "source": [
        "# 테스트에 사용될 특징을 지정합니다\n",
        "X_test = df_test[['3P', 'BLK']]\n",
        "\n",
        "# 특징으로 예측할 값 (농구선수 포지션)을 지정합니다\n",
        "y_test = df_test[['Pos']]\n",
        "\n",
        "# 최적의 파라미터로 완성된 SVM에 테스트 데이터를 주입하여, 실제값과 예측값을 얻습니다.\n",
        "y_true, y_pred = y_test, clf.predict(X_test)\n",
        "\n",
        "print(classification_report(y_true, y_pred))\n",
        "print()\n",
        "print(\"accuracy : \"+ str(accuracy_score(y_true, y_pred)) )"
      ],
      "id": "561a8d3c",
      "execution_count": null,
      "outputs": [
        {
          "name": "stdout",
          "output_type": "stream",
          "text": [
            "              precision    recall  f1-score   support\n",
            "\n",
            "           C       1.00      1.00      1.00        11\n",
            "          SG       1.00      1.00      1.00         9\n",
            "\n",
            "    accuracy                           1.00        20\n",
            "   macro avg       1.00      1.00      1.00        20\n",
            "weighted avg       1.00      1.00      1.00        20\n",
            "\n",
            "\n",
            "accuracy : 1.0\n"
          ]
        }
      ]
    },
    {
      "cell_type": "code",
      "metadata": {
        "id": "7f547788",
        "outputId": "5d2a8a1f-7c53-4c45-f5fc-dc14f57af531"
      },
      "source": [
        "# 실제값(ground truth)과 예측값(prediction)이 어느 정도 일치하는 눈으로 직접 비교해봅니다\n",
        "comparison = pd.DataFrame({'prediction':y_pred, 'ground_truth':y_true.values.ravel()}) \n",
        "comparison"
      ],
      "id": "7f547788",
      "execution_count": null,
      "outputs": [
        {
          "data": {
            "text/html": [
              "<div>\n",
              "<style scoped>\n",
              "    .dataframe tbody tr th:only-of-type {\n",
              "        vertical-align: middle;\n",
              "    }\n",
              "\n",
              "    .dataframe tbody tr th {\n",
              "        vertical-align: top;\n",
              "    }\n",
              "\n",
              "    .dataframe thead th {\n",
              "        text-align: right;\n",
              "    }\n",
              "</style>\n",
              "<table border=\"1\" class=\"dataframe\">\n",
              "  <thead>\n",
              "    <tr style=\"text-align: right;\">\n",
              "      <th></th>\n",
              "      <th>prediction</th>\n",
              "      <th>ground_truth</th>\n",
              "    </tr>\n",
              "  </thead>\n",
              "  <tbody>\n",
              "    <tr>\n",
              "      <th>0</th>\n",
              "      <td>C</td>\n",
              "      <td>C</td>\n",
              "    </tr>\n",
              "    <tr>\n",
              "      <th>1</th>\n",
              "      <td>SG</td>\n",
              "      <td>SG</td>\n",
              "    </tr>\n",
              "    <tr>\n",
              "      <th>2</th>\n",
              "      <td>C</td>\n",
              "      <td>C</td>\n",
              "    </tr>\n",
              "    <tr>\n",
              "      <th>3</th>\n",
              "      <td>SG</td>\n",
              "      <td>SG</td>\n",
              "    </tr>\n",
              "    <tr>\n",
              "      <th>4</th>\n",
              "      <td>C</td>\n",
              "      <td>C</td>\n",
              "    </tr>\n",
              "    <tr>\n",
              "      <th>5</th>\n",
              "      <td>C</td>\n",
              "      <td>C</td>\n",
              "    </tr>\n",
              "    <tr>\n",
              "      <th>6</th>\n",
              "      <td>C</td>\n",
              "      <td>C</td>\n",
              "    </tr>\n",
              "    <tr>\n",
              "      <th>7</th>\n",
              "      <td>SG</td>\n",
              "      <td>SG</td>\n",
              "    </tr>\n",
              "    <tr>\n",
              "      <th>8</th>\n",
              "      <td>SG</td>\n",
              "      <td>SG</td>\n",
              "    </tr>\n",
              "    <tr>\n",
              "      <th>9</th>\n",
              "      <td>C</td>\n",
              "      <td>C</td>\n",
              "    </tr>\n",
              "    <tr>\n",
              "      <th>10</th>\n",
              "      <td>SG</td>\n",
              "      <td>SG</td>\n",
              "    </tr>\n",
              "    <tr>\n",
              "      <th>11</th>\n",
              "      <td>C</td>\n",
              "      <td>C</td>\n",
              "    </tr>\n",
              "    <tr>\n",
              "      <th>12</th>\n",
              "      <td>SG</td>\n",
              "      <td>SG</td>\n",
              "    </tr>\n",
              "    <tr>\n",
              "      <th>13</th>\n",
              "      <td>C</td>\n",
              "      <td>C</td>\n",
              "    </tr>\n",
              "    <tr>\n",
              "      <th>14</th>\n",
              "      <td>C</td>\n",
              "      <td>C</td>\n",
              "    </tr>\n",
              "    <tr>\n",
              "      <th>15</th>\n",
              "      <td>SG</td>\n",
              "      <td>SG</td>\n",
              "    </tr>\n",
              "    <tr>\n",
              "      <th>16</th>\n",
              "      <td>SG</td>\n",
              "      <td>SG</td>\n",
              "    </tr>\n",
              "    <tr>\n",
              "      <th>17</th>\n",
              "      <td>C</td>\n",
              "      <td>C</td>\n",
              "    </tr>\n",
              "    <tr>\n",
              "      <th>18</th>\n",
              "      <td>SG</td>\n",
              "      <td>SG</td>\n",
              "    </tr>\n",
              "    <tr>\n",
              "      <th>19</th>\n",
              "      <td>C</td>\n",
              "      <td>C</td>\n",
              "    </tr>\n",
              "  </tbody>\n",
              "</table>\n",
              "</div>"
            ],
            "text/plain": [
              "   prediction ground_truth\n",
              "0           C            C\n",
              "1          SG           SG\n",
              "2           C            C\n",
              "3          SG           SG\n",
              "4           C            C\n",
              "5           C            C\n",
              "6           C            C\n",
              "7          SG           SG\n",
              "8          SG           SG\n",
              "9           C            C\n",
              "10         SG           SG\n",
              "11          C            C\n",
              "12         SG           SG\n",
              "13          C            C\n",
              "14          C            C\n",
              "15         SG           SG\n",
              "16         SG           SG\n",
              "17          C            C\n",
              "18         SG           SG\n",
              "19          C            C"
            ]
          },
          "execution_count": 22,
          "metadata": {},
          "output_type": "execute_result"
        }
      ]
    },
    {
      "cell_type": "code",
      "metadata": {
        "id": "b7a17c89"
      },
      "source": [
        ""
      ],
      "id": "b7a17c89",
      "execution_count": null,
      "outputs": []
    },
    {
      "cell_type": "code",
      "metadata": {
        "id": "fa785b45"
      },
      "source": [
        ""
      ],
      "id": "fa785b45",
      "execution_count": null,
      "outputs": []
    }
  ]
}